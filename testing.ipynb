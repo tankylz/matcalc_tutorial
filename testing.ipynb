{
 "cells": [
  {
   "cell_type": "code",
   "execution_count": 4,
   "id": "166af51c",
   "metadata": {},
   "outputs": [],
   "source": [
    "import crystal_toolkit\n",
    "import os\n",
    "from pymatgen.core import Structure\n",
    "from mp_api.client import MPRester\n",
    "import matcalc as mtc"
   ]
  },
  {
   "cell_type": "markdown",
   "id": "6909b7df",
   "metadata": {},
   "source": [
    "# Aug 13\n",
    "## Ti3Al\n",
    "mp-1823\n",
    "\n",
    "Bulk Modulus, Voigt-Reuss-Hill 114 GPa\n",
    "\n",
    "Shear Modulus, Voigt-Reuss-Hill 61 GPa"
   ]
  },
  {
   "cell_type": "code",
   "execution_count": null,
   "id": "6a398c5d",
   "metadata": {},
   "outputs": [
    {
     "name": "stderr",
     "output_type": "stream",
     "text": [
      "Retrieving MaterialsDoc documents: 100%|██████████| 1/1 [00:00<00:00, 9446.63it/s]\n"
     ]
    },
    {
     "name": "stdout",
     "output_type": "stream",
     "text": [
      "Bulk Modulus VRH: 95.34341826459924 GPa\n",
      "Young's Modulus: 113.92171580876683 GPa\n",
      "Shear Modulus VRH: 43.78717102226818 GPa\n"
     ]
    }
   ],
   "source": [
    "# bulk, young, shear\n",
    "\n",
    "MP_API_KEY = 'd3bZ5jRgDZ3uYsKhZnUK4agoNYBjj4og'\n",
    "\n",
    "mpr =  MPRester(MP_API_KEY)\n",
    "alloy = mpr.get_structure_by_material_id(\"mp-1823\")\n",
    "\n",
    "calc1 = mtc.ElasticityCalc('TensorNet-MatPES-PBE-v2025.1-PES', relax_structure=True)\n",
    "props1 = calc1.calc(alloy)\n",
    "\n",
    "UNITS_MULTIPLIER = 160.2176621 # unit conversions for eV/A^3 to GPa\n",
    "\n",
    "print(f\"Bulk Modulus VRH: {props1['bulk_modulus_vrh'] * UNITS_MULTIPLIER} GPa\")\n",
    "print(f\"Young's Modulus: {props1['youngs_modulus'] * UNITS_MULTIPLIER * 1e-9} GPa\")\n",
    "print(f\"Shear Modulus VRH: {props1['shear_modulus_vrh'] * UNITS_MULTIPLIER} GPa\")"
   ]
  },
  {
   "cell_type": "code",
   "execution_count": null,
   "id": "03ffa7ad",
   "metadata": {},
   "outputs": [
    {
     "name": "stdout",
     "output_type": "stream",
     "text": [
      "Bulk Modulus VRH: 89.0018949330056 GPa\n",
      "Young's Modulus: 117.07717717950942 GPa\n",
      "Shear Modulus VRH: 45.706169370217566 GPa\n"
     ]
    }
   ],
   "source": [
    "calc2 = mtc.ElasticityCalc('TensorNet-MatPES-r2SCAN-v2025.1-PES', relax_structure=True)\n",
    "props2 = calc2.calc(alloy)\n",
    "\n",
    "UNITS_MULTIPLIER = 160.2176621 # unit conversions for eV/A^3 to GPa\n",
    "\n",
    "print(f\"Bulk Modulus VRH: {props2['bulk_modulus_vrh'] * UNITS_MULTIPLIER} GPa\")\n",
    "print(f\"Young's Modulus: {props2['youngs_modulus'] * UNITS_MULTIPLIER * 1e-9} GPa\")\n",
    "print(f\"Shear Modulus VRH: {props2['shear_modulus_vrh'] * UNITS_MULTIPLIER} GPa\")"
   ]
  },
  {
   "cell_type": "code",
   "execution_count": null,
   "id": "9b1af710",
   "metadata": {},
   "outputs": [
    {
     "name": "stdout",
     "output_type": "stream",
     "text": [
      "Bulk Modulus VRH: 63.88638380970163 GPa\n",
      "Young's Modulus: 74.16036654176011 GPa\n",
      "Shear Modulus VRH: 28.380646884569657 GPa\n"
     ]
    }
   ],
   "source": [
    "calc3 = mtc.ElasticityCalc('M3GNet-MatPES-PBE-v2025.1-PES', relax_structure=True)\n",
    "props3 = calc3.calc(alloy)\n",
    "\n",
    "UNITS_MULTIPLIER = 160.2176621 # unit conversions for eV/A^3 to GPa\n",
    "\n",
    "print(f\"Bulk Modulus VRH: {props3['bulk_modulus_vrh'] * UNITS_MULTIPLIER} GPa\")\n",
    "print(f\"Young's Modulus: {props3['youngs_modulus'] * UNITS_MULTIPLIER * 1e-9} GPa\")\n",
    "print(f\"Shear Modulus VRH: {props3['shear_modulus_vrh'] * UNITS_MULTIPLIER} GPa\")"
   ]
  },
  {
   "cell_type": "code",
   "execution_count": null,
   "id": "6fdb5def",
   "metadata": {},
   "outputs": [
    {
     "name": "stdout",
     "output_type": "stream",
     "text": [
      "Bulk Modulus VRH: 95.83748311974122 GPa\n",
      "Young's Modulus: 90.42265804232625 GPa\n",
      "Shear Modulus VRH: 33.6706971475062 GPa\n"
     ]
    }
   ],
   "source": [
    "calc4 = mtc.ElasticityCalc('M3GNet-MatPES-r2SCAN-v2025.1-PES', relax_structure=True)\n",
    "props4 = calc4.calc(alloy)\n",
    "\n",
    "UNITS_MULTIPLIER = 160.2176621 # unit conversions for eV/A^3 to GPa\n",
    "\n",
    "print(f\"Bulk Modulus VRH: {props4['bulk_modulus_vrh'] * UNITS_MULTIPLIER} GPa\")\n",
    "print(f\"Young's Modulus: {props4['youngs_modulus'] * UNITS_MULTIPLIER * 1e-9} GPa\")\n",
    "print(f\"Shear Modulus VRH: {props4['shear_modulus_vrh'] * UNITS_MULTIPLIER} GPa\")"
   ]
  },
  {
   "cell_type": "code",
   "execution_count": null,
   "id": "d7e96fe5",
   "metadata": {},
   "outputs": [
    {
     "name": "stdout",
     "output_type": "stream",
     "text": [
      "Bulk Modulus VRH: 115.67103992331232 GPa\n",
      "Young's Modulus: 152.56513394614979 GPa\n",
      "Shear Modulus VRH: 59.58766342051401 GPa\n"
     ]
    }
   ],
   "source": [
    "calc5 = mtc.ElasticityCalc('CHGNet-MatPES-PBE-2025.2.10-2.7M-PES', relax_structure=True)\n",
    "props5 = calc5.calc(alloy)\n",
    "\n",
    "UNITS_MULTIPLIER = 160.2176621 # unit conversions for eV/A^3 to GPa\n",
    "\n",
    "print(f\"Bulk Modulus VRH: {props5['bulk_modulus_vrh'] * UNITS_MULTIPLIER} GPa\")\n",
    "print(f\"Young's Modulus: {props5['youngs_modulus'] * UNITS_MULTIPLIER * 1e-9} GPa\")\n",
    "print(f\"Shear Modulus VRH: {props5['shear_modulus_vrh'] * UNITS_MULTIPLIER} GPa\")"
   ]
  },
  {
   "cell_type": "code",
   "execution_count": null,
   "id": "8145c76b",
   "metadata": {},
   "outputs": [
    {
     "name": "stdout",
     "output_type": "stream",
     "text": [
      "Bulk Modulus VRH: 72.66269285813222 GPa\n",
      "Young's Modulus: 126.32521805528577 GPa\n",
      "Shear Modulus VRH: 52.189831754814335 GPa\n"
     ]
    }
   ],
   "source": [
    "calc6 = mtc.ElasticityCalc('CHGNet-MatPES-r2SCAN-2025.2.10-2.7M-PES', relax_structure=True)\n",
    "props6 = calc6.calc(alloy)\n",
    "\n",
    "UNITS_MULTIPLIER = 160.2176621 # unit conversions for eV/A^3 to GPa\n",
    "\n",
    "print(f\"Bulk Modulus VRH: {props6['bulk_modulus_vrh'] * UNITS_MULTIPLIER} GPa\")\n",
    "print(f\"Young's Modulus: {props6['youngs_modulus'] * UNITS_MULTIPLIER * 1e-9} GPa\")\n",
    "print(f\"Shear Modulus VRH: {props6['shear_modulus_vrh'] * UNITS_MULTIPLIER} GPa\")"
   ]
  },
  {
   "cell_type": "code",
   "execution_count": 3,
   "id": "1d380e6b",
   "metadata": {},
   "outputs": [
    {
     "name": "stdout",
     "output_type": "stream",
     "text": [
      "Full Formula (Mn0.4 Al0.1 Cr1 Co0.5)\n",
      "Reduced Formula: Mn0.4Al0.1Cr1Co0.5\n",
      "abc   :   2.831552   2.831552   2.831552\n",
      "angles:  90.000000  90.000000  90.000000\n",
      "pbc   :       True       True       True\n",
      "Sites (2)\n",
      "  #  SP                                  a    b    c\n",
      "---  --------------------------------  ---  ---  ---\n",
      "  0  Mn:0.2, Al:0.05, Cr:0.5, Co:0.25  0    0    0\n",
      "  1  Mn:0.2, Al:0.05, Cr:0.5, Co:0.25  0.5  0.5  0.5\n"
     ]
    }
   ],
   "source": [
    "from pymatgen.core import Lattice, Structure\n",
    "\n",
    "a = 2.831552175  # Angstrom\n",
    "latt = Lattice.cubic(a)\n",
    "\n",
    "# disordered site composition\n",
    "species = {\"Al\": 0.05, \"Co\": 0.25, \"Cr\": 0.50, \"Mn\": 0.20}\n",
    "\n",
    "# bcc basis in the conventional cubic cell\n",
    "coords = [(0, 0, 0), (0.5, 0.5, 0.5)]\n",
    "\n",
    "# Two identical disordered sites\n",
    "struct = Structure(latt, [species, species], coords, validate_proximity=True)\n",
    "\n",
    "print(struct)"
   ]
  },
  {
   "cell_type": "markdown",
   "id": "80347dde",
   "metadata": {},
   "source": [
    "# Aug 14\n",
    "## Dataset parsing"
   ]
  },
  {
   "cell_type": "code",
   "execution_count": 13,
   "id": "846c89d9",
   "metadata": {},
   "outputs": [],
   "source": [
    "# ChatGPT Reference\n",
    "# import json\n",
    "# from pathlib import Path\n",
    "# from pymatgen.core import Lattice, Structure, Composition\n",
    "# from pymatgen.transformations.standard_transformations import (\n",
    "#     OrderDisorderedStructureTransformation\n",
    "# )\n",
    "\n",
    "# def _basis(crystal: str):\n",
    "#     c = crystal.strip().lower()\n",
    "#     if c == \"bcc\":\n",
    "#         return [(0,0,0), (0.5,0.5,0.5)]\n",
    "#     elif c == \"fcc\":\n",
    "#         return [(0,0,0), (0,0.5,0.5), (0.5,0,0.5), (0.5,0.5,0)]\n",
    "#     raise ValueError(f\"Unsupported crystal structure: {crystal}\")\n",
    "\n",
    "# def _species_dict(comp_str: str):\n",
    "#     # handles strings like \"Al0.05 Co0.25 Cr0.5 Mn0.2\"\n",
    "#     comp = Composition(comp_str.replace(\" \", \"\"))\n",
    "#     # normalize to fractions that sum to 1.0\n",
    "#     total = sum(comp.get_el_amt_dict().values())\n",
    "#     return {el: amt/total for el, amt in comp.get_el_amt_dict().items()}\n",
    "\n",
    "# def record_to_structure(rec: dict, ordered=False, min_sites=20):\n",
    "#     a = float(rec[\"Lattice constant\"])   # Å\n",
    "#     latt = Lattice.cubic(a)\n",
    "#     coords = _basis(rec[\"Crystal structure\"])\n",
    "#     species = _species_dict(rec[\"Composition\"])\n",
    "\n",
    "#     # make one disordered site per basis position\n",
    "#     struct = Structure(latt, [species]*len(coords), coords, validate_proximity=True)\n",
    "\n",
    "#     # stash useful metadata on the Structure object (optional)\n",
    "#     struct.annotations = {k: v for k, v in rec.items() if k not in {\"Composition\", \"Crystal structure\", \"Lattice constant\"}}\n",
    "\n",
    "#     if not ordered:\n",
    "#         return struct\n",
    "\n",
    "#     # --- Ordered approximant (optional) ---\n",
    "#     # grow until we have at least `min_sites` total atomic sites\n",
    "#     basis_sites = len(coords)\n",
    "#     mult = max(1, (min_sites + basis_sites - 1) // basis_sites)  # ceil(min_sites / basis)\n",
    "#     # turn scalar 'mult' into a near-cubic supercell (nx*ny*nz ~= mult)\n",
    "#     def fact3(n):\n",
    "#         # simple factorization into 3 integers near-cubic\n",
    "#         x=y=z=1\n",
    "#         f=2\n",
    "#         m=n\n",
    "#         while f*f<=m:\n",
    "#             while m%f==0:\n",
    "#                 # always multiply the smallest side\n",
    "#                 if x<=y and x<=z: x*=f\n",
    "#                 elif y<=x and y<=z: y*=f\n",
    "#                 else: z*=f\n",
    "#                 m//=f\n",
    "#             f+=1\n",
    "#         if m>1:\n",
    "#             if x<=y and x<=z: x*=m\n",
    "#             elif y<=x and y<=z: y*=m\n",
    "#             else: z*=m\n",
    "#         return (x,y,z)\n",
    "#     supercell = struct * fact3(mult)\n",
    "\n",
    "#     # order partial occupancies into concrete species\n",
    "#     ordered_struct = OrderDisorderedStructureTransformation().apply_transformation(\n",
    "#         supercell, return_ranked_list=1\n",
    "#     )[0][\"structure\"]\n",
    "#     return ordered_struct\n",
    "\n",
    "# def load_structures(json_path: str, ordered=False, min_sites=20):\n",
    "#     data = json.loads(Path(json_path).read_text())\n",
    "#     structures = []\n",
    "#     for rec in data:\n",
    "#         try:\n",
    "#             structures.append(record_to_structure(rec, ordered=ordered, min_sites=min_sites))\n",
    "#         except Exception as e:\n",
    "#             # keep going but report which entry failed\n",
    "#             print(f\"Skipped entry with Composition={rec.get('Composition')} due to: {e}\")\n",
    "#     return structures\n",
    "\n",
    "# # Example:\n",
    "# # structs = load_structures(\"data/dataset_Zhang_Compositiondesignhighentropy_2022.txt\", ordered=True)\n",
    "# # structs[0].to(fmt=\"poscar\")  # or Structure.to(filename=\"POSCAR\")"
   ]
  },
  {
   "cell_type": "code",
   "execution_count": 5,
   "id": "b4105852",
   "metadata": {},
   "outputs": [
    {
     "name": "stdout",
     "output_type": "stream",
     "text": [
      "total length of list: 7086\n"
     ]
    }
   ],
   "source": [
    "import json\n",
    "from pathlib import Path\n",
    "from pymatgen.core import Lattice, Structure, Composition\n",
    "\n",
    "def _basis(crystal: str):\n",
    "    ''' returns the basis coordinates, either bcc or fcc '''\n",
    "    c = crystal.strip().lower()\n",
    "    if c == \"bcc\":\n",
    "        return [(0,0,0), (0.5,0.5,0.5)]\n",
    "    elif c == \"fcc\":\n",
    "        return [(0,0,0), (0,0.5,0.5), (0.5,0,0.5), (0.5,0.5,0)]\n",
    "    raise ValueError(f\"Unsupported crystal structure: {crystal}\")\n",
    "\n",
    "def _species_dict(comp_str: str): \n",
    "    ''' returns a dictionary of the species, normalized to 1.0 '''\n",
    "    comp = Composition(comp_str)\n",
    "    total = sum(comp.get_el_amt_dict().values())\n",
    "    return {el: amt/total for el, amt in comp.get_el_amt_dict().items()}\n",
    "\n",
    "def record_to_structure(rec: dict):\n",
    "    a = float(rec[\"Lattice constant\"])   # Å\n",
    "    latt = Lattice.cubic(a)\n",
    "    coords = _basis(rec[\"Crystal structure\"])\n",
    "    species = _species_dict(rec[\"Composition\"])\n",
    "\n",
    "    # make one disordered site per basis position\n",
    "    struct = Structure(latt, [species]*len(coords), coords, validate_proximity=True)\n",
    "\n",
    "    # stash other properties as annotations\n",
    "    struct.annotations = {k: v for k, v in rec.items() if k not in {\"Composition\", \"Crystal structure\", \"Lattice constant\"}}\n",
    "\n",
    "    return struct\n",
    "\n",
    "def load_structures(json_path: str):\n",
    "    data = json.loads(Path(json_path).read_text())\n",
    "    structures = []\n",
    "    for rec in data:\n",
    "        try:\n",
    "            structures.append(record_to_structure(rec))\n",
    "        except Exception as e:\n",
    "            # keep going but report which entry failed\n",
    "            print(f\"Skipped entry with Composition={rec.get('Composition')} due to: {e}\")\n",
    "    return structures\n",
    "\n",
    "# Example:\n",
    "structs = load_structures(\"data/dataset_Zhang_Compositiondesignhighentropy_2022.txt\")\n",
    "print(f'total length of list: {len(structs)}')\n",
    "# structs[0].to(fmt=\"poscar\")  # or Structure.to(filename=\"POSCAR\")"
   ]
  },
  {
   "cell_type": "code",
   "execution_count": 43,
   "id": "c9d54a8a",
   "metadata": {},
   "outputs": [
    {
     "name": "stdout",
     "output_type": "stream",
     "text": [
      "Full Formula (Mn0.4 Al0.1 Cr1 Co0.5)\n",
      "Reduced Formula: Mn0.4Al0.1Cr1Co0.5\n",
      "abc   :   2.831552   2.831552   2.831552\n",
      "angles:  90.000000  90.000000  90.000000\n",
      "pbc   :       True       True       True\n",
      "Sites (2)\n",
      "  #  SP                                  a    b    c\n",
      "---  --------------------------------  ---  ---  ---\n",
      "  0  Mn:0.2, Al:0.05, Cr:0.5, Co:0.25  0    0    0\n",
      "  1  Mn:0.2, Al:0.05, Cr:0.5, Co:0.25  0.5  0.5  0.5\n"
     ]
    },
    {
     "data": {
      "text/html": [
       "\n",
       "        <iframe\n",
       "            width=\"100%\"\n",
       "            height=\"650\"\n",
       "            src=\"http://127.0.0.1:8884/\"\n",
       "            frameborder=\"0\"\n",
       "            allowfullscreen\n",
       "            \n",
       "        ></iframe>\n",
       "        "
      ],
      "text/plain": [
       "<IPython.lib.display.IFrame at 0x1722b0aa0>"
      ]
     },
     "metadata": {},
     "output_type": "display_data"
    }
   ],
   "source": [
    "print(structs[0])\n",
    "structs[0]"
   ]
  },
  {
   "cell_type": "code",
   "execution_count": 7,
   "id": "2ffff249",
   "metadata": {},
   "outputs": [
    {
     "data": {
      "text/html": [
       "\n",
       "        <iframe\n",
       "            width=\"100%\"\n",
       "            height=\"650\"\n",
       "            src=\"http://127.0.0.1:8884/\"\n",
       "            frameborder=\"0\"\n",
       "            allowfullscreen\n",
       "            \n",
       "        ></iframe>\n",
       "        "
      ],
      "text/plain": [
       "<IPython.lib.display.IFrame at 0x16811b8f0>"
      ]
     },
     "metadata": {},
     "output_type": "display_data"
    }
   ],
   "source": [
    "import crystal_toolkit\n",
    "\n",
    "structs[1]"
   ]
  },
  {
   "cell_type": "code",
   "execution_count": 3,
   "id": "8a193545",
   "metadata": {},
   "outputs": [
    {
     "name": "stderr",
     "output_type": "stream",
     "text": [
      "/Users/drago/Documents/GitHub/zzz_tutorials_repo/matcalc_tutorial/.venv/lib/python3.12/site-packages/tqdm/auto.py:21: TqdmWarning: IProgress not found. Please update jupyter and ipywidgets. See https://ipywidgets.readthedocs.io/en/stable/user_install.html\n",
      "  from .autonotebook import tqdm as notebook_tqdm\n"
     ]
    }
   ],
   "source": [
    "from mp_api.client import MPRester\n",
    "import matcalc as mtc"
   ]
  },
  {
   "cell_type": "code",
   "execution_count": 47,
   "id": "d24b1f36",
   "metadata": {},
   "outputs": [
    {
     "ename": "ValueError",
     "evalue": "ASE Atoms only supports ordered structures",
     "output_type": "error",
     "traceback": [
      "\u001b[31m---------------------------------------------------------------------------\u001b[39m",
      "\u001b[31m_RemoteTraceback\u001b[39m                          Traceback (most recent call last)",
      "\u001b[31m_RemoteTraceback\u001b[39m: \n\"\"\"\nTraceback (most recent call last):\n  File \"/Users/drago/Documents/GitHub/zzz_tutorials_repo/matcalc_tutorial/.venv/lib/python3.12/site-packages/joblib/externals/loky/process_executor.py\", line 490, in _process_worker\n    r = call_item()\n        ^^^^^^^^^^^\n  File \"/Users/drago/Documents/GitHub/zzz_tutorials_repo/matcalc_tutorial/.venv/lib/python3.12/site-packages/joblib/externals/loky/process_executor.py\", line 291, in __call__\n    return self.fn(*self.args, **self.kwargs)\n           ^^^^^^^^^^^^^^^^^^^^^^^^^^^^^^^^^^\n  File \"/Users/drago/Documents/GitHub/zzz_tutorials_repo/matcalc_tutorial/.venv/lib/python3.12/site-packages/joblib/parallel.py\", line 607, in __call__\n    return [func(*args, **kwargs) for func, args, kwargs in self.items]\n            ^^^^^^^^^^^^^^^^^^^^^\n  File \"/Users/drago/Documents/GitHub/zzz_tutorials_repo/matcalc_tutorial/.venv/lib/python3.12/site-packages/matcalc/_base.py\", line 147, in _func\n    raise ex  # noqa:TRY201\n    ^^^^^^^^\n  File \"/Users/drago/Documents/GitHub/zzz_tutorials_repo/matcalc_tutorial/.venv/lib/python3.12/site-packages/matcalc/_base.py\", line 143, in _func\n    return self.calc(s)\n           ^^^^^^^^^^^^\n  File \"/Users/drago/Documents/GitHub/zzz_tutorials_repo/matcalc_tutorial/.venv/lib/python3.12/site-packages/matcalc/_elasticity.py\", line 136, in calc\n    result |= relax_calc.calc(structure_in)\n              ^^^^^^^^^^^^^^^^^^^^^^^^^^^^^\n  File \"/Users/drago/Documents/GitHub/zzz_tutorials_repo/matcalc_tutorial/.venv/lib/python3.12/site-packages/matcalc/_relaxation.py\", line 148, in calc\n    r = run_pes_calc(\n        ^^^^^^^^^^^^^\n  File \"/Users/drago/Documents/GitHub/zzz_tutorials_repo/matcalc_tutorial/.venv/lib/python3.12/site-packages/matcalc/backend/__init__.py\", line 31, in run_pes_calc\n    return run_ase(*arg, **kwargs)\n           ^^^^^^^^^^^^^^^^^^^^^^^\n  File \"/Users/drago/Documents/GitHub/zzz_tutorials_repo/matcalc_tutorial/.venv/lib/python3.12/site-packages/matcalc/backend/_ase.py\", line 206, in run_ase\n    atoms = to_ase_atoms(structure)\n            ^^^^^^^^^^^^^^^^^^^^^^^\n  File \"/Users/drago/Documents/GitHub/zzz_tutorials_repo/matcalc_tutorial/.venv/lib/python3.12/site-packages/matcalc/utils.py\", line 448, in to_ase_atoms\n    return structure if isinstance(structure, Atoms) else AseAtomsAdaptor.get_atoms(structure)\n                                                          ^^^^^^^^^^^^^^^^^^^^^^^^^^^^^^^^^^^^\n  File \"/Users/drago/Documents/GitHub/zzz_tutorials_repo/matcalc_tutorial/.venv/lib/python3.12/site-packages/pymatgen/io/ase.py\", line 108, in get_atoms\n    raise ValueError(\"ASE Atoms only supports ordered structures\")\nValueError: ASE Atoms only supports ordered structures\n\"\"\"",
      "\nThe above exception was the direct cause of the following exception:\n",
      "\u001b[31mValueError\u001b[39m                                Traceback (most recent call last)",
      "\u001b[36mCell\u001b[39m\u001b[36m \u001b[39m\u001b[32mIn[47]\u001b[39m\u001b[32m, line 9\u001b[39m\n\u001b[32m      6\u001b[39m iap = \u001b[33m'\u001b[39m\u001b[33mCHGNet-MatPES-PBE-2025.2.10-2.7M-PES\u001b[39m\u001b[33m'\u001b[39m\n\u001b[32m      8\u001b[39m calc = mtc.ElasticityCalc(iap, relax_structure=\u001b[38;5;28;01mTrue\u001b[39;00m)\n\u001b[32m----> \u001b[39m\u001b[32m9\u001b[39m elasticity_data = \u001b[38;5;28;43mlist\u001b[39;49m\u001b[43m(\u001b[49m\u001b[43mcalc\u001b[49m\u001b[43m.\u001b[49m\u001b[43mcalc_many\u001b[49m\u001b[43m(\u001b[49m\u001b[43mshorter_list\u001b[49m\u001b[43m,\u001b[49m\u001b[43m \u001b[49m\u001b[43mn_jobs\u001b[49m\u001b[43m=\u001b[49m\u001b[43m-\u001b[49m\u001b[32;43m1\u001b[39;49m\u001b[43m)\u001b[49m\u001b[43m)\u001b[49m\n\u001b[32m     11\u001b[39m \u001b[38;5;28;01mfor\u001b[39;00m index \u001b[38;5;129;01min\u001b[39;00m \u001b[38;5;28mrange\u001b[39m(\u001b[38;5;28mlen\u001b[39m(shorter_list)):\n\u001b[32m     12\u001b[39m     \u001b[38;5;28mprint\u001b[39m(\u001b[33mf\u001b[39m\u001b[33m\"\u001b[39m\u001b[33mStructure \u001b[39m\u001b[38;5;132;01m{\u001b[39;00mindex\u001b[38;5;250m \u001b[39m+\u001b[38;5;250m \u001b[39m\u001b[32m1\u001b[39m\u001b[38;5;132;01m}\u001b[39;00m\u001b[33m: \u001b[39m\u001b[38;5;132;01m{\u001b[39;00mshorter_list[index].composition\u001b[38;5;132;01m}\u001b[39;00m\u001b[33m\"\u001b[39m)\n",
      "\u001b[36mFile \u001b[39m\u001b[32m~/Documents/GitHub/zzz_tutorials_repo/matcalc_tutorial/.venv/lib/python3.12/site-packages/joblib/parallel.py:1682\u001b[39m, in \u001b[36mParallel._get_outputs\u001b[39m\u001b[34m(self, iterator, pre_dispatch)\u001b[39m\n\u001b[32m   1679\u001b[39m     \u001b[38;5;28;01myield\u001b[39;00m\n\u001b[32m   1681\u001b[39m     \u001b[38;5;28;01mwith\u001b[39;00m \u001b[38;5;28mself\u001b[39m._backend.retrieval_context():\n\u001b[32m-> \u001b[39m\u001b[32m1682\u001b[39m         \u001b[38;5;28;01myield from\u001b[39;00m \u001b[38;5;28mself\u001b[39m._retrieve()\n\u001b[32m   1684\u001b[39m \u001b[38;5;28;01mexcept\u001b[39;00m \u001b[38;5;167;01mGeneratorExit\u001b[39;00m:\n\u001b[32m   1685\u001b[39m     \u001b[38;5;66;03m# The generator has been garbage collected before being fully\u001b[39;00m\n\u001b[32m   1686\u001b[39m     \u001b[38;5;66;03m# consumed. This aborts the remaining tasks if possible and warn\u001b[39;00m\n\u001b[32m   1687\u001b[39m     \u001b[38;5;66;03m# the user if necessary.\u001b[39;00m\n\u001b[32m   1688\u001b[39m     \u001b[38;5;28mself\u001b[39m._exception = \u001b[38;5;28;01mTrue\u001b[39;00m\n",
      "\u001b[36mFile \u001b[39m\u001b[32m~/Documents/GitHub/zzz_tutorials_repo/matcalc_tutorial/.venv/lib/python3.12/site-packages/joblib/parallel.py:1784\u001b[39m, in \u001b[36mParallel._retrieve\u001b[39m\u001b[34m(self)\u001b[39m\n\u001b[32m   1778\u001b[39m \u001b[38;5;28;01mwhile\u001b[39;00m \u001b[38;5;28mself\u001b[39m._wait_retrieval():\n\u001b[32m   1779\u001b[39m     \u001b[38;5;66;03m# If the callback thread of a worker has signaled that its task\u001b[39;00m\n\u001b[32m   1780\u001b[39m     \u001b[38;5;66;03m# triggered an exception, or if the retrieval loop has raised an\u001b[39;00m\n\u001b[32m   1781\u001b[39m     \u001b[38;5;66;03m# exception (e.g. `GeneratorExit`), exit the loop and surface the\u001b[39;00m\n\u001b[32m   1782\u001b[39m     \u001b[38;5;66;03m# worker traceback.\u001b[39;00m\n\u001b[32m   1783\u001b[39m     \u001b[38;5;28;01mif\u001b[39;00m \u001b[38;5;28mself\u001b[39m._aborting:\n\u001b[32m-> \u001b[39m\u001b[32m1784\u001b[39m         \u001b[38;5;28;43mself\u001b[39;49m\u001b[43m.\u001b[49m\u001b[43m_raise_error_fast\u001b[49m\u001b[43m(\u001b[49m\u001b[43m)\u001b[49m\n\u001b[32m   1785\u001b[39m         \u001b[38;5;28;01mbreak\u001b[39;00m\n\u001b[32m   1787\u001b[39m     nb_jobs = \u001b[38;5;28mlen\u001b[39m(\u001b[38;5;28mself\u001b[39m._jobs)\n",
      "\u001b[36mFile \u001b[39m\u001b[32m~/Documents/GitHub/zzz_tutorials_repo/matcalc_tutorial/.venv/lib/python3.12/site-packages/joblib/parallel.py:1859\u001b[39m, in \u001b[36mParallel._raise_error_fast\u001b[39m\u001b[34m(self)\u001b[39m\n\u001b[32m   1855\u001b[39m \u001b[38;5;66;03m# If this error job exists, immediately raise the error by\u001b[39;00m\n\u001b[32m   1856\u001b[39m \u001b[38;5;66;03m# calling get_result. This job might not exists if abort has been\u001b[39;00m\n\u001b[32m   1857\u001b[39m \u001b[38;5;66;03m# called directly or if the generator is gc'ed.\u001b[39;00m\n\u001b[32m   1858\u001b[39m \u001b[38;5;28;01mif\u001b[39;00m error_job \u001b[38;5;129;01mis\u001b[39;00m \u001b[38;5;129;01mnot\u001b[39;00m \u001b[38;5;28;01mNone\u001b[39;00m:\n\u001b[32m-> \u001b[39m\u001b[32m1859\u001b[39m     \u001b[43merror_job\u001b[49m\u001b[43m.\u001b[49m\u001b[43mget_result\u001b[49m\u001b[43m(\u001b[49m\u001b[38;5;28;43mself\u001b[39;49m\u001b[43m.\u001b[49m\u001b[43mtimeout\u001b[49m\u001b[43m)\u001b[49m\n",
      "\u001b[36mFile \u001b[39m\u001b[32m~/Documents/GitHub/zzz_tutorials_repo/matcalc_tutorial/.venv/lib/python3.12/site-packages/joblib/parallel.py:758\u001b[39m, in \u001b[36mBatchCompletionCallBack.get_result\u001b[39m\u001b[34m(self, timeout)\u001b[39m\n\u001b[32m    752\u001b[39m backend = \u001b[38;5;28mself\u001b[39m.parallel._backend\n\u001b[32m    754\u001b[39m \u001b[38;5;28;01mif\u001b[39;00m backend.supports_retrieve_callback:\n\u001b[32m    755\u001b[39m     \u001b[38;5;66;03m# We assume that the result has already been retrieved by the\u001b[39;00m\n\u001b[32m    756\u001b[39m     \u001b[38;5;66;03m# callback thread, and is stored internally. It's just waiting to\u001b[39;00m\n\u001b[32m    757\u001b[39m     \u001b[38;5;66;03m# be returned.\u001b[39;00m\n\u001b[32m--> \u001b[39m\u001b[32m758\u001b[39m     \u001b[38;5;28;01mreturn\u001b[39;00m \u001b[38;5;28;43mself\u001b[39;49m\u001b[43m.\u001b[49m\u001b[43m_return_or_raise\u001b[49m\u001b[43m(\u001b[49m\u001b[43m)\u001b[49m\n\u001b[32m    760\u001b[39m \u001b[38;5;66;03m# For other backends, the main thread needs to run the retrieval step.\u001b[39;00m\n\u001b[32m    761\u001b[39m \u001b[38;5;28;01mtry\u001b[39;00m:\n",
      "\u001b[36mFile \u001b[39m\u001b[32m~/Documents/GitHub/zzz_tutorials_repo/matcalc_tutorial/.venv/lib/python3.12/site-packages/joblib/parallel.py:773\u001b[39m, in \u001b[36mBatchCompletionCallBack._return_or_raise\u001b[39m\u001b[34m(self)\u001b[39m\n\u001b[32m    771\u001b[39m \u001b[38;5;28;01mtry\u001b[39;00m:\n\u001b[32m    772\u001b[39m     \u001b[38;5;28;01mif\u001b[39;00m \u001b[38;5;28mself\u001b[39m.status == TASK_ERROR:\n\u001b[32m--> \u001b[39m\u001b[32m773\u001b[39m         \u001b[38;5;28;01mraise\u001b[39;00m \u001b[38;5;28mself\u001b[39m._result\n\u001b[32m    774\u001b[39m     \u001b[38;5;28;01mreturn\u001b[39;00m \u001b[38;5;28mself\u001b[39m._result\n\u001b[32m    775\u001b[39m \u001b[38;5;28;01mfinally\u001b[39;00m:\n",
      "\u001b[31mValueError\u001b[39m: ASE Atoms only supports ordered structures"
     ]
    }
   ],
   "source": [
    "MP_API_KEY = 'd3bZ5jRgDZ3uYsKhZnUK4agoNYBjj4og'\n",
    "mpr =  MPRester(MP_API_KEY)\n",
    "UNITS_MULTIPLIER = 160.2176621 # unit conversions for eV/A^3 to GPa\n",
    "\n",
    "shorter_list = structs[:10]  \n",
    "iap = 'CHGNet-MatPES-PBE-2025.2.10-2.7M-PES'\n",
    "\n",
    "calc = mtc.ElasticityCalc(iap, relax_structure=True)\n",
    "elasticity_data = list(calc.calc_many(shorter_list, n_jobs=-1))\n",
    "\n",
    "for index in range(len(shorter_list)):\n",
    "    print(f\"Structure {index + 1}: {shorter_list[index].composition}\")\n",
    "    pred_props = elasticity_data[index]\n",
    "    g_pred = pred_props['shear_modulus_vrh'] * UNITS_MULTIPLIER\n",
    "    b_pred = pred_props['bulk_modulus_vrh'] * UNITS_MULTIPLIER\n",
    "    e_pred = pred_props['youngs_modulus'] * UNITS_MULTIPLIER * 1e-9\n",
    "\n",
    "    g_actual = shorter_list[index].annotations['Shear modulus']\n",
    "    b_actual = shorter_list[index].annotations['Bulk modulus']\n",
    "\n",
    "    print(f\"Bulk Modulus VRH: {b_pred} GPa (Actual: {b_actual} GPa)\")\n",
    "    print(f\"Young's Modulus: {e_pred} GPa\")\n",
    "    print(f\"Shear Modulus VRH: {g_pred} GPa (Actual: {g_actual} GPa)\")"
   ]
  },
  {
   "cell_type": "code",
   "execution_count": 4,
   "id": "2ef0b496",
   "metadata": {},
   "outputs": [
    {
     "ename": "ValueError",
     "evalue": "ASE Atoms only supports ordered structures",
     "output_type": "error",
     "traceback": [
      "\u001b[31m---------------------------------------------------------------------------\u001b[39m",
      "\u001b[31mValueError\u001b[39m                                Traceback (most recent call last)",
      "\u001b[36mCell\u001b[39m\u001b[36m \u001b[39m\u001b[32mIn[4]\u001b[39m\u001b[32m, line 8\u001b[39m\n\u001b[32m      5\u001b[39m iap = \u001b[33m'\u001b[39m\u001b[33mCHGNet-MatPES-PBE-2025.2.10-2.7M-PES\u001b[39m\u001b[33m'\u001b[39m\n\u001b[32m      7\u001b[39m calculator = mtc.ElasticityCalc(iap, relax_structure=\u001b[38;5;28;01mTrue\u001b[39;00m)\n\u001b[32m----> \u001b[39m\u001b[32m8\u001b[39m elasticity_data = \u001b[43mcalculator\u001b[49m\u001b[43m.\u001b[49m\u001b[43mcalc\u001b[49m\u001b[43m(\u001b[49m\u001b[43mstructs\u001b[49m\u001b[43m[\u001b[49m\u001b[32;43m0\u001b[39;49m\u001b[43m]\u001b[49m\u001b[43m)\u001b[49m\n",
      "\u001b[36mFile \u001b[39m\u001b[32m~/Documents/GitHub/zzz_tutorials_repo/matcalc_tutorial/.venv/lib/python3.12/site-packages/matcalc/_elasticity.py:136\u001b[39m, in \u001b[36mElasticityCalc.calc\u001b[39m\u001b[34m(self, structure)\u001b[39m\n\u001b[32m    134\u001b[39m relax_calc = RelaxCalc(\u001b[38;5;28mself\u001b[39m.calculator, fmax=\u001b[38;5;28mself\u001b[39m.fmax, **(\u001b[38;5;28mself\u001b[39m.relax_calc_kwargs \u001b[38;5;129;01mor\u001b[39;00m {}))\n\u001b[32m    135\u001b[39m \u001b[38;5;28;01mif\u001b[39;00m \u001b[38;5;28mself\u001b[39m.relax_structure:\n\u001b[32m--> \u001b[39m\u001b[32m136\u001b[39m     result |= \u001b[43mrelax_calc\u001b[49m\u001b[43m.\u001b[49m\u001b[43mcalc\u001b[49m\u001b[43m(\u001b[49m\u001b[43mstructure_in\u001b[49m\u001b[43m)\u001b[49m\n\u001b[32m    137\u001b[39m     structure_in = result[\u001b[33m\"\u001b[39m\u001b[33mfinal_structure\u001b[39m\u001b[33m\"\u001b[39m]\n\u001b[32m    138\u001b[39m \u001b[38;5;28;01mif\u001b[39;00m \u001b[38;5;28mself\u001b[39m.relax_deformed_structures:\n",
      "\u001b[36mFile \u001b[39m\u001b[32m~/Documents/GitHub/zzz_tutorials_repo/matcalc_tutorial/.venv/lib/python3.12/site-packages/matcalc/_relaxation.py:148\u001b[39m, in \u001b[36mRelaxCalc.calc\u001b[39m\u001b[34m(self, structure)\u001b[39m\n\u001b[32m    145\u001b[39m \u001b[38;5;28;01mif\u001b[39;00m \u001b[38;5;28mself\u001b[39m.perturb_distance \u001b[38;5;129;01mis\u001b[39;00m \u001b[38;5;129;01mnot\u001b[39;00m \u001b[38;5;28;01mNone\u001b[39;00m:\n\u001b[32m    146\u001b[39m     structure_in = to_pmg_structure(structure_in).perturb(distance=\u001b[38;5;28mself\u001b[39m.perturb_distance, seed=\u001b[38;5;28;01mNone\u001b[39;00m)\n\u001b[32m--> \u001b[39m\u001b[32m148\u001b[39m r = \u001b[43mrun_pes_calc\u001b[49m\u001b[43m(\u001b[49m\n\u001b[32m    149\u001b[39m \u001b[43m    \u001b[49m\u001b[43mstructure_in\u001b[49m\u001b[43m,\u001b[49m\n\u001b[32m    150\u001b[39m \u001b[43m    \u001b[49m\u001b[38;5;28;43mself\u001b[39;49m\u001b[43m.\u001b[49m\u001b[43mcalculator\u001b[49m\u001b[43m,\u001b[49m\n\u001b[32m    151\u001b[39m \u001b[43m    \u001b[49m\u001b[43mrelax_atoms\u001b[49m\u001b[43m=\u001b[49m\u001b[38;5;28;43mself\u001b[39;49m\u001b[43m.\u001b[49m\u001b[43mrelax_atoms\u001b[49m\u001b[43m,\u001b[49m\n\u001b[32m    152\u001b[39m \u001b[43m    \u001b[49m\u001b[43mrelax_cell\u001b[49m\u001b[43m=\u001b[49m\u001b[38;5;28;43mself\u001b[39;49m\u001b[43m.\u001b[49m\u001b[43mrelax_cell\u001b[49m\u001b[43m,\u001b[49m\n\u001b[32m    153\u001b[39m \u001b[43m    \u001b[49m\u001b[43moptimizer\u001b[49m\u001b[43m=\u001b[49m\u001b[38;5;28;43mself\u001b[39;49m\u001b[43m.\u001b[49m\u001b[43moptimizer\u001b[49m\u001b[43m,\u001b[49m\n\u001b[32m    154\u001b[39m \u001b[43m    \u001b[49m\u001b[43mmax_steps\u001b[49m\u001b[43m=\u001b[49m\u001b[38;5;28;43mself\u001b[39;49m\u001b[43m.\u001b[49m\u001b[43mmax_steps\u001b[49m\u001b[43m,\u001b[49m\n\u001b[32m    155\u001b[39m \u001b[43m    \u001b[49m\u001b[43mtraj_file\u001b[49m\u001b[43m=\u001b[49m\u001b[38;5;28;43mself\u001b[39;49m\u001b[43m.\u001b[49m\u001b[43mtraj_file\u001b[49m\u001b[43m,\u001b[49m\n\u001b[32m    156\u001b[39m \u001b[43m    \u001b[49m\u001b[43minterval\u001b[49m\u001b[43m=\u001b[49m\u001b[38;5;28;43mself\u001b[39;49m\u001b[43m.\u001b[49m\u001b[43minterval\u001b[49m\u001b[43m,\u001b[49m\n\u001b[32m    157\u001b[39m \u001b[43m    \u001b[49m\u001b[43mfmax\u001b[49m\u001b[43m=\u001b[49m\u001b[38;5;28;43mself\u001b[39;49m\u001b[43m.\u001b[49m\u001b[43mfmax\u001b[49m\u001b[43m,\u001b[49m\n\u001b[32m    158\u001b[39m \u001b[43m    \u001b[49m\u001b[43mcell_filter\u001b[49m\u001b[43m=\u001b[49m\u001b[38;5;28;43mself\u001b[39;49m\u001b[43m.\u001b[49m\u001b[43mcell_filter\u001b[49m\u001b[43m,\u001b[49m\n\u001b[32m    159\u001b[39m \u001b[43m\u001b[49m\u001b[43m)\u001b[49m\n\u001b[32m    161\u001b[39m lattice = r.structure.lattice\n\u001b[32m    162\u001b[39m result.update(\n\u001b[32m    163\u001b[39m     {\n\u001b[32m    164\u001b[39m         \u001b[33m\"\u001b[39m\u001b[33mfinal_structure\u001b[39m\u001b[33m\"\u001b[39m: r.structure,\n\u001b[32m   (...)\u001b[39m\u001b[32m    175\u001b[39m     }\n\u001b[32m    176\u001b[39m )\n",
      "\u001b[36mFile \u001b[39m\u001b[32m~/Documents/GitHub/zzz_tutorials_repo/matcalc_tutorial/.venv/lib/python3.12/site-packages/matcalc/backend/__init__.py:31\u001b[39m, in \u001b[36mrun_pes_calc\u001b[39m\u001b[34m(*arg, **kwargs)\u001b[39m\n\u001b[32m     13\u001b[39m \u001b[38;5;250m\u001b[39m\u001b[33;03m\"\"\"\u001b[39;00m\n\u001b[32m     14\u001b[39m \u001b[33;03mExecutes the potential energy surface (PES) calculation using the appropriate backend.\u001b[39;00m\n\u001b[32m     15\u001b[39m \n\u001b[32m   (...)\u001b[39m\u001b[32m     28\u001b[39m \u001b[33;03m:rtype: SimulationResult\u001b[39;00m\n\u001b[32m     29\u001b[39m \u001b[33;03m\"\"\"\u001b[39;00m\n\u001b[32m     30\u001b[39m \u001b[38;5;28;01mif\u001b[39;00m SIMULATION_BACKEND == \u001b[33m\"\u001b[39m\u001b[33mASE\u001b[39m\u001b[33m\"\u001b[39m:\n\u001b[32m---> \u001b[39m\u001b[32m31\u001b[39m     \u001b[38;5;28;01mreturn\u001b[39;00m \u001b[43mrun_ase\u001b[49m\u001b[43m(\u001b[49m\u001b[43m*\u001b[49m\u001b[43marg\u001b[49m\u001b[43m,\u001b[49m\u001b[43m \u001b[49m\u001b[43m*\u001b[49m\u001b[43m*\u001b[49m\u001b[43mkwargs\u001b[49m\u001b[43m)\u001b[49m\n\u001b[32m     32\u001b[39m \u001b[38;5;28;01mreturn\u001b[39;00m run_lammps(*arg, **kwargs)\n",
      "\u001b[36mFile \u001b[39m\u001b[32m~/Documents/GitHub/zzz_tutorials_repo/matcalc_tutorial/.venv/lib/python3.12/site-packages/matcalc/backend/_ase.py:206\u001b[39m, in \u001b[36mrun_ase\u001b[39m\u001b[34m(structure, calculator, relax_atoms, relax_cell, optimizer, max_steps, traj_file, interval, fmax, cell_filter)\u001b[39m\n\u001b[32m    183\u001b[39m \u001b[38;5;28;01mdef\u001b[39;00m\u001b[38;5;250m \u001b[39m\u001b[34mrun_ase\u001b[39m(\n\u001b[32m    184\u001b[39m     structure: Structure | Atoms,\n\u001b[32m    185\u001b[39m     calculator: Calculator,\n\u001b[32m   (...)\u001b[39m\u001b[32m    194\u001b[39m     cell_filter: Filter = FrechetCellFilter,  \u001b[38;5;66;03m# type:ignore[assignment]\u001b[39;00m\n\u001b[32m    195\u001b[39m ) -> SimulationResult:\n\u001b[32m    196\u001b[39m \u001b[38;5;250m    \u001b[39m\u001b[33;03m\"\"\"\u001b[39;00m\n\u001b[32m    197\u001b[39m \u001b[33;03m    Run ASE static calculation using the given structure and calculator.\u001b[39;00m\n\u001b[32m    198\u001b[39m \n\u001b[32m   (...)\u001b[39m\u001b[32m    204\u001b[39m \u001b[33;03m    PESResult: Object containing potential energy, forces, and stress of the input structure.\u001b[39;00m\n\u001b[32m    205\u001b[39m \u001b[33;03m    \"\"\"\u001b[39;00m\n\u001b[32m--> \u001b[39m\u001b[32m206\u001b[39m     atoms = \u001b[43mto_ase_atoms\u001b[49m\u001b[43m(\u001b[49m\u001b[43mstructure\u001b[49m\u001b[43m)\u001b[49m\n\u001b[32m    207\u001b[39m     atoms.calc = calculator\n\u001b[32m    208\u001b[39m     \u001b[38;5;28;01mif\u001b[39;00m relax_atoms:\n",
      "\u001b[36mFile \u001b[39m\u001b[32m~/Documents/GitHub/zzz_tutorials_repo/matcalc_tutorial/.venv/lib/python3.12/site-packages/matcalc/utils.py:448\u001b[39m, in \u001b[36mto_ase_atoms\u001b[39m\u001b[34m(structure)\u001b[39m\n\u001b[32m    436\u001b[39m \u001b[38;5;28;01mdef\u001b[39;00m\u001b[38;5;250m \u001b[39m\u001b[34mto_ase_atoms\u001b[39m(structure: Atoms | Structure) -> Atoms:\n\u001b[32m    437\u001b[39m \u001b[38;5;250m    \u001b[39m\u001b[33;03m\"\"\"\u001b[39;00m\n\u001b[32m    438\u001b[39m \u001b[33;03m    Converts a given structure into an ASE Atoms object. This function checks\u001b[39;00m\n\u001b[32m    439\u001b[39m \u001b[33;03m    if the input structure is already an ASE Atoms object. If not, it converts\u001b[39;00m\n\u001b[32m   (...)\u001b[39m\u001b[32m    446\u001b[39m \u001b[33;03m    :rtype: Atoms\u001b[39;00m\n\u001b[32m    447\u001b[39m \u001b[33;03m    \"\"\"\u001b[39;00m\n\u001b[32m--> \u001b[39m\u001b[32m448\u001b[39m     \u001b[38;5;28;01mreturn\u001b[39;00m structure \u001b[38;5;28;01mif\u001b[39;00m \u001b[38;5;28misinstance\u001b[39m(structure, Atoms) \u001b[38;5;28;01melse\u001b[39;00m \u001b[43mAseAtomsAdaptor\u001b[49m\u001b[43m.\u001b[49m\u001b[43mget_atoms\u001b[49m\u001b[43m(\u001b[49m\u001b[43mstructure\u001b[49m\u001b[43m)\u001b[49m\n",
      "\u001b[36mFile \u001b[39m\u001b[32m~/Documents/GitHub/zzz_tutorials_repo/matcalc_tutorial/.venv/lib/python3.12/site-packages/pymatgen/io/ase.py:108\u001b[39m, in \u001b[36mAseAtomsAdaptor.get_atoms\u001b[39m\u001b[34m(structure, msonable, **kwargs)\u001b[39m\n\u001b[32m    106\u001b[39m     \u001b[38;5;28;01mraise\u001b[39;00m NO_ASE_ERR\n\u001b[32m    107\u001b[39m \u001b[38;5;28;01mif\u001b[39;00m \u001b[38;5;129;01mnot\u001b[39;00m structure.is_ordered:\n\u001b[32m--> \u001b[39m\u001b[32m108\u001b[39m     \u001b[38;5;28;01mraise\u001b[39;00m \u001b[38;5;167;01mValueError\u001b[39;00m(\u001b[33m\"\u001b[39m\u001b[33mASE Atoms only supports ordered structures\u001b[39m\u001b[33m\"\u001b[39m)\n\u001b[32m    110\u001b[39m \u001b[38;5;66;03m# Construct the base ASE Atoms object\u001b[39;00m\n\u001b[32m    111\u001b[39m symbols = [\u001b[38;5;28mstr\u001b[39m(site.specie.symbol) \u001b[38;5;28;01mfor\u001b[39;00m site \u001b[38;5;129;01min\u001b[39;00m structure]\n",
      "\u001b[31mValueError\u001b[39m: ASE Atoms only supports ordered structures"
     ]
    }
   ],
   "source": [
    "MP_API_KEY = 'd3bZ5jRgDZ3uYsKhZnUK4agoNYBjj4og'\n",
    "mpr =  MPRester(MP_API_KEY)\n",
    "UNITS_MULTIPLIER = 160.2176621 # unit conversions for eV/A^3 to GPa\n",
    " \n",
    "iap = 'CHGNet-MatPES-PBE-2025.2.10-2.7M-PES'\n",
    "\n",
    "calculator = mtc.ElasticityCalc(iap, relax_structure=True)\n",
    "elasticity_data = calculator.calc(structs[0])"
   ]
  },
  {
   "cell_type": "markdown",
   "id": "836ad233",
   "metadata": {},
   "source": [
    "# Aug 15\n",
    "## Obtaining and predicting elastic data from MP database"
   ]
  },
  {
   "cell_type": "code",
   "execution_count": 9,
   "id": "02edbe72",
   "metadata": {},
   "outputs": [
    {
     "name": "stderr",
     "output_type": "stream",
     "text": [
      "/Users/drago/Documents/GitHub/zzz_tutorials_repo/matcalc_tutorial/.venv/lib/python3.12/site-packages/mp_api/client/core/client.py:519: UserWarning:\n",
      "\n",
      "Ignoring `fields` argument: All fields are always included when no query is provided.\n",
      "\n",
      "Retrieving ElasticityDoc documents: 100%|██████████| 13283/13283 [01:14<00:00, 177.35it/s]\n",
      "Retrieving ElasticityDoc documents: 100%|██████████| 13283/13283 [01:14<00:00, 177.35it/s]\n"
     ]
    }
   ],
   "source": [
    "from mp_api.client import MPRester\n",
    "\n",
    "MP_API_KEY = 'd3bZ5jRgDZ3uYsKhZnUK4agoNYBjj4og'\n",
    "mpr = MPRester(MP_API_KEY)\n",
    "\n",
    "# Query elasticity data for all materials with both k_vrh and g_vrh present\n",
    "results = mpr.materials.elasticity.search(fields=[\"material_id\", \"formula_pretty\", \"bulk_modulus\", \"shear_modulus\"])"
   ]
  },
  {
   "cell_type": "code",
   "execution_count": 10,
   "id": "5ca84fed",
   "metadata": {},
   "outputs": [
    {
     "name": "stdout",
     "output_type": "stream",
     "text": [
      "13081\n"
     ]
    }
   ],
   "source": [
    "filtered_materials = [\n",
    "    r for r in results\n",
    "    if r.bulk_modulus is not None and r.shear_modulus is not None\n",
    "       and r.bulk_modulus.vrh is not None and r.shear_modulus.vrh is not None\n",
    "]\n",
    "\n",
    "\n",
    "print(len(filtered_materials))\n",
    "# for mat in filtered_materials:\n",
    "#     print(f\"ID: {mat.material_id}, Formula: {mat.formula_pretty}, Bulk Modulus: {mat.bulk_modulus.vrh} GPa, Shear Modulus: {mat.shear_modulus.vrh} GPa\")"
   ]
  },
  {
   "cell_type": "code",
   "execution_count": 13,
   "id": "9f5ba9f0",
   "metadata": {},
   "outputs": [
    {
     "name": "stdout",
     "output_type": "stream",
     "text": [
      "Number of structures found: 13081\n",
      "Full Formula (Si8)\n",
      "Reduced Formula: Si\n",
      "abc   :   5.067839   5.426316   7.071498\n",
      "angles: 104.461371 113.118119  96.167379\n",
      "pbc   :       True       True       True\n",
      "Sites (8)\n",
      "  #  SP           a         b         c    magmom\n",
      "---  ----  --------  --------  --------  --------\n",
      "  0  Si    0.642237  0.022137  0.883032         0\n",
      "  1  Si    0.704045  0.205613  0.259132         0\n",
      "  2  Si    0.446628  0.576051  0.69145          0\n",
      "  3  Si    0.172415  0.21043   0.106119         0\n",
      "  4  Si    0.210404  0.226269  0.755736        -0\n",
      "  5  Si    0.09713   0.557086  0.345945         0\n",
      "  6  Si    0.658249  0.219429  0.606709        -0\n",
      "  7  Si    0.123748  0.99813   0.374167         0\n"
     ]
    }
   ],
   "source": [
    "# Extract pymatgen Structure objects from filtered_materials\n",
    "structures = [mat.structure for mat in filtered_materials if hasattr(mat, 'structure') and mat.structure is not None]\n",
    "print(f\"Number of structures found: {len(structures)}\")\n",
    "if structures:\n",
    "    print(structures[0])"
   ]
  },
  {
   "cell_type": "code",
   "execution_count": 12,
   "id": "b6d2021e",
   "metadata": {},
   "outputs": [
    {
     "data": {
      "text/plain": [
       "MPID(mp-1120447)"
      ]
     },
     "execution_count": 12,
     "metadata": {},
     "output_type": "execute_result"
    }
   ],
   "source": [
    "filtered_materials[0].material_id"
   ]
  },
  {
   "cell_type": "code",
   "execution_count": 27,
   "id": "7f3bbc18",
   "metadata": {},
   "outputs": [
    {
     "name": "stderr",
     "output_type": "stream",
     "text": [
      "Retrieving MaterialsDoc documents: 100%|██████████| 1/1 [00:00<00:00, 11125.47it/s]\n",
      "\n",
      "/Users/drago/Documents/GitHub/zzz_tutorials_repo/matcalc_tutorial/.venv/lib/python3.12/site-packages/dgl/core.py:82: DGLWarning: The input graph for the user-defined edge function does not contain valid edges\n",
      "  dgl_warning(\n",
      "/Users/drago/Documents/GitHub/zzz_tutorials_repo/matcalc_tutorial/.venv/lib/python3.12/site-packages/dgl/core.py:82: DGLWarning: The input graph for the user-defined edge function does not contain valid edges\n",
      "  dgl_warning(\n",
      "/Users/drago/Documents/GitHub/zzz_tutorials_repo/matcalc_tutorial/.venv/lib/python3.12/site-packages/dgl/core.py:82: DGLWarning: The input graph for the user-defined edge function does not contain valid edges\n",
      "  dgl_warning(\n",
      "/Users/drago/Documents/GitHub/zzz_tutorials_repo/matcalc_tutorial/.venv/lib/python3.12/site-packages/dgl/core.py:82: DGLWarning: The input graph for the user-defined edge function does not contain valid edges\n",
      "  dgl_warning(\n",
      "/Users/drago/Documents/GitHub/zzz_tutorials_repo/matcalc_tutorial/.venv/lib/python3.12/site-packages/dgl/core.py:82: DGLWarning: The input graph for the user-defined edge function does not contain valid edges\n",
      "  dgl_warning(\n",
      "/Users/drago/Documents/GitHub/zzz_tutorials_repo/matcalc_tutorial/.venv/lib/python3.12/site-packages/dgl/core.py:82: DGLWarning: The input graph for the user-defined edge function does not contain valid edges\n",
      "  dgl_warning(\n"
     ]
    },
    {
     "name": "stdout",
     "output_type": "stream",
     "text": [
      "0\n",
      "Bulk Modulus VRH: 59.550428117846835 GPa\n",
      "Young's Modulus: 57.68644778261495 GPa\n",
      "Shear Modulus VRH: 21.54810859453634 GPa\n",
      "1\n",
      "Bulk Modulus VRH: 81.73738165298857 GPa\n",
      "Young's Modulus: 46.626656974559765 GPa\n",
      "Shear Modulus VRH: 16.59399174828304 GPa\n",
      "2\n",
      "Bulk Modulus VRH: 284.5078565377415 GPa\n",
      "Young's Modulus: 565.5258178349594 GPa\n",
      "Shear Modulus VRH: 241.94423740703294 GPa\n",
      "3\n",
      "Bulk Modulus VRH: 131.79701444591336 GPa\n",
      "Young's Modulus: 9.735426421108825 GPa\n",
      "Shear Modulus VRH: 3.2719968071633896 GPa\n",
      "4\n",
      "Bulk Modulus VRH: 135.29850864626349 GPa\n",
      "Young's Modulus: 203.07294044561985 GPa\n",
      "Shear Modulus VRH: 81.23919778932756 GPa\n",
      "5\n",
      "Bulk Modulus VRH: 39.7893199613068 GPa\n",
      "Young's Modulus: -2.4928788956447523 GPa\n",
      "Shear Modulus VRH: -0.8252150385641207 GPa\n",
      "6\n",
      "Bulk Modulus VRH: 17.3344812330073 GPa\n",
      "Young's Modulus: 6.84907011673458 GPa\n",
      "Shear Modulus VRH: 2.3878534538081335 GPa\n",
      "7\n",
      "Bulk Modulus VRH: 44.34432796310489 GPa\n",
      "Young's Modulus: 19.272324964558667 GPa\n",
      "Shear Modulus VRH: 6.750066257260944 GPa\n",
      "8\n",
      "Bulk Modulus VRH: 112.35962076469407 GPa\n",
      "Young's Modulus: 3.8619087403685337 GPa\n",
      "Shear Modulus VRH: 1.2922379654093876 GPa\n",
      "9\n",
      "Bulk Modulus VRH: 9.738306475289546 GPa\n",
      "Young's Modulus: 10.10828631877216 GPa\n",
      "Shear Modulus VRH: 3.808694964781588 GPa\n"
     ]
    }
   ],
   "source": [
    "# bulk, young, shear\n",
    "MP_API_KEY = 'd3bZ5jRgDZ3uYsKhZnUK4agoNYBjj4og'\n",
    "\n",
    "mpr =  MPRester(MP_API_KEY)\n",
    "alloy = mpr.get_structure_by_material_id(\"mp-1823\")\n",
    "\n",
    "shorter_list = filtered_materials[:10]\n",
    "structs = [mat.structure for mat in shorter_list]\n",
    "\n",
    "iap = 'CHGNet-MatPES-PBE-2025.2.10-2.7M-PES'\n",
    "calculator = mtc.ElasticityCalc(iap, relax_structure=True)\n",
    "elasticity_data = list(calculator.calc_many(structs, n_jobs=-1))\n",
    "\n",
    "UNITS_MULTIPLIER = 160.2176621 # unit conversions for eV/A^3 to GPa\n",
    "\n",
    "for index, props in enumerate(elasticity_data):\n",
    "    print(index)\n",
    "    print(f\"Bulk Modulus VRH: {props['bulk_modulus_vrh'] * UNITS_MULTIPLIER} GPa\")\n",
    "    print(f\"Young's Modulus: {props['youngs_modulus'] * UNITS_MULTIPLIER * 1e-9} GPa\")\n",
    "    print(f\"Shear Modulus VRH: {props['shear_modulus_vrh'] * UNITS_MULTIPLIER} GPa\")"
   ]
  },
  {
   "cell_type": "code",
   "execution_count": 26,
   "id": "c548c590",
   "metadata": {},
   "outputs": [
    {
     "data": {
      "text/plain": [
       "401.484"
      ]
     },
     "execution_count": 26,
     "metadata": {},
     "output_type": "execute_result"
    }
   ],
   "source": [
    "filtered_materials[2].bulk_modulus.vrh"
   ]
  }
 ],
 "metadata": {
  "kernelspec": {
   "display_name": ".venv",
   "language": "python",
   "name": "python3"
  },
  "language_info": {
   "codemirror_mode": {
    "name": "ipython",
    "version": 3
   },
   "file_extension": ".py",
   "mimetype": "text/x-python",
   "name": "python",
   "nbconvert_exporter": "python",
   "pygments_lexer": "ipython3",
   "version": "3.12.0"
  }
 },
 "nbformat": 4,
 "nbformat_minor": 5
}
