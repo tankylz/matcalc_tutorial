{
 "cells": [
  {
   "cell_type": "code",
   "execution_count": 1,
   "id": "04173e9e",
   "metadata": {
    "slideshow": {
     "slide_type": "skip"
    }
   },
   "outputs": [],
   "source": [
    "import warnings\n",
    "warnings.filterwarnings('ignore')"
   ]
  },
  {
   "cell_type": "markdown",
   "id": "4e0994c5",
   "metadata": {
    "slideshow": {
     "slide_type": "skip"
    }
   },
   "source": [
    "# About this notebook\n",
    "\n",
    "Author: Anubhav Jain\n",
    "\n",
    "Github repo: https://github.com/computron/matcalc_tutorial/\n",
    "\n",
    "Video tutorial: https://youtu.be/57Elhe4IIhI"
   ]
  },
  {
   "cell_type": "markdown",
   "id": "859b5f2c",
   "metadata": {
    "slideshow": {
     "slide_type": "slide"
    }
   },
   "source": [
    "![Matcalc tutorial](graphics/title.png \"Matcalc Tutorial\")"
   ]
  },
  {
   "cell_type": "markdown",
   "id": "cfa4dbfc",
   "metadata": {
    "slideshow": {
     "slide_type": "slide"
    }
   },
   "source": [
    "# Tutorial overview\n",
    "\n",
    "In this tutorial, we are going to learn to very quickly simulate materials properties such as surface energies, thermal properties, and mechanical properties using the *matcalc* software. Advancements in machine learning interatomic potentials have made such simulations extremely fast and simple.\n",
    "\n",
    "\n",
    "More information about the theory of machine learned potentials can be found in a previous video: https://youtu.be/tWeBrPTrSDE\n",
    "\n",
    "In this tutorial, we'll focus on hands-on practical running of simulations. We will complete the following tasks:\n",
    "\n",
    "1. Optimize structural parameters and calculate the total energy of GaAs\n",
    "    - Repeat the calculation with a different interatomic potential / potential energy surface from matgl\n",
    "    - Repeat the calculation with a different potential from the internet\n",
    "2. Calculate surface energy of Si(111)\n",
    "3. Calculate the phonon dispersion of Si\n",
    "4. Calculate the elastic tensors of 25 different materials with parallelization\n",
    "\n",
    "Let's get started!"
   ]
  },
  {
   "cell_type": "markdown",
   "id": "b131c3c9",
   "metadata": {
    "slideshow": {
     "slide_type": "slide"
    }
   },
   "source": [
    "# Installation of packages\n",
    "\n",
    "The first step is to install all required packages via ``pip``. We need:\n",
    "\n",
    "* the core ``matcalc`` library\n",
    "\n",
    "Additionally, it is highly recommended (and necessary for this tutorial) to install:\n",
    "* the ``matgl`` library, which provides some universal potential for us to use\n",
    "* the ``seekpath`` library, which is needed to calculate phonon band structures\n",
    "\n",
    "Finally, it is optional to install:\n",
    "* the ``crystal_toolkit`` library, which helps with visualization in the notebook"
   ]
  },
  {
   "cell_type": "code",
   "execution_count": 2,
   "id": "80ba6507",
   "metadata": {
    "slideshow": {
     "slide_type": "fragment"
    }
   },
   "outputs": [],
   "source": [
    "# !pip install matcalc\n",
    "\n",
    "# !pip install matgl\n",
    "# !pip install seekpath\n",
    "\n",
    "# !pip install crystal-toolkit"
   ]
  },
  {
   "cell_type": "markdown",
   "id": "4ea517c2",
   "metadata": {
    "slideshow": {
     "slide_type": "slide"
    }
   },
   "source": [
    "# Task 1. Optimize structural parameters and calculate the total energy of GaAs\n",
    "\n",
    "One of the most common tasks in materials modeling is optimizing the structural parameters of a crystal structure and calculating its total energy following the relaxation.\n",
    "\n",
    "As the target structure, we will load the experimental structure of GaAs from the Crystallography Open Database, or COD, from a CIF file.\n",
    "\n",
    "If you use structures from the COD for your own work, please make sure to cite their resource: https://wiki.crystallography.net/cod/citing/\n"
   ]
  },
  {
   "cell_type": "markdown",
   "id": "91635d6c",
   "metadata": {
    "slideshow": {
     "slide_type": "slide"
    }
   },
   "source": [
    "Let's start by loading and visualizing the GaAs structure. We will use the *pymatgen* code to create a ``Structure`` object.\n",
    "\n",
    "For more details about *pymatgen* ``Structure`` objects, as well as additional ways to load crystal structures, see Part 1 of the pymatgen tutorial: https://youtu.be/b0tieiedGdg"
   ]
  },
  {
   "cell_type": "code",
   "execution_count": 3,
   "id": "31515d25",
   "metadata": {
    "slideshow": {
     "slide_type": "fragment"
    }
   },
   "outputs": [
    {
     "name": "stdout",
     "output_type": "stream",
     "text": [
      "Full Formula (Ga4 As4)\n",
      "Reduced Formula: GaAs\n",
      "abc   :   5.653700   5.653700   5.653700\n",
      "angles:  90.000000  90.000000  90.000000\n",
      "pbc   :       True       True       True\n",
      "Sites (8)\n",
      "  #  SP       a     b     c\n",
      "---  ----  ----  ----  ----\n",
      "  0  Ga    0     0     0\n",
      "  1  Ga    0     0.5   0.5\n",
      "  2  Ga    0.5   0     0.5\n",
      "  3  Ga    0.5   0.5   0\n",
      "  4  As    0.25  0.25  0.25\n",
      "  5  As    0.25  0.75  0.75\n",
      "  6  As    0.75  0.25  0.75\n",
      "  7  As    0.75  0.75  0.25\n"
     ]
    },
    {
     "data": {
      "text/html": [
       "\n",
       "        <iframe\n",
       "            width=\"100%\"\n",
       "            height=\"650\"\n",
       "            src=\"http://127.0.0.1:8884/\"\n",
       "            frameborder=\"0\"\n",
       "            allowfullscreen\n",
       "            \n",
       "        ></iframe>\n",
       "        "
      ],
      "text/plain": [
       "<IPython.lib.display.IFrame at 0x7f79d2073740>"
      ]
     },
     "metadata": {},
     "output_type": "display_data"
    }
   ],
   "source": [
    "import crystal_toolkit  # for interactive visualization only; can omit if causing problems\n",
    "import os\n",
    "from pymatgen.core import Structure\n",
    "\n",
    "# Get a structure we want to optimize\n",
    "gaas_expt = Structure.from_file(os.path.join(\"structures\", \"GaAs.cif\"))  # expt. structure from COD\n",
    "print(gaas_expt)\n",
    "gaas_expt"
   ]
  },
  {
   "cell_type": "markdown",
   "id": "a1958a80",
   "metadata": {
    "slideshow": {
     "slide_type": "fragment"
    }
   },
   "source": [
    "Let's now perturb the structure from its initial position. We will do this by expanding the lattice parameters as well as adding random noise to the atom positions."
   ]
  },
  {
   "cell_type": "code",
   "execution_count": 4,
   "id": "2ecf6547",
   "metadata": {
    "slideshow": {
     "slide_type": "fragment"
    }
   },
   "outputs": [
    {
     "name": "stdout",
     "output_type": "stream",
     "text": [
      "Full Formula (Ga4 As4)\n",
      "Reduced Formula: GaAs\n",
      "abc   :   6.007953   6.007953   6.007953\n",
      "angles:  90.000000  90.000000  90.000000\n",
      "pbc   :       True       True       True\n",
      "Sites (8)\n",
      "  #  SP           a         b         c\n",
      "---  ----  --------  --------  --------\n",
      "  0  Ga    0.009005  0.011749  0.992344\n",
      "  1  Ga    0.009718  0.519051  0.509379\n",
      "  2  Ga    0.511374  0.997019  0.50229\n",
      "  3  Ga    0.503599  0.496592  0.995347\n",
      "  4  As    0.248679  0.249762  0.250481\n",
      "  5  As    0.281917  0.750602  0.753249\n",
      "  6  As    0.7523    0.248792  0.754207\n",
      "  7  As    0.767896  0.77708   0.2407\n"
     ]
    },
    {
     "data": {
      "text/html": [
       "\n",
       "        <iframe\n",
       "            width=\"100%\"\n",
       "            height=\"650\"\n",
       "            src=\"http://127.0.0.1:8884/\"\n",
       "            frameborder=\"0\"\n",
       "            allowfullscreen\n",
       "            \n",
       "        ></iframe>\n",
       "        "
      ],
      "text/plain": [
       "<IPython.lib.display.IFrame at 0x7f79cfb4f800>"
      ]
     },
     "metadata": {},
     "output_type": "display_data"
    }
   ],
   "source": [
    "gaas_perturbed = gaas_expt.copy().perturb(0.2)  # perturb atom positions\n",
    "gaas_perturbed.scale_lattice(gaas_expt.volume * 1.2)  # expand the lattice\n",
    "\n",
    "print(gaas_perturbed)\n",
    "gaas_perturbed"
   ]
  },
  {
   "cell_type": "markdown",
   "id": "b5b79292",
   "metadata": {
    "slideshow": {
     "slide_type": "fragment"
    }
   },
   "source": [
    "Ok, now it's time to optimize our perturbed structure using universal potentials. The first thing we need to do is to select a potential energy surface. The *matcalc* code refers to these as \"calculators\".\n",
    "\n",
    "We can print out a list of all calculators bundled with the *matgl* code that we previously installed (later we'll show how to use other potentials not bundled with *matgl*)."
   ]
  },
  {
   "cell_type": "code",
   "execution_count": 5,
   "id": "fabbba45",
   "metadata": {
    "slideshow": {
     "slide_type": "fragment"
    }
   },
   "outputs": [
    {
     "name": "stdout",
     "output_type": "stream",
     "text": [
      "[<UNIVERSAL_CALCULATORS.CHGNet: 'CHGNet'>,\n",
      " <UNIVERSAL_CALCULATORS.CHGNet-MPtrj-2023.12.1-2.7M-PES: 'CHGNet-MPtrj-2023.12.1-2.7M-PES'>,\n",
      " <UNIVERSAL_CALCULATORS.CHGNet-MPtrj-2024.2.13-11M-PES: 'CHGNet-MPtrj-2024.2.13-11M-PES'>,\n",
      " <UNIVERSAL_CALCULATORS.CHGNet-MatPES-PBE-2025.2.10-2.7M-PES: 'CHGNet-MatPES-PBE-2025.2.10-2.7M-PES'>,\n",
      " <UNIVERSAL_CALCULATORS.CHGNet-MatPES-r2SCAN-2025.2.10-2.7M-PES: 'CHGNet-MatPES-r2SCAN-2025.2.10-2.7M-PES'>,\n",
      " <UNIVERSAL_CALCULATORS.DeePMD: 'DeePMD'>,\n",
      " <UNIVERSAL_CALCULATORS.FAIRChem: 'FAIRChem'>,\n",
      " <UNIVERSAL_CALCULATORS.GRACE: 'GRACE'>,\n",
      " <UNIVERSAL_CALCULATORS.M3GNet: 'M3GNet'>,\n",
      " <UNIVERSAL_CALCULATORS.M3GNet-ANI-1x-Subset-PES: 'M3GNet-ANI-1x-Subset-PES'>,\n",
      " <UNIVERSAL_CALCULATORS.M3GNet-MP-2021.2.8-DIRECT-PES: 'M3GNet-MP-2021.2.8-DIRECT-PES'>,\n",
      " <UNIVERSAL_CALCULATORS.M3GNet-MP-2021.2.8-PES: 'M3GNet-MP-2021.2.8-PES'>,\n",
      " <UNIVERSAL_CALCULATORS.M3GNet-MatPES-PBE-v2025.1-PES: 'M3GNet-MatPES-PBE-v2025.1-PES'>,\n",
      " <UNIVERSAL_CALCULATORS.M3GNet-MatPES-r2SCAN-v2025.1-PES: 'M3GNet-MatPES-r2SCAN-v2025.1-PES'>,\n",
      " <UNIVERSAL_CALCULATORS.MACE: 'MACE'>,\n",
      " <UNIVERSAL_CALCULATORS.MatterSim: 'MatterSim'>,\n",
      " <UNIVERSAL_CALCULATORS.ORB: 'ORB'>,\n",
      " <UNIVERSAL_CALCULATORS.PBE: 'PBE'>,\n",
      " <UNIVERSAL_CALCULATORS.PETMAD: 'PETMAD'>,\n",
      " <UNIVERSAL_CALCULATORS.SO3Net-ANI-1x-Subset-PES: 'SO3Net-ANI-1x-Subset-PES'>,\n",
      " <UNIVERSAL_CALCULATORS.SevenNet: 'SevenNet'>,\n",
      " <UNIVERSAL_CALCULATORS.TensorNet: 'TensorNet'>,\n",
      " <UNIVERSAL_CALCULATORS.TensorNet-ANI-1x-Subset-PES: 'TensorNet-ANI-1x-Subset-PES'>,\n",
      " <UNIVERSAL_CALCULATORS.TensorNet-MatPES-PBE-v2025.1-PES: 'TensorNet-MatPES-PBE-v2025.1-PES'>,\n",
      " <UNIVERSAL_CALCULATORS.TensorNet-MatPES-r2SCAN-v2025.1-PES: 'TensorNet-MatPES-r2SCAN-v2025.1-PES'>,\n",
      " <UNIVERSAL_CALCULATORS.TensorPotential: 'TensorPotential'>,\n",
      " <UNIVERSAL_CALCULATORS.r2SCAN: 'r2SCAN'>]\n"
     ]
    }
   ],
   "source": [
    "import matcalc\n",
    "from matcalc.utils import UNIVERSAL_CALCULATORS\n",
    "\n",
    "import pprint\n",
    "pprint.pprint(list(UNIVERSAL_CALCULATORS))  # calculators that come with bundled with matgl"
   ]
  },
  {
   "cell_type": "markdown",
   "id": "98750e65",
   "metadata": {
    "slideshow": {
     "slide_type": "fragment"
    }
   },
   "source": [
    "For ease of use, we can use shortcuts to get \"recommended\" potentials for various levels of theory used in the training data. Note that these recommended potentials might change with time, so if you need stability you should specify the potential name explicitly.\n",
    "\n",
    "For now, we'll load the default model that is trained on DFT-PBE level data."
   ]
  },
  {
   "cell_type": "code",
   "execution_count": 6,
   "id": "5b515e00",
   "metadata": {
    "slideshow": {
     "slide_type": "fragment"
    }
   },
   "outputs": [
    {
     "name": "stdout",
     "output_type": "stream",
     "text": [
      "{'chgnet': 'CHGNet-MatPES-PBE-2025.2.10-2.7M-PES',\n",
      " 'm3gnet': 'M3GNet-MatPES-PBE-v2025.1-PES',\n",
      " 'pbe': 'TensorNet-MatPES-PBE-v2025.1-PES',\n",
      " 'r2scan': 'TensorNet-MatPES-r2SCAN-v2025.1-PES',\n",
      " 'tensornet': 'TensorNet-MatPES-PBE-v2025.1-PES'}\n"
     ]
    }
   ],
   "source": [
    "from matcalc.utils import MODEL_ALIASES\n",
    "pprint.pprint(MODEL_ALIASES)  # list all \"aliased\" models"
   ]
  },
  {
   "cell_type": "code",
   "execution_count": 7,
   "id": "ec202377",
   "metadata": {
    "slideshow": {
     "slide_type": "fragment"
    }
   },
   "outputs": [
    {
     "ename": "FileNotFoundError",
     "evalue": "Cannot find DGL C++ graphbolt library at /home/lengze/exit/envs/matcalc_env/lib/python3.12/site-packages/dgl/graphbolt/libgraphbolt_pytorch_2.4.0.so",
     "output_type": "error",
     "traceback": [
      "\u001b[31m---------------------------------------------------------------------------\u001b[39m",
      "\u001b[31mFileNotFoundError\u001b[39m                         Traceback (most recent call last)",
      "\u001b[36mCell\u001b[39m\u001b[36m \u001b[39m\u001b[32mIn[7]\u001b[39m\u001b[32m, line 1\u001b[39m\n\u001b[32m----> \u001b[39m\u001b[32m1\u001b[39m calculator_pbe = \u001b[43mmatcalc\u001b[49m\u001b[43m.\u001b[49m\u001b[43mload_fp\u001b[49m\u001b[43m(\u001b[49m\u001b[33;43m\"\u001b[39;49m\u001b[33;43mpbe\u001b[39;49m\u001b[33;43m\"\u001b[39;49m\u001b[43m)\u001b[49m  \u001b[38;5;66;03m# recommended calculator for PBE functional - note default can change over time!\u001b[39;00m\n\u001b[32m      2\u001b[39m \u001b[38;5;66;03m# calculator_pbe = matcalc.load_fp(\"TensorNet-MatPES-PBE-v2025.1-PES\")  # enforce calculator explicitly\u001b[39;00m\n",
      "\u001b[36mFile \u001b[39m\u001b[32m~/exit/envs/matcalc_env/lib/python3.12/site-packages/matcalc/utils.py:372\u001b[39m, in \u001b[36mPESCalculator.load_universal\u001b[39m\u001b[34m(name, **kwargs)\u001b[39m\n\u001b[32m    370\u001b[39m \u001b[38;5;28;01melif\u001b[39;00m \u001b[38;5;28many\u001b[39m(name.lower().startswith(m) \u001b[38;5;28;01mfor\u001b[39;00m m \u001b[38;5;129;01min\u001b[39;00m (\u001b[33m\"\u001b[39m\u001b[33mm3gnet\u001b[39m\u001b[33m\"\u001b[39m, \u001b[33m\"\u001b[39m\u001b[33mchgnet\u001b[39m\u001b[33m\"\u001b[39m, \u001b[33m\"\u001b[39m\u001b[33mtensornet\u001b[39m\u001b[33m\"\u001b[39m, \u001b[33m\"\u001b[39m\u001b[33mpbe\u001b[39m\u001b[33m\"\u001b[39m, \u001b[33m\"\u001b[39m\u001b[33mr2scan\u001b[39m\u001b[33m\"\u001b[39m)):\n\u001b[32m    371\u001b[39m     name = MODEL_ALIASES.get(name.lower(), name)\n\u001b[32m--> \u001b[39m\u001b[32m372\u001b[39m     result = \u001b[43mPESCalculator\u001b[49m\u001b[43m.\u001b[49m\u001b[43mload_matgl\u001b[49m\u001b[43m(\u001b[49m\u001b[43mname\u001b[49m\u001b[43m,\u001b[49m\u001b[43m \u001b[49m\u001b[43m*\u001b[49m\u001b[43m*\u001b[49m\u001b[43mkwargs\u001b[49m\u001b[43m)\u001b[49m\n\u001b[32m    374\u001b[39m \u001b[38;5;28;01melif\u001b[39;00m name.lower() == \u001b[33m\"\u001b[39m\u001b[33mmace\u001b[39m\u001b[33m\"\u001b[39m:\n\u001b[32m    375\u001b[39m     \u001b[38;5;28;01mfrom\u001b[39;00m\u001b[38;5;250m \u001b[39m\u001b[34;01mmace\u001b[39;00m\u001b[34;01m.\u001b[39;00m\u001b[34;01mcalculators\u001b[39;00m\u001b[38;5;250m \u001b[39m\u001b[38;5;28;01mimport\u001b[39;00m mace_mp\n",
      "\u001b[36mFile \u001b[39m\u001b[32m~/exit/envs/matcalc_env/lib/python3.12/site-packages/matcalc/utils.py:169\u001b[39m, in \u001b[36mPESCalculator.load_matgl\u001b[39m\u001b[34m(path, **kwargs)\u001b[39m\n\u001b[32m    153\u001b[39m \u001b[38;5;250m\u001b[39m\u001b[33;03m\"\"\"\u001b[39;00m\n\u001b[32m    154\u001b[39m \u001b[33;03mLoads a MATGL model from the specified path and initializes a PESCalculator\u001b[39;00m\n\u001b[32m    155\u001b[39m \u001b[33;03mwith the loaded model and additional optional parameters.\u001b[39;00m\n\u001b[32m   (...)\u001b[39m\u001b[32m    166\u001b[39m \u001b[33;03m:rtype: Calculator\u001b[39;00m\n\u001b[32m    167\u001b[39m \u001b[33;03m\"\"\"\u001b[39;00m\n\u001b[32m    168\u001b[39m \u001b[38;5;28;01mimport\u001b[39;00m\u001b[38;5;250m \u001b[39m\u001b[34;01mmatgl\u001b[39;00m\n\u001b[32m--> \u001b[39m\u001b[32m169\u001b[39m \u001b[38;5;28;01mfrom\u001b[39;00m\u001b[38;5;250m \u001b[39m\u001b[34;01mmatgl\u001b[39;00m\u001b[34;01m.\u001b[39;00m\u001b[34;01mext\u001b[39;00m\u001b[34;01m.\u001b[39;00m\u001b[34;01mase\u001b[39;00m\u001b[38;5;250m \u001b[39m\u001b[38;5;28;01mimport\u001b[39;00m PESCalculator \u001b[38;5;28;01mas\u001b[39;00m PESCalculator_\n\u001b[32m    171\u001b[39m model = matgl.load_model(path=path)  \u001b[38;5;66;03m# type:ignore[arg-type]\u001b[39;00m\n\u001b[32m    172\u001b[39m kwargs.setdefault(\u001b[33m\"\u001b[39m\u001b[33mstress_unit\u001b[39m\u001b[33m\"\u001b[39m, \u001b[33m\"\u001b[39m\u001b[33meV/A3\u001b[39m\u001b[33m\"\u001b[39m)\n",
      "\u001b[36mFile \u001b[39m\u001b[32m~/exit/envs/matcalc_env/lib/python3.12/site-packages/matgl/ext/ase.py:35\u001b[39m\n\u001b[32m     32\u001b[39m \u001b[38;5;28;01mfrom\u001b[39;00m\u001b[38;5;250m \u001b[39m\u001b[34;01mpymatgen\u001b[39;00m\u001b[34;01m.\u001b[39;00m\u001b[34;01mio\u001b[39;00m\u001b[34;01m.\u001b[39;00m\u001b[34;01mase\u001b[39;00m\u001b[38;5;250m \u001b[39m\u001b[38;5;28;01mimport\u001b[39;00m AseAtomsAdaptor\n\u001b[32m     33\u001b[39m \u001b[38;5;28;01mfrom\u001b[39;00m\u001b[38;5;250m \u001b[39m\u001b[34;01mpymatgen\u001b[39;00m\u001b[34;01m.\u001b[39;00m\u001b[34;01moptimization\u001b[39;00m\u001b[34;01m.\u001b[39;00m\u001b[34;01mneighbors\u001b[39;00m\u001b[38;5;250m \u001b[39m\u001b[38;5;28;01mimport\u001b[39;00m find_points_in_spheres\n\u001b[32m---> \u001b[39m\u001b[32m35\u001b[39m \u001b[38;5;28;01mfrom\u001b[39;00m\u001b[38;5;250m \u001b[39m\u001b[34;01mmatgl\u001b[39;00m\u001b[34;01m.\u001b[39;00m\u001b[34;01mgraph\u001b[39;00m\u001b[34;01m.\u001b[39;00m\u001b[34;01mconverters\u001b[39;00m\u001b[38;5;250m \u001b[39m\u001b[38;5;28;01mimport\u001b[39;00m GraphConverter\n\u001b[32m     37\u001b[39m \u001b[38;5;28;01mif\u001b[39;00m TYPE_CHECKING:\n\u001b[32m     38\u001b[39m     \u001b[38;5;28;01mfrom\u001b[39;00m\u001b[38;5;250m \u001b[39m\u001b[34;01mtyping\u001b[39;00m\u001b[38;5;250m \u001b[39m\u001b[38;5;28;01mimport\u001b[39;00m Any\n",
      "\u001b[36mFile \u001b[39m\u001b[32m~/exit/envs/matcalc_env/lib/python3.12/site-packages/matgl/graph/converters.py:7\u001b[39m\n\u001b[32m      3\u001b[39m \u001b[38;5;28;01mfrom\u001b[39;00m\u001b[38;5;250m \u001b[39m\u001b[34;01m__future__\u001b[39;00m\u001b[38;5;250m \u001b[39m\u001b[38;5;28;01mimport\u001b[39;00m annotations\n\u001b[32m      5\u001b[39m \u001b[38;5;28;01mimport\u001b[39;00m\u001b[38;5;250m \u001b[39m\u001b[34;01mabc\u001b[39;00m\n\u001b[32m----> \u001b[39m\u001b[32m7\u001b[39m \u001b[38;5;28;01mimport\u001b[39;00m\u001b[38;5;250m \u001b[39m\u001b[34;01mdgl\u001b[39;00m\n\u001b[32m      8\u001b[39m \u001b[38;5;28;01mimport\u001b[39;00m\u001b[38;5;250m \u001b[39m\u001b[34;01mnumpy\u001b[39;00m\u001b[38;5;250m \u001b[39m\u001b[38;5;28;01mas\u001b[39;00m\u001b[38;5;250m \u001b[39m\u001b[34;01mnp\u001b[39;00m\n\u001b[32m      9\u001b[39m \u001b[38;5;28;01mimport\u001b[39;00m\u001b[38;5;250m \u001b[39m\u001b[34;01mtorch\u001b[39;00m\n",
      "\u001b[36mFile \u001b[39m\u001b[32m~/exit/envs/matcalc_env/lib/python3.12/site-packages/dgl/__init__.py:16\u001b[39m\n\u001b[32m     13\u001b[39m \u001b[38;5;28;01mfrom\u001b[39;00m\u001b[38;5;250m \u001b[39m\u001b[34;01m.\u001b[39;00m\u001b[34;01mlogging\u001b[39;00m\u001b[38;5;250m \u001b[39m\u001b[38;5;28;01mimport\u001b[39;00m enable_verbose_logging  \u001b[38;5;66;03m# usort: skip\u001b[39;00m\n\u001b[32m     14\u001b[39m \u001b[38;5;28;01mfrom\u001b[39;00m\u001b[38;5;250m \u001b[39m\u001b[34;01m.\u001b[39;00m\u001b[34;01mbackend\u001b[39;00m\u001b[38;5;250m \u001b[39m\u001b[38;5;28;01mimport\u001b[39;00m backend_name, load_backend  \u001b[38;5;66;03m# usort: skip\u001b[39;00m\n\u001b[32m---> \u001b[39m\u001b[32m16\u001b[39m \u001b[38;5;28;01mfrom\u001b[39;00m\u001b[38;5;250m \u001b[39m\u001b[34;01m.\u001b[39;00m\u001b[38;5;250m \u001b[39m\u001b[38;5;28;01mimport\u001b[39;00m (\n\u001b[32m     17\u001b[39m     container,\n\u001b[32m     18\u001b[39m     cuda,\n\u001b[32m     19\u001b[39m     dataloading,\n\u001b[32m     20\u001b[39m     function,\n\u001b[32m     21\u001b[39m     ops,\n\u001b[32m     22\u001b[39m     random,\n\u001b[32m     23\u001b[39m     sampling,\n\u001b[32m     24\u001b[39m     storages,\n\u001b[32m     25\u001b[39m )\n\u001b[32m     26\u001b[39m \u001b[38;5;28;01mfrom\u001b[39;00m\u001b[38;5;250m \u001b[39m\u001b[34;01m.\u001b[39;00m\u001b[34;01m_ffi\u001b[39;00m\u001b[34;01m.\u001b[39;00m\u001b[34;01mbase\u001b[39;00m\u001b[38;5;250m \u001b[39m\u001b[38;5;28;01mimport\u001b[39;00m __version__, DGLError\n\u001b[32m     27\u001b[39m \u001b[38;5;28;01mfrom\u001b[39;00m\u001b[38;5;250m \u001b[39m\u001b[34;01m.\u001b[39;00m\u001b[34;01m_ffi\u001b[39;00m\u001b[34;01m.\u001b[39;00m\u001b[34;01mfunction\u001b[39;00m\u001b[38;5;250m \u001b[39m\u001b[38;5;28;01mimport\u001b[39;00m (\n\u001b[32m     28\u001b[39m     extract_ext_funcs,\n\u001b[32m     29\u001b[39m     get_global_func,\n\u001b[32m     30\u001b[39m     list_global_func_names,\n\u001b[32m     31\u001b[39m     register_func,\n\u001b[32m     32\u001b[39m )\n",
      "\u001b[36mFile \u001b[39m\u001b[32m~/exit/envs/matcalc_env/lib/python3.12/site-packages/dgl/dataloading/__init__.py:13\u001b[39m\n\u001b[32m     11\u001b[39m \u001b[38;5;28;01mif\u001b[39;00m F.get_preferred_backend() == \u001b[33m\"\u001b[39m\u001b[33mpytorch\u001b[39m\u001b[33m\"\u001b[39m:\n\u001b[32m     12\u001b[39m     \u001b[38;5;28;01mfrom\u001b[39;00m\u001b[38;5;250m \u001b[39m\u001b[34;01m.\u001b[39;00m\u001b[34;01mspot_target\u001b[39;00m\u001b[38;5;250m \u001b[39m\u001b[38;5;28;01mimport\u001b[39;00m *\n\u001b[32m---> \u001b[39m\u001b[32m13\u001b[39m     \u001b[38;5;28;01mfrom\u001b[39;00m\u001b[38;5;250m \u001b[39m\u001b[34;01m.\u001b[39;00m\u001b[34;01mdataloader\u001b[39;00m\u001b[38;5;250m \u001b[39m\u001b[38;5;28;01mimport\u001b[39;00m *\n\u001b[32m     14\u001b[39m     \u001b[38;5;28;01mfrom\u001b[39;00m\u001b[38;5;250m \u001b[39m\u001b[34;01m.\u001b[39;00m\u001b[34;01mdist_dataloader\u001b[39;00m\u001b[38;5;250m \u001b[39m\u001b[38;5;28;01mimport\u001b[39;00m *\n",
      "\u001b[36mFile \u001b[39m\u001b[32m~/exit/envs/matcalc_env/lib/python3.12/site-packages/dgl/dataloading/dataloader.py:27\u001b[39m\n\u001b[32m     25\u001b[39m \u001b[38;5;28;01mfrom\u001b[39;00m\u001b[38;5;250m \u001b[39m\u001b[34;01m.\u001b[39;00m\u001b[34;01m.\u001b[39;00m\u001b[34;01mbatch\u001b[39;00m\u001b[38;5;250m \u001b[39m\u001b[38;5;28;01mimport\u001b[39;00m batch \u001b[38;5;28;01mas\u001b[39;00m batch_graphs\n\u001b[32m     26\u001b[39m \u001b[38;5;28;01mfrom\u001b[39;00m\u001b[38;5;250m \u001b[39m\u001b[34;01m.\u001b[39;00m\u001b[34;01m.\u001b[39;00m\u001b[34;01mcuda\u001b[39;00m\u001b[38;5;250m \u001b[39m\u001b[38;5;28;01mimport\u001b[39;00m GPUCache\n\u001b[32m---> \u001b[39m\u001b[32m27\u001b[39m \u001b[38;5;28;01mfrom\u001b[39;00m\u001b[38;5;250m \u001b[39m\u001b[34;01m.\u001b[39;00m\u001b[34;01m.\u001b[39;00m\u001b[34;01mdistributed\u001b[39;00m\u001b[38;5;250m \u001b[39m\u001b[38;5;28;01mimport\u001b[39;00m DistGraph\n\u001b[32m     28\u001b[39m \u001b[38;5;28;01mfrom\u001b[39;00m\u001b[38;5;250m \u001b[39m\u001b[34;01m.\u001b[39;00m\u001b[34;01m.\u001b[39;00m\u001b[34;01mframe\u001b[39;00m\u001b[38;5;250m \u001b[39m\u001b[38;5;28;01mimport\u001b[39;00m LazyFeature\n\u001b[32m     29\u001b[39m \u001b[38;5;28;01mfrom\u001b[39;00m\u001b[38;5;250m \u001b[39m\u001b[34;01m.\u001b[39;00m\u001b[34;01m.\u001b[39;00m\u001b[34;01mheterograph\u001b[39;00m\u001b[38;5;250m \u001b[39m\u001b[38;5;28;01mimport\u001b[39;00m DGLGraph\n",
      "\u001b[36mFile \u001b[39m\u001b[32m~/exit/envs/matcalc_env/lib/python3.12/site-packages/dgl/distributed/__init__.py:5\u001b[39m\n\u001b[32m      3\u001b[39m \u001b[38;5;28;01mfrom\u001b[39;00m\u001b[38;5;250m \u001b[39m\u001b[34;01m.\u001b[39;00m\u001b[34;01mdist_context\u001b[39;00m\u001b[38;5;250m \u001b[39m\u001b[38;5;28;01mimport\u001b[39;00m exit_client, initialize\n\u001b[32m      4\u001b[39m \u001b[38;5;28;01mfrom\u001b[39;00m\u001b[38;5;250m \u001b[39m\u001b[34;01m.\u001b[39;00m\u001b[34;01mdist_dataloader\u001b[39;00m\u001b[38;5;250m \u001b[39m\u001b[38;5;28;01mimport\u001b[39;00m DistDataLoader\n\u001b[32m----> \u001b[39m\u001b[32m5\u001b[39m \u001b[38;5;28;01mfrom\u001b[39;00m\u001b[38;5;250m \u001b[39m\u001b[34;01m.\u001b[39;00m\u001b[34;01mdist_graph\u001b[39;00m\u001b[38;5;250m \u001b[39m\u001b[38;5;28;01mimport\u001b[39;00m DistGraph, DistGraphServer, edge_split, node_split\n\u001b[32m      6\u001b[39m \u001b[38;5;28;01mfrom\u001b[39;00m\u001b[38;5;250m \u001b[39m\u001b[34;01m.\u001b[39;00m\u001b[34;01mdist_tensor\u001b[39;00m\u001b[38;5;250m \u001b[39m\u001b[38;5;28;01mimport\u001b[39;00m DistTensor\n\u001b[32m      7\u001b[39m \u001b[38;5;28;01mfrom\u001b[39;00m\u001b[38;5;250m \u001b[39m\u001b[34;01m.\u001b[39;00m\u001b[34;01mgraph_partition_book\u001b[39;00m\u001b[38;5;250m \u001b[39m\u001b[38;5;28;01mimport\u001b[39;00m GraphPartitionBook, PartitionPolicy\n",
      "\u001b[36mFile \u001b[39m\u001b[32m~/exit/envs/matcalc_env/lib/python3.12/site-packages/dgl/distributed/dist_graph.py:11\u001b[39m\n\u001b[32m      7\u001b[39m \u001b[38;5;28;01mfrom\u001b[39;00m\u001b[38;5;250m \u001b[39m\u001b[34;01mcollections\u001b[39;00m\u001b[34;01m.\u001b[39;00m\u001b[34;01mabc\u001b[39;00m\u001b[38;5;250m \u001b[39m\u001b[38;5;28;01mimport\u001b[39;00m MutableMapping\n\u001b[32m      9\u001b[39m \u001b[38;5;28;01mimport\u001b[39;00m\u001b[38;5;250m \u001b[39m\u001b[34;01mnumpy\u001b[39;00m\u001b[38;5;250m \u001b[39m\u001b[38;5;28;01mas\u001b[39;00m\u001b[38;5;250m \u001b[39m\u001b[34;01mnp\u001b[39;00m\n\u001b[32m---> \u001b[39m\u001b[32m11\u001b[39m \u001b[38;5;28;01mfrom\u001b[39;00m\u001b[38;5;250m \u001b[39m\u001b[34;01m.\u001b[39;00m\u001b[34;01m.\u001b[39;00m\u001b[38;5;250m \u001b[39m\u001b[38;5;28;01mimport\u001b[39;00m backend \u001b[38;5;28;01mas\u001b[39;00m F, graphbolt \u001b[38;5;28;01mas\u001b[39;00m gb, heterograph_index\n\u001b[32m     12\u001b[39m \u001b[38;5;28;01mfrom\u001b[39;00m\u001b[38;5;250m \u001b[39m\u001b[34;01m.\u001b[39;00m\u001b[34;01m.\u001b[39;00m\u001b[34;01m_ffi\u001b[39;00m\u001b[34;01m.\u001b[39;00m\u001b[34;01mndarray\u001b[39;00m\u001b[38;5;250m \u001b[39m\u001b[38;5;28;01mimport\u001b[39;00m empty_shared_mem\n\u001b[32m     13\u001b[39m \u001b[38;5;28;01mfrom\u001b[39;00m\u001b[38;5;250m \u001b[39m\u001b[34;01m.\u001b[39;00m\u001b[34;01m.\u001b[39;00m\u001b[34;01mbase\u001b[39;00m\u001b[38;5;250m \u001b[39m\u001b[38;5;28;01mimport\u001b[39;00m ALL, DGLError, EID, ETYPE, is_all, NID\n",
      "\u001b[36mFile \u001b[39m\u001b[32m~/exit/envs/matcalc_env/lib/python3.12/site-packages/dgl/graphbolt/__init__.py:55\u001b[39m\n\u001b[32m     51\u001b[39m     \u001b[38;5;28;01mexcept\u001b[39;00m \u001b[38;5;167;01mException\u001b[39;00m:  \u001b[38;5;66;03m# pylint: disable=W0703\u001b[39;00m\n\u001b[32m     52\u001b[39m         \u001b[38;5;28;01mraise\u001b[39;00m \u001b[38;5;167;01mImportError\u001b[39;00m(\u001b[33m\"\u001b[39m\u001b[33mCannot load Graphbolt C++ library\u001b[39m\u001b[33m\"\u001b[39m)\n\u001b[32m---> \u001b[39m\u001b[32m55\u001b[39m \u001b[43mload_graphbolt\u001b[49m\u001b[43m(\u001b[49m\u001b[43m)\u001b[49m\n",
      "\u001b[36mFile \u001b[39m\u001b[32m~/exit/envs/matcalc_env/lib/python3.12/site-packages/dgl/graphbolt/__init__.py:45\u001b[39m, in \u001b[36mload_graphbolt\u001b[39m\u001b[34m()\u001b[39m\n\u001b[32m     43\u001b[39m path = os.path.join(dirname, \u001b[33m\"\u001b[39m\u001b[33mgraphbolt\u001b[39m\u001b[33m\"\u001b[39m, basename)\n\u001b[32m     44\u001b[39m \u001b[38;5;28;01mif\u001b[39;00m \u001b[38;5;129;01mnot\u001b[39;00m os.path.exists(path):\n\u001b[32m---> \u001b[39m\u001b[32m45\u001b[39m     \u001b[38;5;28;01mraise\u001b[39;00m \u001b[38;5;167;01mFileNotFoundError\u001b[39;00m(\n\u001b[32m     46\u001b[39m         \u001b[33mf\u001b[39m\u001b[33m\"\u001b[39m\u001b[33mCannot find DGL C++ graphbolt library at \u001b[39m\u001b[38;5;132;01m{\u001b[39;00mpath\u001b[38;5;132;01m}\u001b[39;00m\u001b[33m\"\u001b[39m\n\u001b[32m     47\u001b[39m     )\n\u001b[32m     49\u001b[39m \u001b[38;5;28;01mtry\u001b[39;00m:\n\u001b[32m     50\u001b[39m     torch.classes.load_library(path)\n",
      "\u001b[31mFileNotFoundError\u001b[39m: Cannot find DGL C++ graphbolt library at /home/lengze/exit/envs/matcalc_env/lib/python3.12/site-packages/dgl/graphbolt/libgraphbolt_pytorch_2.4.0.so"
     ]
    }
   ],
   "source": [
    "calculator_pbe = matcalc.load_fp(\"pbe\")  # recommended calculator for PBE functional - note default can change over time!\n",
    "# calculator_pbe = matcalc.load_fp(\"TensorNet-MatPES-PBE-v2025.1-PES\")  # enforce calculator explicitly"
   ]
  },
  {
   "cell_type": "markdown",
   "id": "eb176e0e",
   "metadata": {
    "slideshow": {
     "slide_type": "fragment"
    }
   },
   "source": [
    "Now that we have a calculator object, we can run a simulation with *matcalc*. We need to specify the type of simulation we want to do by instantiating the appropriate Property Calclulator from *matcalc*, and then call the ``calc()`` function on our desired structure.\n",
    "\n",
    "Here, we will try to optimize our perturbed structure to see if we can recover our original cell volume and crystallographic atom positions using the structure optimization."
   ]
  },
  {
   "cell_type": "code",
   "execution_count": null,
   "id": "4890657c",
   "metadata": {},
   "outputs": [
    {
     "data": {
      "text/plain": [
       "'2.4.0+cu124'"
      ]
     },
     "execution_count": 8,
     "metadata": {},
     "output_type": "execute_result"
    }
   ],
   "source": [
    "import dgl\n",
    "dgl.__version__"
   ]
  },
  {
   "cell_type": "code",
   "execution_count": null,
   "id": "dc5aefa4",
   "metadata": {
    "slideshow": {
     "slide_type": "fragment"
    }
   },
   "outputs": [],
   "source": [
    "relax_calc = matcalc.RelaxCalc(\n",
    "    calculator_pbe,\n",
    "    optimizer=\"FIRE\",\n",
    "    relax_atoms=True,\n",
    "    relax_cell=True,\n",
    ")\n",
    "\n",
    "data = relax_calc.calc(gaas_perturbed)"
   ]
  },
  {
   "cell_type": "markdown",
   "id": "861d14cb",
   "metadata": {
    "slideshow": {
     "slide_type": "fragment"
    }
   },
   "source": [
    "Now that we have the data from the relaxation simulation, we can examine it. It contains not only the optimized structure, but also the energy of the configuration, forces on atoms, and cell stress after optimization."
   ]
  },
  {
   "cell_type": "code",
   "execution_count": null,
   "id": "b4bb3c00",
   "metadata": {
    "slideshow": {
     "slide_type": "fragment"
    }
   },
   "outputs": [
    {
     "name": "stdout",
     "output_type": "stream",
     "text": [
      "{'a': 5.7734804409904505,\n",
      " 'alpha': 90.01124780224458,\n",
      " 'b': 5.768994381858776,\n",
      " 'beta': 89.99413549518073,\n",
      " 'c': 5.768379733074091,\n",
      " 'energy': -33.08741760253906,\n",
      " 'final_structure': Structure Summary\n",
      "Lattice\n",
      "    abc : 5.7734804409904505 5.768994381858776 5.768379733074091\n",
      " angles : 90.01124780224458 89.99413549518073 89.99072677793988\n",
      " volume : 192.12843309306697\n",
      "      A : 5.773480414723976 0.0004656891586328208 0.00029399245471914713\n",
      "      B : 0.0004684032168309412 5.768994335039446 -0.0005663914927839006\n",
      "      C : 0.0002967349774808317 -0.0005660903943359264 5.768379697664669\n",
      "    pbc : True True True\n",
      "PeriodicSite: Ga (0.05957, 0.04122, 5.766) [0.01027, 0.007242, 0.9996]\n",
      "PeriodicSite: Ga (0.0512, 2.929, 2.883) [0.008801, 0.5078, 0.4999]\n",
      "PeriodicSite: Ga (2.951, 0.02462, 2.882) [0.5112, 0.004275, 0.4995]\n",
      "PeriodicSite: Ga (2.933, 2.911, 5.771) [0.5079, 0.5046, 1.0]\n",
      "PeriodicSite: As (1.499, 1.478, 1.445) [0.2596, 0.2561, 0.2504]\n",
      "PeriodicSite: As (1.501, 4.359, 4.326) [0.2599, 0.7556, 0.7499]\n",
      "PeriodicSite: As (4.383, 1.482, 4.332) [0.7592, 0.2569, 0.751]\n",
      "PeriodicSite: As (4.389, 4.358, 1.436) [0.7602, 0.7555, 0.2489],\n",
      " 'forces': array([[-0.00517393, -0.02113014,  0.00020838],\n",
      "       [ 0.02014098, -0.06987838,  0.01906233],\n",
      "       [-0.02349489,  0.06010804,  0.02410849],\n",
      "       [ 0.03725083,  0.04005376, -0.0014127 ],\n",
      "       [-0.0139062 , -0.02919865,  0.04995954],\n",
      "       [-0.00526161,  0.03630494,  0.00416385],\n",
      "       [ 0.0163615 , -0.04025139, -0.07528757],\n",
      "       [-0.02591656,  0.02399177, -0.02080231]], dtype=float32),\n",
      " 'gamma': 89.99072677793988,\n",
      " 'stress': array([2.55427905e-03, 2.30400776e-03, 2.25720229e-03, 5.70430348e-05,\n",
      "       6.29466886e-05, 2.01393792e-04]),\n",
      " 'volume': 192.12843309306697}\n"
     ]
    }
   ],
   "source": [
    "pprint.pprint(data)"
   ]
  },
  {
   "cell_type": "code",
   "execution_count": null,
   "id": "50d77a91",
   "metadata": {
    "slideshow": {
     "slide_type": "fragment"
    }
   },
   "outputs": [
    {
     "name": "stdout",
     "output_type": "stream",
     "text": [
      "Full Formula (Ga4 As4)\n",
      "Reduced Formula: GaAs\n",
      "abc   :   5.773480   5.768994   5.768380\n",
      "angles:  90.011248  89.994135  89.990727\n",
      "pbc   :       True       True       True\n",
      "Sites (8)\n",
      "  #  SP           a         b         c\n",
      "---  ----  --------  --------  --------\n",
      "  0  Ga    0.010267  0.007242  0.999594\n",
      "  1  Ga    0.008801  0.507765  0.499928\n",
      "  2  Ga    0.511184  0.004275  0.499527\n",
      "  3  Ga    0.507895  0.504645  1.0004\n",
      "  4  As    0.259644  0.256124  0.250448\n",
      "  5  As    0.259853  0.755598  0.749927\n",
      "  6  As    0.759183  0.256884  0.750972\n",
      "  7  As    0.760176  0.755455  0.248926\n"
     ]
    },
    {
     "data": {
      "text/html": [
       "\n",
       "        <iframe\n",
       "            width=\"100%\"\n",
       "            height=\"650\"\n",
       "            src=\"http://127.0.0.1:8884/\"\n",
       "            frameborder=\"0\"\n",
       "            allowfullscreen\n",
       "            \n",
       "        ></iframe>\n",
       "        "
      ],
      "text/plain": [
       "<IPython.lib.display.IFrame at 0x7f96dcb057c0>"
      ]
     },
     "metadata": {},
     "output_type": "display_data"
    }
   ],
   "source": [
    "final_structure_pbe = data[\"final_structure\"]\n",
    "print(final_structure_pbe)\n",
    "final_structure_pbe"
   ]
  },
  {
   "cell_type": "markdown",
   "id": "9a226c6a",
   "metadata": {
    "slideshow": {
     "slide_type": "fragment"
    }
   },
   "source": [
    "Examining the structure, we will see that we got close to recovering our perfect crystallographic atom positions. \n",
    "\n",
    "Our cell volume is also closer to experiment than the perturbed structure; however, because the DFT-PBE training data tends to overestimate lattice parameters, the corresponding machine-learned potential also produces cell lengths slightly larger than experiment."
   ]
  },
  {
   "cell_type": "markdown",
   "id": "07060d99",
   "metadata": {
    "slideshow": {
     "slide_type": "slide"
    }
   },
   "source": [
    "## Task 1b. Repeat the calculation with a different interatomic potential / potential energy surface from matgl\n",
    "\n",
    "Now let's repeat the same structure optimization, but use a different machine-learned interatomic potential from the *matgl* library. In particular, we will use a potential trained on meta-GGA calculations (the r2SCAN method) that is typically more accurate than PBE. However, less training data is available for r2SCAN calculations."
   ]
  },
  {
   "cell_type": "code",
   "execution_count": null,
   "id": "f5043901",
   "metadata": {
    "slideshow": {
     "slide_type": "fragment"
    }
   },
   "outputs": [],
   "source": [
    "calculator_r2scan = matcalc.load_fp(\"r2scan\")  # recommended calculator for r2scan functional"
   ]
  },
  {
   "cell_type": "code",
   "execution_count": null,
   "id": "98e97cdd",
   "metadata": {
    "slideshow": {
     "slide_type": "fragment"
    }
   },
   "outputs": [
    {
     "name": "stdout",
     "output_type": "stream",
     "text": [
      "Full Formula (Ga4 As4)\n",
      "Reduced Formula: GaAs\n",
      "abc   :   5.645782   5.641368   5.639459\n",
      "angles:  89.986830  89.977647  89.974592\n",
      "pbc   :       True       True       True\n",
      "Sites (8)\n",
      "  #  SP           a         b         c\n",
      "---  ----  --------  --------  --------\n",
      "  0  Ga    0.009756  0.005605  0.999683\n",
      "  1  Ga    0.009371  0.504746  0.499444\n",
      "  2  Ga    0.50961   0.006444  0.500398\n",
      "  3  Ga    0.509602  0.507127  1.00024\n",
      "  4  As    0.259675  0.255571  0.250292\n",
      "  5  As    0.259715  0.756231  0.749871\n",
      "  6  As    0.759631  0.255946  0.749914\n",
      "  7  As    0.759644  0.756319  0.249889\n"
     ]
    },
    {
     "data": {
      "text/html": [
       "\n",
       "        <iframe\n",
       "            width=\"100%\"\n",
       "            height=\"650\"\n",
       "            src=\"http://127.0.0.1:8884/\"\n",
       "            frameborder=\"0\"\n",
       "            allowfullscreen\n",
       "            \n",
       "        ></iframe>\n",
       "        "
      ],
      "text/plain": [
       "<IPython.lib.display.IFrame at 0x7f96dcb3e120>"
      ]
     },
     "metadata": {},
     "output_type": "display_data"
    }
   ],
   "source": [
    "relax_calc = matcalc.RelaxCalc(\n",
    "    calculator_r2scan,\n",
    "    optimizer=\"FIRE\",\n",
    "    relax_atoms=True,\n",
    "    relax_cell=True,\n",
    ")\n",
    "\n",
    "data = relax_calc.calc(gaas_perturbed)\n",
    "final_structure_r2scan = data[\"final_structure\"]\n",
    "print(final_structure_r2scan)\n",
    "final_structure_r2scan"
   ]
  },
  {
   "cell_type": "markdown",
   "id": "8969d9cb",
   "metadata": {
    "slideshow": {
     "slide_type": "fragment"
    }
   },
   "source": [
    "We see that this potential has better reproduced the lattice parameters of GaAs starting from the perturbed structure."
   ]
  },
  {
   "cell_type": "markdown",
   "id": "fce3822d",
   "metadata": {
    "slideshow": {
     "slide_type": "slide"
    }
   },
   "source": [
    "## Task 1c. Repeat the calculation with a different potential from the internet\n",
    "\n",
    "Now, let's use a potential that is not bundled with *matgl*. The *matcalc* software can use any potential that implements an ``ASECalculator``.\n",
    "\n",
    "For example, the MACE library distributes foundation models that implement the ASE calculator:\n",
    "https://mace-docs.readthedocs.io/en/latest/guide/foundation_models.html\n",
    "\n",
    "We can thus install the *mace-torch* library and load the corresponding calculator for use with *matcalc*."
   ]
  },
  {
   "cell_type": "code",
   "execution_count": null,
   "id": "dc7bbf72",
   "metadata": {
    "slideshow": {
     "slide_type": "fragment"
    }
   },
   "outputs": [
    {
     "name": "stdout",
     "output_type": "stream",
     "text": [
      "Requirement already satisfied: mace-torch in /home/lengze/exit/envs/matcalc_env/lib/python3.12/site-packages (0.3.14)\n",
      "Requirement already satisfied: torch>=1.12 in /home/lengze/exit/envs/matcalc_env/lib/python3.12/site-packages (from mace-torch) (2.4.0)\n",
      "Requirement already satisfied: e3nn==0.4.4 in /home/lengze/exit/envs/matcalc_env/lib/python3.12/site-packages (from mace-torch) (0.4.4)\n",
      "Requirement already satisfied: numpy in /home/lengze/exit/envs/matcalc_env/lib/python3.12/site-packages (from mace-torch) (1.26.4)\n",
      "Requirement already satisfied: opt_einsum in /home/lengze/exit/envs/matcalc_env/lib/python3.12/site-packages (from mace-torch) (3.4.0)\n",
      "Requirement already satisfied: ase in /home/lengze/exit/envs/matcalc_env/lib/python3.12/site-packages (from mace-torch) (3.26.0)\n",
      "Requirement already satisfied: torch-ema in /home/lengze/exit/envs/matcalc_env/lib/python3.12/site-packages (from mace-torch) (0.3)\n",
      "Requirement already satisfied: prettytable in /home/lengze/exit/envs/matcalc_env/lib/python3.12/site-packages (from mace-torch) (3.16.0)\n",
      "Requirement already satisfied: matscipy in /home/lengze/exit/envs/matcalc_env/lib/python3.12/site-packages (from mace-torch) (1.1.1)\n",
      "Requirement already satisfied: h5py in /home/lengze/exit/envs/matcalc_env/lib/python3.12/site-packages (from mace-torch) (3.14.0)\n",
      "Requirement already satisfied: torchmetrics in /home/lengze/exit/envs/matcalc_env/lib/python3.12/site-packages (from mace-torch) (1.8.1)\n",
      "Requirement already satisfied: python-hostlist in /home/lengze/exit/envs/matcalc_env/lib/python3.12/site-packages (from mace-torch) (2.2.2)\n",
      "Requirement already satisfied: configargparse in /home/lengze/exit/envs/matcalc_env/lib/python3.12/site-packages (from mace-torch) (1.7.1)\n",
      "Requirement already satisfied: GitPython in /home/lengze/exit/envs/matcalc_env/lib/python3.12/site-packages (from mace-torch) (3.1.45)\n",
      "Requirement already satisfied: pyYAML in /home/lengze/exit/envs/matcalc_env/lib/python3.12/site-packages (from mace-torch) (6.0.2)\n",
      "Requirement already satisfied: tqdm in /home/lengze/exit/envs/matcalc_env/lib/python3.12/site-packages (from mace-torch) (4.67.1)\n",
      "Requirement already satisfied: lmdb in /home/lengze/exit/envs/matcalc_env/lib/python3.12/site-packages (from mace-torch) (1.7.3)\n",
      "Requirement already satisfied: orjson in /home/lengze/exit/envs/matcalc_env/lib/python3.12/site-packages (from mace-torch) (3.11.2)\n",
      "Requirement already satisfied: matplotlib in /home/lengze/exit/envs/matcalc_env/lib/python3.12/site-packages (from mace-torch) (3.10.5)\n",
      "Requirement already satisfied: pandas in /home/lengze/exit/envs/matcalc_env/lib/python3.12/site-packages (from mace-torch) (2.3.1)\n",
      "Requirement already satisfied: sympy in /home/lengze/exit/envs/matcalc_env/lib/python3.12/site-packages (from e3nn==0.4.4->mace-torch) (1.14.0)\n",
      "Requirement already satisfied: scipy in /home/lengze/exit/envs/matcalc_env/lib/python3.12/site-packages (from e3nn==0.4.4->mace-torch) (1.16.1)\n",
      "Requirement already satisfied: opt-einsum-fx>=0.1.4 in /home/lengze/exit/envs/matcalc_env/lib/python3.12/site-packages (from e3nn==0.4.4->mace-torch) (0.1.4)\n",
      "Requirement already satisfied: packaging in /home/lengze/exit/envs/matcalc_env/lib/python3.12/site-packages (from opt-einsum-fx>=0.1.4->e3nn==0.4.4->mace-torch) (25.0)\n",
      "Requirement already satisfied: filelock in /home/lengze/exit/envs/matcalc_env/lib/python3.12/site-packages (from torch>=1.12->mace-torch) (3.19.1)\n",
      "Requirement already satisfied: typing-extensions>=4.8.0 in /home/lengze/exit/envs/matcalc_env/lib/python3.12/site-packages (from torch>=1.12->mace-torch) (4.14.1)\n",
      "Requirement already satisfied: networkx in /home/lengze/exit/envs/matcalc_env/lib/python3.12/site-packages (from torch>=1.12->mace-torch) (3.5)\n",
      "Requirement already satisfied: jinja2 in /home/lengze/exit/envs/matcalc_env/lib/python3.12/site-packages (from torch>=1.12->mace-torch) (3.1.6)\n",
      "Requirement already satisfied: fsspec in /home/lengze/exit/envs/matcalc_env/lib/python3.12/site-packages (from torch>=1.12->mace-torch) (2025.7.0)\n",
      "Requirement already satisfied: setuptools in /home/lengze/exit/envs/matcalc_env/lib/python3.12/site-packages (from torch>=1.12->mace-torch) (78.1.1)\n",
      "Requirement already satisfied: nvidia-cuda-nvrtc-cu12==12.1.105 in /home/lengze/exit/envs/matcalc_env/lib/python3.12/site-packages (from torch>=1.12->mace-torch) (12.1.105)\n",
      "Requirement already satisfied: nvidia-cuda-runtime-cu12==12.1.105 in /home/lengze/exit/envs/matcalc_env/lib/python3.12/site-packages (from torch>=1.12->mace-torch) (12.1.105)\n",
      "Requirement already satisfied: nvidia-cuda-cupti-cu12==12.1.105 in /home/lengze/exit/envs/matcalc_env/lib/python3.12/site-packages (from torch>=1.12->mace-torch) (12.1.105)\n",
      "Requirement already satisfied: nvidia-cudnn-cu12==9.1.0.70 in /home/lengze/exit/envs/matcalc_env/lib/python3.12/site-packages (from torch>=1.12->mace-torch) (9.1.0.70)\n",
      "Requirement already satisfied: nvidia-cublas-cu12==12.1.3.1 in /home/lengze/exit/envs/matcalc_env/lib/python3.12/site-packages (from torch>=1.12->mace-torch) (12.1.3.1)\n",
      "Requirement already satisfied: nvidia-cufft-cu12==11.0.2.54 in /home/lengze/exit/envs/matcalc_env/lib/python3.12/site-packages (from torch>=1.12->mace-torch) (11.0.2.54)\n",
      "Requirement already satisfied: nvidia-curand-cu12==10.3.2.106 in /home/lengze/exit/envs/matcalc_env/lib/python3.12/site-packages (from torch>=1.12->mace-torch) (10.3.2.106)\n",
      "Requirement already satisfied: nvidia-cusolver-cu12==11.4.5.107 in /home/lengze/exit/envs/matcalc_env/lib/python3.12/site-packages (from torch>=1.12->mace-torch) (11.4.5.107)\n",
      "Requirement already satisfied: nvidia-cusparse-cu12==12.1.0.106 in /home/lengze/exit/envs/matcalc_env/lib/python3.12/site-packages (from torch>=1.12->mace-torch) (12.1.0.106)\n",
      "Requirement already satisfied: nvidia-nccl-cu12==2.20.5 in /home/lengze/exit/envs/matcalc_env/lib/python3.12/site-packages (from torch>=1.12->mace-torch) (2.20.5)\n",
      "Requirement already satisfied: nvidia-nvtx-cu12==12.1.105 in /home/lengze/exit/envs/matcalc_env/lib/python3.12/site-packages (from torch>=1.12->mace-torch) (12.1.105)\n",
      "Requirement already satisfied: triton==3.0.0 in /home/lengze/exit/envs/matcalc_env/lib/python3.12/site-packages (from torch>=1.12->mace-torch) (3.0.0)\n",
      "Requirement already satisfied: nvidia-nvjitlink-cu12 in /home/lengze/exit/envs/matcalc_env/lib/python3.12/site-packages (from nvidia-cusolver-cu12==11.4.5.107->torch>=1.12->mace-torch) (12.4.99)\n",
      "Requirement already satisfied: contourpy>=1.0.1 in /home/lengze/exit/envs/matcalc_env/lib/python3.12/site-packages (from matplotlib->mace-torch) (1.3.3)\n",
      "Requirement already satisfied: cycler>=0.10 in /home/lengze/exit/envs/matcalc_env/lib/python3.12/site-packages (from matplotlib->mace-torch) (0.12.1)\n",
      "Requirement already satisfied: fonttools>=4.22.0 in /home/lengze/exit/envs/matcalc_env/lib/python3.12/site-packages (from matplotlib->mace-torch) (4.59.1)\n",
      "Requirement already satisfied: kiwisolver>=1.3.1 in /home/lengze/exit/envs/matcalc_env/lib/python3.12/site-packages (from matplotlib->mace-torch) (1.4.9)\n",
      "Requirement already satisfied: pillow>=8 in /home/lengze/exit/envs/matcalc_env/lib/python3.12/site-packages (from matplotlib->mace-torch) (11.3.0)\n",
      "Requirement already satisfied: pyparsing>=2.3.1 in /home/lengze/exit/envs/matcalc_env/lib/python3.12/site-packages (from matplotlib->mace-torch) (3.2.3)\n",
      "Requirement already satisfied: python-dateutil>=2.7 in /home/lengze/exit/envs/matcalc_env/lib/python3.12/site-packages (from matplotlib->mace-torch) (2.9.0.post0)\n",
      "Requirement already satisfied: six>=1.5 in /home/lengze/exit/envs/matcalc_env/lib/python3.12/site-packages (from python-dateutil>=2.7->matplotlib->mace-torch) (1.17.0)\n",
      "Requirement already satisfied: gitdb<5,>=4.0.1 in /home/lengze/exit/envs/matcalc_env/lib/python3.12/site-packages (from GitPython->mace-torch) (4.0.12)\n",
      "Requirement already satisfied: smmap<6,>=3.0.1 in /home/lengze/exit/envs/matcalc_env/lib/python3.12/site-packages (from gitdb<5,>=4.0.1->GitPython->mace-torch) (5.0.2)\n",
      "Requirement already satisfied: MarkupSafe>=2.0 in /home/lengze/exit/envs/matcalc_env/lib/python3.12/site-packages (from jinja2->torch>=1.12->mace-torch) (3.0.2)\n",
      "Requirement already satisfied: pytz>=2020.1 in /home/lengze/exit/envs/matcalc_env/lib/python3.12/site-packages (from pandas->mace-torch) (2025.2)\n",
      "Requirement already satisfied: tzdata>=2022.7 in /home/lengze/exit/envs/matcalc_env/lib/python3.12/site-packages (from pandas->mace-torch) (2025.2)\n",
      "Requirement already satisfied: wcwidth in /home/lengze/exit/envs/matcalc_env/lib/python3.12/site-packages (from prettytable->mace-torch) (0.2.13)\n",
      "Requirement already satisfied: mpmath<1.4,>=1.1.0 in /home/lengze/exit/envs/matcalc_env/lib/python3.12/site-packages (from sympy->e3nn==0.4.4->mace-torch) (1.3.0)\n",
      "Requirement already satisfied: lightning-utilities>=0.8.0 in /home/lengze/exit/envs/matcalc_env/lib/python3.12/site-packages (from torchmetrics->mace-torch) (0.15.2)\n"
     ]
    }
   ],
   "source": [
    "!pip install mace-torch"
   ]
  },
  {
   "cell_type": "code",
   "execution_count": null,
   "id": "26da763a",
   "metadata": {
    "slideshow": {
     "slide_type": "fragment"
    }
   },
   "outputs": [
    {
     "name": "stdout",
     "output_type": "stream",
     "text": [
      "cuequivariance or cuequivariance_torch is not available. Cuequivariance acceleration will be disabled.\n",
      "Using medium MPA-0 model as default MACE-MP model, to use previous (before 3.10) default model please specify 'medium' as model argument\n",
      "Downloading MACE model from 'https://github.com/ACEsuit/mace-mp/releases/download/mace_mpa_0/mace-mpa-0-medium.model'\n",
      "Cached MACE model to /home/lengze/.cache/mace/macempa0mediummodel\n",
      "Using Materials Project MACE for MACECalculator with /home/lengze/.cache/mace/macempa0mediummodel\n",
      "Using float32 for MACECalculator, which is faster but less accurate. Recommended for MD. Use float64 for geometry optimization.\n",
      "Using head default out of ['default']\n",
      "Default dtype float32 does not match model dtype float64, converting models to float32.\n",
      "----------------------------------------------\n",
      "Class hierarchy for the MACE calculator object\n",
      "----------------------------------------------\n",
      "(<class 'mace.calculators.mace.MACECalculator'>, <class 'ase.calculators.calculator.Calculator'>, <class 'ase.calculators.calculator.BaseCalculator'>, <class 'ase.calculators.abc.GetPropertiesMixin'>, <class 'abc.ABC'>, <class 'object'>)\n"
     ]
    }
   ],
   "source": [
    "from mace.calculators import mace_mp\n",
    "\n",
    "calculator_macemp = mace_mp()  #  load the MACE calculator\n",
    "\n",
    "print(\"-\"*46)\n",
    "print(\"Class hierarchy for the MACE calculator object\")\n",
    "print(\"-\"*46)\n",
    "print(type(calculator_macemp).__mro__)  # demonstrate that this implements the ASE Calculator model"
   ]
  },
  {
   "cell_type": "markdown",
   "id": "321c4556",
   "metadata": {
    "slideshow": {
     "slide_type": "fragment"
    }
   },
   "source": [
    "It is now straightforward to run the structure optimization with MACE.\n",
    "\n",
    "Note that this potential is also trained on PBE data, so overestimation of lattice parameters is expected."
   ]
  },
  {
   "cell_type": "code",
   "execution_count": null,
   "id": "e22b4afb",
   "metadata": {
    "slideshow": {
     "slide_type": "fragment"
    }
   },
   "outputs": [
    {
     "name": "stdout",
     "output_type": "stream",
     "text": [
      "Full Formula (Ga4 As4)\n",
      "Reduced Formula: GaAs\n",
      "abc   :   5.725369   5.723081   5.718603\n",
      "angles:  90.007362  89.995081  90.003503\n",
      "pbc   :       True       True       True\n",
      "Sites (8)\n",
      "  #  SP           a         b         c\n",
      "---  ----  --------  --------  --------\n",
      "  0  Ga    0.009881  0.006838  0.999514\n",
      "  1  Ga    0.009404  0.505805  0.500307\n",
      "  2  Ga    0.510443  0.006286  0.5005\n",
      "  3  Ga    0.509576  0.505596  1.00005\n",
      "  4  As    0.259097  0.255087  0.251024\n",
      "  5  As    0.259882  0.756652  0.750233\n",
      "  6  As    0.759571  0.255407  0.748992\n",
      "  7  As    0.759149  0.756316  0.249107\n"
     ]
    },
    {
     "data": {
      "text/html": [
       "\n",
       "        <iframe\n",
       "            width=\"100%\"\n",
       "            height=\"650\"\n",
       "            src=\"http://127.0.0.1:8884/\"\n",
       "            frameborder=\"0\"\n",
       "            allowfullscreen\n",
       "            \n",
       "        ></iframe>\n",
       "        "
      ],
      "text/plain": [
       "<IPython.lib.display.IFrame at 0x7f95bc18d160>"
      ]
     },
     "metadata": {},
     "output_type": "display_data"
    }
   ],
   "source": [
    "relax_calc = matcalc.RelaxCalc(\n",
    "    calculator_macemp,\n",
    "    optimizer=\"FIRE\",\n",
    "    relax_atoms=True,\n",
    "    relax_cell=True,\n",
    ")\n",
    "\n",
    "data = relax_calc.calc(gaas_perturbed)\n",
    "\n",
    "final_structure_mace = data[\"final_structure\"]\n",
    "print(final_structure_mace)\n",
    "final_structure_mace"
   ]
  },
  {
   "cell_type": "markdown",
   "id": "4e376848",
   "metadata": {
    "slideshow": {
     "slide_type": "slide"
    }
   },
   "source": [
    "# Task 2. Calculate surface energy of Si\n",
    "\n",
    "Let's now switch to a different type of simulation. Next, we will calculate the surface energy of the (111) surface of silicon. This will involve cleaving the (111) surface and comparing the per-atom energy of the surface slab to the bulk cell."
   ]
  },
  {
   "cell_type": "markdown",
   "id": "6de10f9c",
   "metadata": {
    "slideshow": {
     "slide_type": "slide"
    }
   },
   "source": [
    "Let's start by loading the conventional structure of Si retrieved from the Crystallography Open Database."
   ]
  },
  {
   "cell_type": "code",
   "execution_count": null,
   "id": "8dca38cd",
   "metadata": {
    "slideshow": {
     "slide_type": "fragment"
    }
   },
   "outputs": [
    {
     "name": "stdout",
     "output_type": "stream",
     "text": [
      "Full Formula (Si8)\n",
      "Reduced Formula: Si\n",
      "abc   :   5.430700   5.430700   5.430700\n",
      "angles:  90.000000  90.000000  90.000000\n",
      "pbc   :       True       True       True\n",
      "Sites (8)\n",
      "  #  SP       a     b     c\n",
      "---  ----  ----  ----  ----\n",
      "  0  Si    0     0     0\n",
      "  1  Si    0     0.5   0.5\n",
      "  2  Si    0.5   0     0.5\n",
      "  3  Si    0.5   0.5   0\n",
      "  4  Si    0.75  0.75  0.25\n",
      "  5  Si    0.75  0.25  0.75\n",
      "  6  Si    0.25  0.75  0.75\n",
      "  7  Si    0.25  0.25  0.25\n"
     ]
    },
    {
     "data": {
      "text/html": [
       "\n",
       "        <iframe\n",
       "            width=\"100%\"\n",
       "            height=\"650\"\n",
       "            src=\"http://127.0.0.1:8884/\"\n",
       "            frameborder=\"0\"\n",
       "            allowfullscreen\n",
       "            \n",
       "        ></iframe>\n",
       "        "
      ],
      "text/plain": [
       "<IPython.lib.display.IFrame at 0x7f958dd1ecf0>"
      ]
     },
     "metadata": {},
     "output_type": "display_data"
    }
   ],
   "source": [
    "si_expt = Structure.from_file(os.path.join(\"structures\", \"Si.cif\"))  # expt structure from COD\n",
    "print(si_expt)\n",
    "si_expt"
   ]
  },
  {
   "cell_type": "markdown",
   "id": "df1f659e",
   "metadata": {
    "slideshow": {
     "slide_type": "fragment"
    }
   },
   "source": [
    "Next, we will create the slab cell that contains the Si(111) surface.\n",
    "\n",
    "Note that multiple slabs can be created depending on the details of the surface cleaving, which may result in different surface energies. The ``calc_slabs()`` function has various options that can be used to control the slab properties, but for now we will just use defaults."
   ]
  },
  {
   "cell_type": "code",
   "execution_count": null,
   "id": "3e6185c0",
   "metadata": {
    "slideshow": {
     "slide_type": "fragment"
    }
   },
   "outputs": [
    {
     "name": "stdout",
     "output_type": "stream",
     "text": [
      "Slab Summary (Si32)\n",
      "Reduced Formula: Si\n",
      "Miller index: (1, 1, 1)\n",
      "Shift: 0.3750, Scale Factor: [[-1  1  0]\n",
      " [-1  0  1]\n",
      " [ 1  0  0]]\n",
      "abc   :   7.680170   7.680170  34.560763\n",
      "angles:  86.815261  86.815261  60.000000\n",
      "Sites (32)\n",
      "1 Si     0.301136     0.301136     0.943182\n",
      "2 Si     0.301136     0.801136     0.943182\n",
      "3 Si     0.801136     0.301136     0.943182\n",
      "4 Si     0.801136     0.801136     0.943182\n",
      "5 Si     0.130682     0.130682     0.965909\n",
      "6 Si     0.130682     0.630682     0.965909\n",
      "7 Si     0.630682     0.130682     0.965909\n",
      "8 Si     0.630682     0.630682     0.965909\n",
      "9 Si     0.482955     0.482955     0.852273\n",
      "10 Si     0.482955     0.982955     0.852273\n",
      "11 Si     0.982955     0.482955     0.852273\n",
      "12 Si     0.982955     0.982955     0.852273\n",
      "13 Si     0.312500     0.312500     0.875000\n",
      "14 Si     0.312500     0.812500     0.875000\n",
      "15 Si     0.812500     0.312500     0.875000\n",
      "16 Si     0.812500     0.812500     0.875000\n",
      "17 Si     0.164773     0.164773     0.761364\n",
      "18 Si     0.164773     0.664773     0.761364\n",
      "19 Si     0.664773     0.164773     0.761364\n",
      "20 Si     0.664773     0.664773     0.761364\n",
      "21 Si     0.494318     0.494318     0.784091\n",
      "22 Si     0.494318     0.994318     0.784091\n",
      "23 Si     0.994318     0.494318     0.784091\n",
      "24 Si     0.994318     0.994318     0.784091\n",
      "25 Si     0.346591     0.346591     0.670455\n",
      "26 Si     0.346591     0.846591     0.670455\n",
      "27 Si     0.846591     0.346591     0.670455\n",
      "28 Si     0.846591     0.846591     0.670455\n",
      "29 Si     0.176136     0.176136     0.693182\n",
      "30 Si     0.176136     0.676136     0.693182\n",
      "31 Si     0.676136     0.176136     0.693182\n",
      "32 Si     0.676136     0.676136     0.693182\n"
     ]
    },
    {
     "data": {
      "text/html": [
       "\n",
       "        <iframe\n",
       "            width=\"100%\"\n",
       "            height=\"650\"\n",
       "            src=\"http://127.0.0.1:8884/\"\n",
       "            frameborder=\"0\"\n",
       "            allowfullscreen\n",
       "            \n",
       "        ></iframe>\n",
       "        "
      ],
      "text/plain": [
       "<IPython.lib.display.IFrame at 0x7f958dd198e0>"
      ]
     },
     "metadata": {},
     "output_type": "display_data"
    }
   ],
   "source": [
    "surface_calc = matcalc.SurfaceCalc(calculator_pbe)\n",
    "slab_data = surface_calc.calc_slabs(si_expt, miller_index=(1, 1, 1), inplane_supercell=(2,2))\n",
    "\n",
    "slab_structure = slab_data[0][\"slab\"]\n",
    "print(slab_structure)\n",
    "slab_structure"
   ]
  },
  {
   "cell_type": "markdown",
   "id": "6c3a8b62",
   "metadata": {
    "slideshow": {
     "slide_type": "fragment"
    }
   },
   "source": [
    "With our slab structure determined, we can calculate a surface energy by comparing the slab energy to the bulk.\n",
    "\n",
    "Surface energies are difficult to measure, but for Si(111), we are aiming to get an unreconstructed surface energy of \\~0.1 eV/A^2 which is \\~1.6 J/m^2.\n",
    "\n",
    "(1) Tran, R.; Xu, Z.; Radhakrishnan, B.; Winston, D.; Sun, W.; Persson, K. A.; Ong, S. P. Surface Energies of Elemental Crystals. Sci Data 2016, 3 (1), 160080. https://doi.org/10.1038/sdata.2016.80.\n",
    "\n",
    "See also: http://crystalium.materialsvirtuallab.org"
   ]
  },
  {
   "cell_type": "code",
   "execution_count": null,
   "id": "719bd74f",
   "metadata": {
    "slideshow": {
     "slide_type": "fragment"
    }
   },
   "outputs": [
    {
     "name": "stdout",
     "output_type": "stream",
     "text": [
      "0.06070073666217083\n"
     ]
    }
   ],
   "source": [
    "surface_data = surface_calc.calc({\"bulk\": si_expt, \"slab\": slab_structure})\n",
    "print(surface_data[\"surface_energy\"])"
   ]
  },
  {
   "cell_type": "markdown",
   "id": "21dd6590",
   "metadata": {
    "slideshow": {
     "slide_type": "fragment"
    }
   },
   "source": [
    "The basic calculation underestimates, so caution is needed when doing these kinds of simulations quickly.\n",
    "\n",
    "However, we will keep moving forward."
   ]
  },
  {
   "cell_type": "markdown",
   "id": "563521ef",
   "metadata": {
    "slideshow": {
     "slide_type": "slide"
    }
   },
   "source": [
    "# Task 3: Calculate the phonon dispersion of Si\n",
    "\n",
    "Next, we'll calculate the phonon dispersion of Si. The phonon dispersion provides information about crystalline vibrations which can be related to thermal conductivity, heat capacity, free energy, and other materials properties.\n",
    "\n",
    "More information about how to interpret phonon dispersions can be found here: https://youtu.be/acT6zQbiiio"
   ]
  },
  {
   "cell_type": "markdown",
   "id": "ace2298e",
   "metadata": {
    "slideshow": {
     "slide_type": "slide"
    }
   },
   "source": [
    "Calculating phonon properties is as easy as running the ``PhononCalc`` Property Calculator on the target structure.\n",
    "\n",
    "We will load the primitive cell (with the fewest number of atoms in the unit cell) to make the calculations efficient as well as to have a more interpretable band structure."
   ]
  },
  {
   "cell_type": "code",
   "execution_count": null,
   "id": "7fd0f2bd",
   "metadata": {
    "slideshow": {
     "slide_type": "fragment"
    }
   },
   "outputs": [
    {
     "data": {
      "text/html": [
       "\n",
       "        <iframe\n",
       "            width=\"100%\"\n",
       "            height=\"650\"\n",
       "            src=\"http://127.0.0.1:8884/\"\n",
       "            frameborder=\"0\"\n",
       "            allowfullscreen\n",
       "            \n",
       "        ></iframe>\n",
       "        "
      ],
      "text/plain": [
       "<IPython.lib.display.IFrame at 0x7f96d5499640>"
      ]
     },
     "metadata": {},
     "output_type": "display_data"
    }
   ],
   "source": [
    "si_primitive = Structure.from_file(os.path.join(\"structures\", \"Si_primitive_mp-149.cif\"))\n",
    "si_primitive"
   ]
  },
  {
   "cell_type": "markdown",
   "id": "a2e20f2b",
   "metadata": {
    "slideshow": {
     "slide_type": "fragment"
    }
   },
   "source": [
    "After loading the structure, running the phonon calculation is as easy as invoking the ``PhononCalc`` property calculator using our potential energy function of choice."
   ]
  },
  {
   "cell_type": "code",
   "execution_count": null,
   "id": "5f1a72f3",
   "metadata": {
    "slideshow": {
     "slide_type": "fragment"
    }
   },
   "outputs": [
    {
     "name": "stderr",
     "output_type": "stream",
     "text": [
      "/home/lengze/exit/envs/matcalc_env/lib/python3.12/site-packages/seekpath/hpkot/__init__.py:172: DeprecationWarning:\n",
      "\n",
      "dict interface is deprecated. Use attribute interface instead\n",
      "\n"
     ]
    }
   ],
   "source": [
    "from matcalc import PhononCalc\n",
    "phonon_calc = PhononCalc(calculator_pbe, relax_structure=True, \n",
    "                         write_band_structure=os.path.join(\"outputs\", \"si_phonon_bs.yaml\"),\n",
    "                         write_total_dos=os.path.join(\"outputs\", \"si_phonon_dos.dat\"),\n",
    "                         write_phonon=os.path.join(\"outputs\", \"si_phonon.yaml\"))\n",
    "data = phonon_calc.calc(si_primitive)"
   ]
  },
  {
   "cell_type": "markdown",
   "id": "63295602",
   "metadata": {
    "slideshow": {
     "slide_type": "fragment"
    }
   },
   "source": [
    "Let's now plot the phonon dispersion."
   ]
  },
  {
   "cell_type": "code",
   "execution_count": null,
   "id": "ff85f0b4",
   "metadata": {
    "slideshow": {
     "slide_type": "fragment"
    }
   },
   "outputs": [
    {
     "data": {
      "image/png": "[encoded data removed]",
      "text/plain": [
       "<Figure size 1600x500 with 2 Axes>"
      ]
     },
     "metadata": {},
     "output_type": "display_data"
    }
   ],
   "source": [
    "import matplotlib.pyplot as plt\n",
    "\n",
    "phonon_bs = data[\"phonon\"].band_structure  # get the phonon band structure\n",
    "\n",
    "# Plotting code below here -->\n",
    "n_axes = sum(1 for c in phonon_bs.path_connections if not c)\n",
    "# Create n_axes subplot(s) along 1 row\n",
    "fig, axs = plt.subplots(1, n_axes, figsize=(16, 5))\n",
    "# If only one axis is created, wrap it into a list\n",
    "if n_axes == 1:\n",
    "    axs = [axs]\n",
    "\n",
    "    # Remove y-axis labels & ticks from all but the first subplot\n",
    "for ax in axs[1:]:\n",
    "    ax.set_ylabel('')\n",
    "    ax.tick_params(axis='y', labelleft=False)\n",
    "\n",
    "phonon_bs.plot(ax=axs)\n",
    "fig.suptitle(\"Phonon Band Structure of Si\", fontsize=16)\n",
    "plt.subplots_adjust(wspace=0.02)  # Remove horizontal space so they almost touch\n",
    "plt.show()\n",
    "\n"
   ]
  },
  {
   "cell_type": "markdown",
   "id": "296d609c",
   "metadata": {
    "slideshow": {
     "slide_type": "fragment"
    }
   },
   "source": [
    "We can also plot the phonon density of states, or DOS."
   ]
  },
  {
   "cell_type": "code",
   "execution_count": null,
   "id": "6d4460e9",
   "metadata": {
    "slideshow": {
     "slide_type": "fragment"
    }
   },
   "outputs": [
    {
     "data": {
      "image/png": "[encoded data removed]",
      "text/plain": [
       "<Figure size 800x500 with 1 Axes>"
      ]
     },
     "metadata": {},
     "output_type": "display_data"
    }
   ],
   "source": [
    "phonon_dos = data[\"phonon\"].total_dos\n",
    "\n",
    "fig, ax = plt.subplots(figsize=(8, 5))\n",
    "phonon_dos.plot(ax=ax)\n",
    "plt.title(\"Phonon Density of States of Si\", fontsize=16)\n",
    "plt.show()"
   ]
  },
  {
   "cell_type": "markdown",
   "id": "c1888d4e",
   "metadata": {
    "slideshow": {
     "slide_type": "fragment"
    }
   },
   "source": [
    "Finally, let's plot the vibrational heat capacity of the material.\n",
    "\n",
    "Note that the heat capacity is plotted in J/mol*K, where we are referring to **mols of the formula unit / molecule in the unit cell**. Since our unit cell contained 2 atoms of Si, this is the heat capacity per 2 mols of Si, not per mol of Si."
   ]
  },
  {
   "cell_type": "code",
   "execution_count": null,
   "id": "bd26c663",
   "metadata": {
    "slideshow": {
     "slide_type": "fragment"
    }
   },
   "outputs": [
    {
     "data": {
      "image/png": "[encoded data removed]",
      "text/plain": [
       "<Figure size 640x480 with 1 Axes>"
      ]
     },
     "metadata": {},
     "output_type": "display_data"
    }
   ],
   "source": [
    "# plot the heat capacity\n",
    "import matplotlib.pyplot as plt\n",
    "plt.plot(data[\"thermal_properties\"][\"temperatures\"], data[\"thermal_properties\"][\"heat_capacity\"])\n",
    "plt.xlabel(\"Temperature (K)\")\n",
    "plt.ylabel(\"Heat Capacity (J/mol-K)\")\n",
    "plt.title(\"Heat Capacity vs Temperature\")\n",
    "plt.show()"
   ]
  },
  {
   "cell_type": "markdown",
   "id": "0cd33858",
   "metadata": {
    "slideshow": {
     "slide_type": "fragment"
    }
   },
   "source": [
    "All this thermal data can be compared, for example, to phonon data in the Materials Project: https://next-gen.materialsproject.org/materials/mp-149?material_ids=mp-149"
   ]
  },
  {
   "cell_type": "markdown",
   "id": "946b8156",
   "metadata": {
    "slideshow": {
     "slide_type": "slide"
    }
   },
   "source": [
    "# Task 4. Calculate 25 elastic tensors with parallelization\n",
    "\n",
    "The *matcalc* software includes basic facilities to parallelize individual calculations over various processing cores. This is as simple as replacing the ``calc()`` function in a Property Calculator with the ``calc_many()`` function, and providing a list of ``Structure`` objects instead of a single object.\n",
    "\n",
    "Let's use this functionality to calculate the elastic tensors of 25 materials in parallel."
   ]
  },
  {
   "cell_type": "markdown",
   "id": "3a956805",
   "metadata": {
    "slideshow": {
     "slide_type": "slide"
    }
   },
   "source": [
    "Let's first load 25 structures."
   ]
  },
  {
   "cell_type": "code",
   "execution_count": null,
   "id": "a53ed699",
   "metadata": {
    "slideshow": {
     "slide_type": "fragment"
    }
   },
   "outputs": [
    {
     "name": "stdout",
     "output_type": "stream",
     "text": [
      "25\n"
     ]
    }
   ],
   "source": [
    "import glob\n",
    "\n",
    "# Find all .cif files in the \"cifs_mp\" folder\n",
    "cif_files = glob.glob(\"structures_batch/*.cif\")  # folder contains assorted crystal structures from Materials Project\n",
    "structures = []\n",
    "for cif_file in cif_files:\n",
    "    structures.append(Structure.from_file(cif_file))\n",
    "    \n",
    "print(len(structures))"
   ]
  },
  {
   "cell_type": "markdown",
   "id": "18610d38",
   "metadata": {
    "slideshow": {
     "slide_type": "fragment"
    }
   },
   "source": [
    "We can now use the ``calc_many()`` function of ``ElasticityCalc`` to calculate elastic moduli of all these materials. Note that casting the result to a list forces the calculatons to take place and ``njobs=-1`` tries to use all cores on your processor.\n",
    "\n",
    "We'll time how long it takes to calculate 25 elastic tensors using the ``%%time`` magic command."
   ]
  },
  {
   "cell_type": "code",
   "execution_count": null,
   "id": "7deb2638",
   "metadata": {
    "slideshow": {
     "slide_type": "fragment"
    }
   },
   "outputs": [
    {
     "name": "stderr",
     "output_type": "stream",
     "text": [
      "/home/lengze/exit/envs/matcalc_env/lib/python3.12/site-packages/torch/storage.py:414: FutureWarning: You are using `torch.load` with `weights_only=False` (the current default value), which uses the default pickle module implicitly. It is possible to construct malicious pickle data which will execute arbitrary code during unpickling (See https://github.com/pytorch/pytorch/blob/main/SECURITY.md#untrusted-models for more details). In a future release, the default value for `weights_only` will be flipped to `True`. This limits the functions that could be executed during unpickling. Arbitrary objects will no longer be allowed to be loaded via this mode unless they are explicitly allowlisted by the user via `torch.serialization.add_safe_globals`. We recommend you start setting `weights_only=True` for any use case where you don't have full control of the loaded file. Please open an issue on GitHub for any issues related to this experimental feature.\n",
      "  return torch.load(io.BytesIO(b))\n",
      "/home/lengze/exit/envs/matcalc_env/lib/python3.12/site-packages/torch/storage.py:414: FutureWarning: You are using `torch.load` with `weights_only=False` (the current default value), which uses the default pickle module implicitly. It is possible to construct malicious pickle data which will execute arbitrary code during unpickling (See https://github.com/pytorch/pytorch/blob/main/SECURITY.md#untrusted-models for more details). In a future release, the default value for `weights_only` will be flipped to `True`. This limits the functions that could be executed during unpickling. Arbitrary objects will no longer be allowed to be loaded via this mode unless they are explicitly allowlisted by the user via `torch.serialization.add_safe_globals`. We recommend you start setting `weights_only=True` for any use case where you don't have full control of the loaded file. Please open an issue on GitHub for any issues related to this experimental feature.\n",
      "  return torch.load(io.BytesIO(b))\n",
      "/home/lengze/exit/envs/matcalc_env/lib/python3.12/site-packages/torch/storage.py:414: FutureWarning: You are using `torch.load` with `weights_only=False` (the current default value), which uses the default pickle module implicitly. It is possible to construct malicious pickle data which will execute arbitrary code during unpickling (See https://github.com/pytorch/pytorch/blob/main/SECURITY.md#untrusted-models for more details). In a future release, the default value for `weights_only` will be flipped to `True`. This limits the functions that could be executed during unpickling. Arbitrary objects will no longer be allowed to be loaded via this mode unless they are explicitly allowlisted by the user via `torch.serialization.add_safe_globals`. We recommend you start setting `weights_only=True` for any use case where you don't have full control of the loaded file. Please open an issue on GitHub for any issues related to this experimental feature.\n",
      "  return torch.load(io.BytesIO(b))\n",
      "/home/lengze/exit/envs/matcalc_env/lib/python3.12/site-packages/torch/storage.py:414: FutureWarning: You are using `torch.load` with `weights_only=False` (the current default value), which uses the default pickle module implicitly. It is possible to construct malicious pickle data which will execute arbitrary code during unpickling (See https://github.com/pytorch/pytorch/blob/main/SECURITY.md#untrusted-models for more details). In a future release, the default value for `weights_only` will be flipped to `True`. This limits the functions that could be executed during unpickling. Arbitrary objects will no longer be allowed to be loaded via this mode unless they are explicitly allowlisted by the user via `torch.serialization.add_safe_globals`. We recommend you start setting `weights_only=True` for any use case where you don't have full control of the loaded file. Please open an issue on GitHub for any issues related to this experimental feature.\n",
      "  return torch.load(io.BytesIO(b))\n",
      "/home/lengze/exit/envs/matcalc_env/lib/python3.12/site-packages/torch/storage.py:414: FutureWarning: You are using `torch.load` with `weights_only=False` (the current default value), which uses the default pickle module implicitly. It is possible to construct malicious pickle data which will execute arbitrary code during unpickling (See https://github.com/pytorch/pytorch/blob/main/SECURITY.md#untrusted-models for more details). In a future release, the default value for `weights_only` will be flipped to `True`. This limits the functions that could be executed during unpickling. Arbitrary objects will no longer be allowed to be loaded via this mode unless they are explicitly allowlisted by the user via `torch.serialization.add_safe_globals`. We recommend you start setting `weights_only=True` for any use case where you don't have full control of the loaded file. Please open an issue on GitHub for any issues related to this experimental feature.\n",
      "  return torch.load(io.BytesIO(b))\n",
      "/home/lengze/exit/envs/matcalc_env/lib/python3.12/site-packages/torch/storage.py:414: FutureWarning: You are using `torch.load` with `weights_only=False` (the current default value), which uses the default pickle module implicitly. It is possible to construct malicious pickle data which will execute arbitrary code during unpickling (See https://github.com/pytorch/pytorch/blob/main/SECURITY.md#untrusted-models for more details). In a future release, the default value for `weights_only` will be flipped to `True`. This limits the functions that could be executed during unpickling. Arbitrary objects will no longer be allowed to be loaded via this mode unless they are explicitly allowlisted by the user via `torch.serialization.add_safe_globals`. We recommend you start setting `weights_only=True` for any use case where you don't have full control of the loaded file. Please open an issue on GitHub for any issues related to this experimental feature.\n",
      "  return torch.load(io.BytesIO(b))\n",
      "/home/lengze/exit/envs/matcalc_env/lib/python3.12/site-packages/torch/storage.py:414: FutureWarning: You are using `torch.load` with `weights_only=False` (the current default value), which uses the default pickle module implicitly. It is possible to construct malicious pickle data which will execute arbitrary code during unpickling (See https://github.com/pytorch/pytorch/blob/main/SECURITY.md#untrusted-models for more details). In a future release, the default value for `weights_only` will be flipped to `True`. This limits the functions that could be executed during unpickling. Arbitrary objects will no longer be allowed to be loaded via this mode unless they are explicitly allowlisted by the user via `torch.serialization.add_safe_globals`. We recommend you start setting `weights_only=True` for any use case where you don't have full control of the loaded file. Please open an issue on GitHub for any issues related to this experimental feature.\n",
      "  return torch.load(io.BytesIO(b))\n",
      "/home/lengze/exit/envs/matcalc_env/lib/python3.12/site-packages/torch/storage.py:414: FutureWarning: You are using `torch.load` with `weights_only=False` (the current default value), which uses the default pickle module implicitly. It is possible to construct malicious pickle data which will execute arbitrary code during unpickling (See https://github.com/pytorch/pytorch/blob/main/SECURITY.md#untrusted-models for more details). In a future release, the default value for `weights_only` will be flipped to `True`. This limits the functions that could be executed during unpickling. Arbitrary objects will no longer be allowed to be loaded via this mode unless they are explicitly allowlisted by the user via `torch.serialization.add_safe_globals`. We recommend you start setting `weights_only=True` for any use case where you don't have full control of the loaded file. Please open an issue on GitHub for any issues related to this experimental feature.\n",
      "  return torch.load(io.BytesIO(b))\n",
      "/home/lengze/exit/envs/matcalc_env/lib/python3.12/site-packages/torch/storage.py:414: FutureWarning: You are using `torch.load` with `weights_only=False` (the current default value), which uses the default pickle module implicitly. It is possible to construct malicious pickle data which will execute arbitrary code during unpickling (See https://github.com/pytorch/pytorch/blob/main/SECURITY.md#untrusted-models for more details). In a future release, the default value for `weights_only` will be flipped to `True`. This limits the functions that could be executed during unpickling. Arbitrary objects will no longer be allowed to be loaded via this mode unless they are explicitly allowlisted by the user via `torch.serialization.add_safe_globals`. We recommend you start setting `weights_only=True` for any use case where you don't have full control of the loaded file. Please open an issue on GitHub for any issues related to this experimental feature.\n",
      "  return torch.load(io.BytesIO(b))\n",
      "/home/lengze/exit/envs/matcalc_env/lib/python3.12/site-packages/torch/storage.py:414: FutureWarning: You are using `torch.load` with `weights_only=False` (the current default value), which uses the default pickle module implicitly. It is possible to construct malicious pickle data which will execute arbitrary code during unpickling (See https://github.com/pytorch/pytorch/blob/main/SECURITY.md#untrusted-models for more details). In a future release, the default value for `weights_only` will be flipped to `True`. This limits the functions that could be executed during unpickling. Arbitrary objects will no longer be allowed to be loaded via this mode unless they are explicitly allowlisted by the user via `torch.serialization.add_safe_globals`. We recommend you start setting `weights_only=True` for any use case where you don't have full control of the loaded file. Please open an issue on GitHub for any issues related to this experimental feature.\n",
      "  return torch.load(io.BytesIO(b))\n",
      "/home/lengze/exit/envs/matcalc_env/lib/python3.12/site-packages/torch/storage.py:414: FutureWarning: You are using `torch.load` with `weights_only=False` (the current default value), which uses the default pickle module implicitly. It is possible to construct malicious pickle data which will execute arbitrary code during unpickling (See https://github.com/pytorch/pytorch/blob/main/SECURITY.md#untrusted-models for more details). In a future release, the default value for `weights_only` will be flipped to `True`. This limits the functions that could be executed during unpickling. Arbitrary objects will no longer be allowed to be loaded via this mode unless they are explicitly allowlisted by the user via `torch.serialization.add_safe_globals`. We recommend you start setting `weights_only=True` for any use case where you don't have full control of the loaded file. Please open an issue on GitHub for any issues related to this experimental feature.\n",
      "  return torch.load(io.BytesIO(b))\n",
      "/home/lengze/exit/envs/matcalc_env/lib/python3.12/site-packages/torch/storage.py:414: FutureWarning: You are using `torch.load` with `weights_only=False` (the current default value), which uses the default pickle module implicitly. It is possible to construct malicious pickle data which will execute arbitrary code during unpickling (See https://github.com/pytorch/pytorch/blob/main/SECURITY.md#untrusted-models for more details). In a future release, the default value for `weights_only` will be flipped to `True`. This limits the functions that could be executed during unpickling. Arbitrary objects will no longer be allowed to be loaded via this mode unless they are explicitly allowlisted by the user via `torch.serialization.add_safe_globals`. We recommend you start setting `weights_only=True` for any use case where you don't have full control of the loaded file. Please open an issue on GitHub for any issues related to this experimental feature.\n",
      "  return torch.load(io.BytesIO(b))\n",
      "/home/lengze/exit/envs/matcalc_env/lib/python3.12/site-packages/torch/storage.py:414: FutureWarning: You are using `torch.load` with `weights_only=False` (the current default value), which uses the default pickle module implicitly. It is possible to construct malicious pickle data which will execute arbitrary code during unpickling (See https://github.com/pytorch/pytorch/blob/main/SECURITY.md#untrusted-models for more details). In a future release, the default value for `weights_only` will be flipped to `True`. This limits the functions that could be executed during unpickling. Arbitrary objects will no longer be allowed to be loaded via this mode unless they are explicitly allowlisted by the user via `torch.serialization.add_safe_globals`. We recommend you start setting `weights_only=True` for any use case where you don't have full control of the loaded file. Please open an issue on GitHub for any issues related to this experimental feature.\n",
      "  return torch.load(io.BytesIO(b))\n",
      "/home/lengze/exit/envs/matcalc_env/lib/python3.12/site-packages/torch/storage.py:414: FutureWarning: You are using `torch.load` with `weights_only=False` (the current default value), which uses the default pickle module implicitly. It is possible to construct malicious pickle data which will execute arbitrary code during unpickling (See https://github.com/pytorch/pytorch/blob/main/SECURITY.md#untrusted-models for more details). In a future release, the default value for `weights_only` will be flipped to `True`. This limits the functions that could be executed during unpickling. Arbitrary objects will no longer be allowed to be loaded via this mode unless they are explicitly allowlisted by the user via `torch.serialization.add_safe_globals`. We recommend you start setting `weights_only=True` for any use case where you don't have full control of the loaded file. Please open an issue on GitHub for any issues related to this experimental feature.\n",
      "  return torch.load(io.BytesIO(b))\n",
      "/home/lengze/exit/envs/matcalc_env/lib/python3.12/site-packages/torch/storage.py:414: FutureWarning: You are using `torch.load` with `weights_only=False` (the current default value), which uses the default pickle module implicitly. It is possible to construct malicious pickle data which will execute arbitrary code during unpickling (See https://github.com/pytorch/pytorch/blob/main/SECURITY.md#untrusted-models for more details). In a future release, the default value for `weights_only` will be flipped to `True`. This limits the functions that could be executed during unpickling. Arbitrary objects will no longer be allowed to be loaded via this mode unless they are explicitly allowlisted by the user via `torch.serialization.add_safe_globals`. We recommend you start setting `weights_only=True` for any use case where you don't have full control of the loaded file. Please open an issue on GitHub for any issues related to this experimental feature.\n",
      "  return torch.load(io.BytesIO(b))\n",
      "/home/lengze/exit/envs/matcalc_env/lib/python3.12/site-packages/torch/storage.py:414: FutureWarning: You are using `torch.load` with `weights_only=False` (the current default value), which uses the default pickle module implicitly. It is possible to construct malicious pickle data which will execute arbitrary code during unpickling (See https://github.com/pytorch/pytorch/blob/main/SECURITY.md#untrusted-models for more details). In a future release, the default value for `weights_only` will be flipped to `True`. This limits the functions that could be executed during unpickling. Arbitrary objects will no longer be allowed to be loaded via this mode unless they are explicitly allowlisted by the user via `torch.serialization.add_safe_globals`. We recommend you start setting `weights_only=True` for any use case where you don't have full control of the loaded file. Please open an issue on GitHub for any issues related to this experimental feature.\n",
      "  return torch.load(io.BytesIO(b))\n",
      "/home/lengze/exit/envs/matcalc_env/lib/python3.12/site-packages/torch/storage.py:414: FutureWarning: You are using `torch.load` with `weights_only=False` (the current default value), which uses the default pickle module implicitly. It is possible to construct malicious pickle data which will execute arbitrary code during unpickling (See https://github.com/pytorch/pytorch/blob/main/SECURITY.md#untrusted-models for more details). In a future release, the default value for `weights_only` will be flipped to `True`. This limits the functions that could be executed during unpickling. Arbitrary objects will no longer be allowed to be loaded via this mode unless they are explicitly allowlisted by the user via `torch.serialization.add_safe_globals`. We recommend you start setting `weights_only=True` for any use case where you don't have full control of the loaded file. Please open an issue on GitHub for any issues related to this experimental feature.\n",
      "  return torch.load(io.BytesIO(b))\n",
      "/home/lengze/exit/envs/matcalc_env/lib/python3.12/site-packages/torch/storage.py:414: FutureWarning: You are using `torch.load` with `weights_only=False` (the current default value), which uses the default pickle module implicitly. It is possible to construct malicious pickle data which will execute arbitrary code during unpickling (See https://github.com/pytorch/pytorch/blob/main/SECURITY.md#untrusted-models for more details). In a future release, the default value for `weights_only` will be flipped to `True`. This limits the functions that could be executed during unpickling. Arbitrary objects will no longer be allowed to be loaded via this mode unless they are explicitly allowlisted by the user via `torch.serialization.add_safe_globals`. We recommend you start setting `weights_only=True` for any use case where you don't have full control of the loaded file. Please open an issue on GitHub for any issues related to this experimental feature.\n",
      "  return torch.load(io.BytesIO(b))\n",
      "/home/lengze/exit/envs/matcalc_env/lib/python3.12/site-packages/torch/storage.py:414: FutureWarning: You are using `torch.load` with `weights_only=False` (the current default value), which uses the default pickle module implicitly. It is possible to construct malicious pickle data which will execute arbitrary code during unpickling (See https://github.com/pytorch/pytorch/blob/main/SECURITY.md#untrusted-models for more details). In a future release, the default value for `weights_only` will be flipped to `True`. This limits the functions that could be executed during unpickling. Arbitrary objects will no longer be allowed to be loaded via this mode unless they are explicitly allowlisted by the user via `torch.serialization.add_safe_globals`. We recommend you start setting `weights_only=True` for any use case where you don't have full control of the loaded file. Please open an issue on GitHub for any issues related to this experimental feature.\n",
      "  return torch.load(io.BytesIO(b))\n",
      "/home/lengze/exit/envs/matcalc_env/lib/python3.12/site-packages/torch/storage.py:414: FutureWarning: You are using `torch.load` with `weights_only=False` (the current default value), which uses the default pickle module implicitly. It is possible to construct malicious pickle data which will execute arbitrary code during unpickling (See https://github.com/pytorch/pytorch/blob/main/SECURITY.md#untrusted-models for more details). In a future release, the default value for `weights_only` will be flipped to `True`. This limits the functions that could be executed during unpickling. Arbitrary objects will no longer be allowed to be loaded via this mode unless they are explicitly allowlisted by the user via `torch.serialization.add_safe_globals`. We recommend you start setting `weights_only=True` for any use case where you don't have full control of the loaded file. Please open an issue on GitHub for any issues related to this experimental feature.\n",
      "  return torch.load(io.BytesIO(b))\n",
      "/home/lengze/exit/envs/matcalc_env/lib/python3.12/site-packages/torch/storage.py:414: FutureWarning: You are using `torch.load` with `weights_only=False` (the current default value), which uses the default pickle module implicitly. It is possible to construct malicious pickle data which will execute arbitrary code during unpickling (See https://github.com/pytorch/pytorch/blob/main/SECURITY.md#untrusted-models for more details). In a future release, the default value for `weights_only` will be flipped to `True`. This limits the functions that could be executed during unpickling. Arbitrary objects will no longer be allowed to be loaded via this mode unless they are explicitly allowlisted by the user via `torch.serialization.add_safe_globals`. We recommend you start setting `weights_only=True` for any use case where you don't have full control of the loaded file. Please open an issue on GitHub for any issues related to this experimental feature.\n",
      "  return torch.load(io.BytesIO(b))\n",
      "/home/lengze/exit/envs/matcalc_env/lib/python3.12/site-packages/torch/storage.py:414: FutureWarning: You are using `torch.load` with `weights_only=False` (the current default value), which uses the default pickle module implicitly. It is possible to construct malicious pickle data which will execute arbitrary code during unpickling (See https://github.com/pytorch/pytorch/blob/main/SECURITY.md#untrusted-models for more details). In a future release, the default value for `weights_only` will be flipped to `True`. This limits the functions that could be executed during unpickling. Arbitrary objects will no longer be allowed to be loaded via this mode unless they are explicitly allowlisted by the user via `torch.serialization.add_safe_globals`. We recommend you start setting `weights_only=True` for any use case where you don't have full control of the loaded file. Please open an issue on GitHub for any issues related to this experimental feature.\n",
      "  return torch.load(io.BytesIO(b))\n",
      "/home/lengze/exit/envs/matcalc_env/lib/python3.12/site-packages/torch/storage.py:414: FutureWarning: You are using `torch.load` with `weights_only=False` (the current default value), which uses the default pickle module implicitly. It is possible to construct malicious pickle data which will execute arbitrary code during unpickling (See https://github.com/pytorch/pytorch/blob/main/SECURITY.md#untrusted-models for more details). In a future release, the default value for `weights_only` will be flipped to `True`. This limits the functions that could be executed during unpickling. Arbitrary objects will no longer be allowed to be loaded via this mode unless they are explicitly allowlisted by the user via `torch.serialization.add_safe_globals`. We recommend you start setting `weights_only=True` for any use case where you don't have full control of the loaded file. Please open an issue on GitHub for any issues related to this experimental feature.\n",
      "  return torch.load(io.BytesIO(b))\n",
      "/home/lengze/exit/envs/matcalc_env/lib/python3.12/site-packages/torch/storage.py:414: FutureWarning: You are using `torch.load` with `weights_only=False` (the current default value), which uses the default pickle module implicitly. It is possible to construct malicious pickle data which will execute arbitrary code during unpickling (See https://github.com/pytorch/pytorch/blob/main/SECURITY.md#untrusted-models for more details). In a future release, the default value for `weights_only` will be flipped to `True`. This limits the functions that could be executed during unpickling. Arbitrary objects will no longer be allowed to be loaded via this mode unless they are explicitly allowlisted by the user via `torch.serialization.add_safe_globals`. We recommend you start setting `weights_only=True` for any use case where you don't have full control of the loaded file. Please open an issue on GitHub for any issues related to this experimental feature.\n",
      "  return torch.load(io.BytesIO(b))\n",
      "/home/lengze/exit/envs/matcalc_env/lib/python3.12/site-packages/torch/storage.py:414: FutureWarning: You are using `torch.load` with `weights_only=False` (the current default value), which uses the default pickle module implicitly. It is possible to construct malicious pickle data which will execute arbitrary code during unpickling (See https://github.com/pytorch/pytorch/blob/main/SECURITY.md#untrusted-models for more details). In a future release, the default value for `weights_only` will be flipped to `True`. This limits the functions that could be executed during unpickling. Arbitrary objects will no longer be allowed to be loaded via this mode unless they are explicitly allowlisted by the user via `torch.serialization.add_safe_globals`. We recommend you start setting `weights_only=True` for any use case where you don't have full control of the loaded file. Please open an issue on GitHub for any issues related to this experimental feature.\n",
      "  return torch.load(io.BytesIO(b))\n"
     ]
    },
    {
     "name": "stdout",
     "output_type": "stream",
     "text": [
      "CPU times: user 500 ms, sys: 246 ms, total: 746 ms\n",
      "Wall time: 12 s\n"
     ]
    }
   ],
   "source": [
    "%%time\n",
    "\n",
    "from matcalc import ElasticityCalc\n",
    "elastic_calc = ElasticityCalc(calculator_pbe, relax_structure=True)\n",
    "elastic_data = list(elastic_calc.calc_many(structures, n_jobs=-1))"
   ]
  },
  {
   "cell_type": "markdown",
   "id": "797b393a",
   "metadata": {
    "slideshow": {
     "slide_type": "fragment"
    }
   },
   "source": [
    "Our 25 calculations are complete - let's now print out our results! Note that each item contains more data, we will just print out various elastic moduli instead of the full elastic tensor."
   ]
  },
  {
   "cell_type": "code",
   "execution_count": null,
   "id": "058c8787",
   "metadata": {
    "slideshow": {
     "slide_type": "fragment"
    }
   },
   "outputs": [
    {
     "name": "stdout",
     "output_type": "stream",
     "text": [
      "structures_batch/SiC_mp-8062.cif\n",
      "--------\n",
      "Bulk modulus: 222.54536784047772 GPa\n",
      "Shear modulus: 192.83975129603317 GPa\n",
      "\n",
      "\n",
      "structures_batch/HgS_mp-634.cif\n",
      "--------\n",
      "Bulk modulus: 65.3056682911571 GPa\n",
      "Shear modulus: 17.854953434885537 GPa\n",
      "\n",
      "\n",
      "structures_batch/SmNi5_mp-1075.cif\n",
      "--------\n",
      "Bulk modulus: 121.9336603884339 GPa\n",
      "Shear modulus: 59.73941205507692 GPa\n",
      "\n",
      "\n",
      "structures_batch/BaTiO3_mp-5986.cif\n",
      "--------\n",
      "Bulk modulus: 141.78232988315486 GPa\n",
      "Shear modulus: 85.02936979003316 GPa\n",
      "\n",
      "\n",
      "structures_batch/C_mp-48.cif\n",
      "--------\n",
      "Bulk modulus: 89.01811427332967 GPa\n",
      "Shear modulus: 87.61886375988998 GPa\n",
      "\n",
      "\n",
      "structures_batch/Al2O3_mp-1143.cif\n",
      "--------\n",
      "Bulk modulus: 198.09193316275181 GPa\n",
      "Shear modulus: 150.19819631245426 GPa\n",
      "\n",
      "\n",
      "structures_batch/Ce_mp-64.cif\n",
      "--------\n",
      "Bulk modulus: 36.162462423670775 GPa\n",
      "Shear modulus: 16.79903812680155 GPa\n",
      "\n",
      "\n",
      "structures_batch/InP_mp-20351.cif\n",
      "--------\n",
      "Bulk modulus: 61.179679396600456 GPa\n",
      "Shear modulus: 39.036514477720736 GPa\n",
      "\n",
      "\n",
      "structures_batch/TiO2_mp-2657.cif\n",
      "--------\n",
      "Bulk modulus: 179.78913758285256 GPa\n",
      "Shear modulus: 85.23643154850184 GPa\n",
      "\n",
      "\n",
      "structures_batch/ZnO_mp-2133.cif\n",
      "--------\n",
      "Bulk modulus: 117.31177991842382 GPa\n",
      "Shear modulus: 65.11576306022515 GPa\n",
      "\n",
      "\n",
      "structures_batch/TiO2_mp-390.cif\n",
      "--------\n",
      "Bulk modulus: 170.15796190007717 GPa\n",
      "Shear modulus: 61.710426256886386 GPa\n",
      "\n",
      "\n",
      "structures_batch/SmAl4_mp-1891.cif\n",
      "--------\n",
      "Bulk modulus: 71.37130343245293 GPa\n",
      "Shear modulus: 38.18704425426644 GPa\n",
      "\n",
      "\n",
      "structures_batch/GaN_mp-830.cif\n",
      "--------\n",
      "Bulk modulus: 178.2831426884181 GPa\n",
      "Shear modulus: 115.80119810845105 GPa\n",
      "\n",
      "\n",
      "structures_batch/ZnSe_mp-380.cif\n",
      "--------\n",
      "Bulk modulus: 51.23339543554756 GPa\n",
      "Shear modulus: 33.24563582041882 GPa\n",
      "\n",
      "\n",
      "structures_batch/GaAs_mp-2534.cif\n",
      "--------\n",
      "Bulk modulus: 59.86390768087242 GPa\n",
      "Shear modulus: 43.520984523084294 GPa\n",
      "\n",
      "\n",
      "structures_batch/CdSe_mp-2691.cif\n",
      "--------\n",
      "Bulk modulus: 40.2016021905661 GPa\n",
      "Shear modulus: 17.08741050256385 GPa\n",
      "\n",
      "\n",
      "structures_batch/Si_mp-149.cif\n",
      "--------\n",
      "Bulk modulus: 102.08336968663824 GPa\n",
      "Shear modulus: 62.841121665771645 GPa\n",
      "\n",
      "\n",
      "structures_batch/CdS_mp-672.cif\n",
      "--------\n",
      "Bulk modulus: 46.80269258529165 GPa\n",
      "Shear modulus: 27.537754871006058 GPa\n",
      "\n",
      "\n",
      "structures_batch/AlAs_mp-2172.cif\n",
      "--------\n",
      "Bulk modulus: 69.21114386473377 GPa\n",
      "Shear modulus: 50.13848777010018 GPa\n",
      "\n",
      "\n",
      "structures_batch/LiFePO4_mp-19017.cif\n",
      "--------\n",
      "Bulk modulus: 137.4065811929791 GPa\n",
      "Shear modulus: 75.95239212268379 GPa\n",
      "\n",
      "\n",
      "structures_batch/SrTiO3_mp-4651.cif\n",
      "--------\n",
      "Bulk modulus: 143.4625642069404 GPa\n",
      "Shear modulus: 89.17912170944747 GPa\n",
      "\n",
      "\n",
      "structures_batch/C_mp-66.cif\n",
      "--------\n",
      "Bulk modulus: 263.83440149678415 GPa\n",
      "Shear modulus: 348.4774710334988 GPa\n",
      "\n",
      "\n",
      "structures_batch/Ba2N_mp-1892.cif\n",
      "--------\n",
      "Bulk modulus: 21.019273170365285 GPa\n",
      "Shear modulus: 10.642040055775405 GPa\n",
      "\n",
      "\n",
      "structures_batch/Pt_mp-126.cif\n",
      "--------\n",
      "Bulk modulus: 217.22071481436004 GPa\n",
      "Shear modulus: 61.813076470226704 GPa\n",
      "\n",
      "\n",
      "structures_batch/ReO3_mp-190.cif\n",
      "--------\n",
      "Bulk modulus: 226.70886372573617 GPa\n",
      "Shear modulus: 123.06721958215985 GPa\n",
      "\n",
      "\n"
     ]
    }
   ],
   "source": [
    "multiplier_GPa = 160.2176621  # unit conversions for eV/A^3 to GPa\n",
    "\n",
    "for idx, data_item in enumerate(elastic_data):\n",
    "    print(cif_files[idx])\n",
    "    print(\"--------\")\n",
    "    print(f\"Bulk modulus: {data_item['bulk_modulus_vrh'] * multiplier_GPa} GPa\")\n",
    "    print(f\"Shear modulus: {data_item['shear_modulus_vrh'] * multiplier_GPa} GPa\")\n",
    "    print(\"\\n\")"
   ]
  },
  {
   "cell_type": "markdown",
   "id": "87d0b63a",
   "metadata": {
    "slideshow": {
     "slide_type": "fragment"
    }
   },
   "source": [
    "These values can be compared against calculation in the Materials Project, for example: https://next-gen.materialsproject.org/materials/mp-149\n",
    "\n",
    "You can also get the full 3x3x3x3 (``C_ijkl``) elastic tensor (in eV/A^3) for any material."
   ]
  },
  {
   "cell_type": "code",
   "execution_count": null,
   "id": "a9232ba4",
   "metadata": {},
   "outputs": [
    {
     "name": "stdout",
     "output_type": "stream",
     "text": [
      "structures_batch/SiC_mp-8062.cif\n",
      "Elastic tensor: [[[[ 3.25085008e+00 -3.84524788e-01 -3.25204610e-06]\n",
      "   [-3.84524788e-01  3.22293062e-01 -1.17545028e-06]\n",
      "   [-3.25204610e-06 -1.17545028e-06  5.93510419e-01]]\n",
      "\n",
      "  [[-3.89836350e-01  1.05595122e+00  2.81250792e-07]\n",
      "   [ 1.05595122e+00 -3.13319825e-02  3.18441167e-07]\n",
      "   [ 2.81250792e-07  3.18441167e-07  3.95649026e-01]]\n",
      "\n",
      "  [[-1.30385160e-07  3.24410697e-07  1.35203633e+00]\n",
      "   [ 3.24410697e-07  4.61004674e-07  4.13841919e-01]\n",
      "   [ 1.35203633e+00  4.13841919e-01  1.06481214e-06]]]\n",
      "\n",
      "\n",
      " [[[-3.89836350e-01  1.05595122e+00  2.81250792e-07]\n",
      "   [ 1.05595122e+00 -3.13319825e-02  3.18441167e-07]\n",
      "   [ 2.81250792e-07  3.18441167e-07  3.95649026e-01]]\n",
      "\n",
      "  [[ 3.22249923e-01 -1.93682013e-07  2.22273741e-06]\n",
      "   [-1.93682013e-07  3.52363707e+00  2.45075967e-06]\n",
      "   [ 2.22273741e-06  2.45075967e-06  3.22249401e-01]]\n",
      "\n",
      "  [[ 1.00582838e-06 -4.93212913e-07  4.08569174e-01]\n",
      "   [-4.93212913e-07 -1.04773790e-06  1.06129486e+00]\n",
      "   [ 4.08569174e-01  1.06129486e+00  5.18436233e-07]]]\n",
      "\n",
      "\n",
      " [[[-1.30385160e-07  3.24410697e-07  1.35203633e+00]\n",
      "   [ 3.24410697e-07  4.61004674e-07  4.13841919e-01]\n",
      "   [ 1.35203633e+00  4.13841919e-01  1.06481214e-06]]\n",
      "\n",
      "  [[ 1.00582838e-06 -4.93212913e-07  4.08569174e-01]\n",
      "   [-4.93212913e-07 -1.04773790e-06  1.06129486e+00]\n",
      "   [ 4.08569174e-01  1.06129486e+00  5.18436233e-07]]\n",
      "\n",
      "  [[ 5.93606848e-01  3.83902106e-01  4.47905677e-07]\n",
      "   [ 3.83902106e-01  3.22152320e-01  1.22448284e-06]\n",
      "   [ 4.47905677e-07  1.22448284e-06  3.25062944e+00]]]]\n"
     ]
    }
   ],
   "source": [
    "print(cif_files[0])\n",
    "print(f\"Elastic tensor: {elastic_data[0]['elastic_tensor']}\")"
   ]
  },
  {
   "cell_type": "markdown",
   "id": "50d07108",
   "metadata": {
    "slideshow": {
     "slide_type": "slide"
    }
   },
   "source": [
    "# Other functionalities\n",
    "\n",
    "The *matcalc* code contains other functionalities, including:\n",
    "\n",
    "* additional property calculators, like nudged elastic band (NEB) activation energies, third order phonons, and molecular dynamics runs\n",
    "* basic workflow capabilities, such as defining a chain of calculators that can be re-used.\n",
    "\n",
    "To learn these functionalities, please check the official documentation at:\n",
    "* https://github.com/materialsvirtuallab/matcalc\n",
    "* https://matcalc.ai\n",
    "\n",
    "![NEB calc](graphics/neb.png \"NEB calculation\")\n"
   ]
  }
 ],
 "metadata": {
  "celltoolbar": "Slideshow",
  "kernelspec": {
   "display_name": "matcalc_env",
   "language": "python",
   "name": "python3"
  },
  "language_info": {
   "codemirror_mode": {
    "name": "ipython",
    "version": 3
   },
   "file_extension": ".py",
   "mimetype": "text/x-python",
   "name": "python",
   "nbconvert_exporter": "python",
   "pygments_lexer": "ipython3",
   "version": "3.12.11"
  }
 },
 "nbformat": 4,
 "nbformat_minor": 5
}
