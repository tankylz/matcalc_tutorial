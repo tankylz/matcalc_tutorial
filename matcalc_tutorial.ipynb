{
 "cells": [
  {
   "cell_type": "code",
   "execution_count": 1,
   "id": "04173e9e",
   "metadata": {
    "slideshow": {
     "slide_type": "skip"
    }
   },
   "outputs": [],
   "source": [
    "import warnings\n",
    "warnings.filterwarnings('ignore')"
   ]
  },
  {
   "cell_type": "markdown",
   "id": "4e0994c5",
   "metadata": {
    "slideshow": {
     "slide_type": "skip"
    }
   },
   "source": [
    "# About this notebook\n",
    "\n",
    "Author: Anubhav Jain\n",
    "\n",
    "Github repo: https://github.com/computron/matcalc_tutorial/\n",
    "\n",
    "Video tutorial: https://youtu.be/57Elhe4IIhI"
   ]
  },
  {
   "cell_type": "markdown",
   "id": "859b5f2c",
   "metadata": {
    "slideshow": {
     "slide_type": "slide"
    }
   },
   "source": [
    "![Matcalc tutorial](graphics/title.png \"Matcalc Tutorial\")"
   ]
  },
  {
   "cell_type": "markdown",
   "id": "cfa4dbfc",
   "metadata": {
    "slideshow": {
     "slide_type": "slide"
    }
   },
   "source": [
    "# Tutorial overview\n",
    "\n",
    "In this tutorial, we are going to learn to very quickly simulate materials properties such as surface energies, thermal properties, and mechanical properties using the *matcalc* software. Advancements in machine learning interatomic potentials have made such simulations extremely fast and simple.\n",
    "\n",
    "\n",
    "More information about the theory of machine learned potentials can be found in a previous video: https://youtu.be/tWeBrPTrSDE\n",
    "\n",
    "In this tutorial, we'll focus on hands-on practical running of simulations. We will complete the following tasks:\n",
    "\n",
    "1. Optimize structural parameters and calculate the total energy of GaAs\n",
    "    - Repeat the calculation with a different interatomic potential / potential energy surface from matgl\n",
    "    - Repeat the calculation with a different potential from the internet\n",
    "2. Calculate surface energy of Si(111)\n",
    "3. Calculate the phonon dispersion of Si\n",
    "4. Calculate the elastic tensors of 25 different materials with parallelization\n",
    "\n",
    "Let's get started!"
   ]
  },
  {
   "cell_type": "markdown",
   "id": "b131c3c9",
   "metadata": {
    "slideshow": {
     "slide_type": "slide"
    }
   },
   "source": [
    "# Installation of packages\n",
    "\n",
    "The first step is to install all required packages via ``pip``. We need:\n",
    "\n",
    "* the core ``matcalc`` library\n",
    "\n",
    "Additionally, it is highly recommended (and necessary for this tutorial) to install:\n",
    "* the ``matgl`` library, which provides some universal potential for us to use\n",
    "* the ``seekpath`` library, which is needed to calculate phonon band structures\n",
    "\n",
    "Finally, it is optional to install:\n",
    "* the ``crystal_toolkit`` library, which helps with visualization in the notebook"
   ]
  },
  {
   "cell_type": "code",
   "execution_count": null,
   "id": "80ba6507",
   "metadata": {
    "slideshow": {
     "slide_type": "fragment"
    }
   },
   "outputs": [
    {
     "name": "stdout",
     "output_type": "stream",
     "text": [
      "Requirement already satisfied: matcalc in /Users/ajain/Documents/code_venvs/mlip_tutorial2/lib/python3.11/site-packages (0.4.1)\n",
      "Requirement already satisfied: ase>=3.23.0 in /Users/ajain/Documents/code_venvs/mlip_tutorial2/lib/python3.11/site-packages (from matcalc) (3.25.0)\n",
      "Requirement already satisfied: numpy<2.0.0 in /Users/ajain/Documents/code_venvs/mlip_tutorial2/lib/python3.11/site-packages (from matcalc) (1.26.4)\n",
      "Requirement already satisfied: scikit-learn>=1.6.1 in /Users/ajain/Documents/code_venvs/mlip_tutorial2/lib/python3.11/site-packages (from matcalc) (1.7.1)\n",
      "Requirement already satisfied: pymatgen>=2025.4.20 in /Users/ajain/Documents/code_venvs/mlip_tutorial2/lib/python3.11/site-packages (from matcalc) (2025.6.14)\n",
      "Requirement already satisfied: fsspec>=2025.3.0 in /Users/ajain/Documents/code_venvs/mlip_tutorial2/lib/python3.11/site-packages (from matcalc) (2025.7.0)\n",
      "Requirement already satisfied: joblib>=1.4.2 in /Users/ajain/Documents/code_venvs/mlip_tutorial2/lib/python3.11/site-packages (from matcalc) (1.5.1)\n",
      "Requirement already satisfied: phonopy>=2.38.0 in /Users/ajain/Documents/code_venvs/mlip_tutorial2/lib/python3.11/site-packages (from matcalc) (2.42.0)\n",
      "Requirement already satisfied: phono3py>=3.15.0 in /Users/ajain/Documents/code_venvs/mlip_tutorial2/lib/python3.11/site-packages (from matcalc) (3.18.0)\n",
      "Requirement already satisfied: scipy>=1.6.0 in /Users/ajain/Documents/code_venvs/mlip_tutorial2/lib/python3.11/site-packages (from ase>=3.23.0->matcalc) (1.16.1)\n",
      "Requirement already satisfied: matplotlib>=3.3.4 in /Users/ajain/Documents/code_venvs/mlip_tutorial2/lib/python3.11/site-packages (from ase>=3.23.0->matcalc) (3.10.3)\n",
      "Requirement already satisfied: PyYAML in /Users/ajain/Documents/code_venvs/mlip_tutorial2/lib/python3.11/site-packages (from phono3py>=3.15.0->matcalc) (6.0.2)\n",
      "Requirement already satisfied: h5py in /Users/ajain/Documents/code_venvs/mlip_tutorial2/lib/python3.11/site-packages (from phono3py>=3.15.0->matcalc) (3.14.0)\n",
      "Requirement already satisfied: spglib in /Users/ajain/Documents/code_venvs/mlip_tutorial2/lib/python3.11/site-packages (from phono3py>=3.15.0->matcalc) (2.6.0)\n",
      "Requirement already satisfied: symfc>=1.5 in /Users/ajain/Documents/code_venvs/mlip_tutorial2/lib/python3.11/site-packages (from phonopy>=2.38.0->matcalc) (1.5.4)\n",
      "Requirement already satisfied: bibtexparser>=1.4.0 in /Users/ajain/Documents/code_venvs/mlip_tutorial2/lib/python3.11/site-packages (from pymatgen>=2025.4.20->matcalc) (1.4.3)\n",
      "Requirement already satisfied: monty>=2025.1.9 in /Users/ajain/Documents/code_venvs/mlip_tutorial2/lib/python3.11/site-packages (from pymatgen>=2025.4.20->matcalc) (2025.3.3)\n",
      "Requirement already satisfied: networkx>=2.7 in /Users/ajain/Documents/code_venvs/mlip_tutorial2/lib/python3.11/site-packages (from pymatgen>=2025.4.20->matcalc) (3.5)\n",
      "Requirement already satisfied: orjson<4,>=3.10 in /Users/ajain/Documents/code_venvs/mlip_tutorial2/lib/python3.11/site-packages (from pymatgen>=2025.4.20->matcalc) (3.11.1)\n",
      "Requirement already satisfied: palettable>=3.3.3 in /Users/ajain/Documents/code_venvs/mlip_tutorial2/lib/python3.11/site-packages (from pymatgen>=2025.4.20->matcalc) (3.3.3)\n",
      "Requirement already satisfied: pandas>=2 in /Users/ajain/Documents/code_venvs/mlip_tutorial2/lib/python3.11/site-packages (from pymatgen>=2025.4.20->matcalc) (2.3.1)\n",
      "Requirement already satisfied: plotly>=5.0.0 in /Users/ajain/Documents/code_venvs/mlip_tutorial2/lib/python3.11/site-packages (from pymatgen>=2025.4.20->matcalc) (6.2.0)\n",
      "Requirement already satisfied: requests>=2.32 in /Users/ajain/Documents/code_venvs/mlip_tutorial2/lib/python3.11/site-packages (from pymatgen>=2025.4.20->matcalc) (2.32.4)\n",
      "Requirement already satisfied: ruamel.yaml>=0.17.0 in /Users/ajain/Documents/code_venvs/mlip_tutorial2/lib/python3.11/site-packages (from pymatgen>=2025.4.20->matcalc) (0.18.14)\n",
      "Requirement already satisfied: sympy>=1.3 in /Users/ajain/Documents/code_venvs/mlip_tutorial2/lib/python3.11/site-packages (from pymatgen>=2025.4.20->matcalc) (1.14.0)\n",
      "Requirement already satisfied: tabulate>=0.9 in /Users/ajain/Documents/code_venvs/mlip_tutorial2/lib/python3.11/site-packages (from pymatgen>=2025.4.20->matcalc) (0.9.0)\n",
      "Requirement already satisfied: tqdm>=4.60 in /Users/ajain/Documents/code_venvs/mlip_tutorial2/lib/python3.11/site-packages (from pymatgen>=2025.4.20->matcalc) (4.67.1)\n",
      "Requirement already satisfied: uncertainties>=3.1.4 in /Users/ajain/Documents/code_venvs/mlip_tutorial2/lib/python3.11/site-packages (from pymatgen>=2025.4.20->matcalc) (3.2.3)\n",
      "Requirement already satisfied: threadpoolctl>=3.1.0 in /Users/ajain/Documents/code_venvs/mlip_tutorial2/lib/python3.11/site-packages (from scikit-learn>=1.6.1->matcalc) (3.6.0)\n",
      "Requirement already satisfied: pyparsing>=2.0.3 in /Users/ajain/Documents/code_venvs/mlip_tutorial2/lib/python3.11/site-packages (from bibtexparser>=1.4.0->pymatgen>=2025.4.20->matcalc) (3.2.3)\n",
      "Requirement already satisfied: contourpy>=1.0.1 in /Users/ajain/Documents/code_venvs/mlip_tutorial2/lib/python3.11/site-packages (from matplotlib>=3.3.4->ase>=3.23.0->matcalc) (1.3.3)\n",
      "Requirement already satisfied: cycler>=0.10 in /Users/ajain/Documents/code_venvs/mlip_tutorial2/lib/python3.11/site-packages (from matplotlib>=3.3.4->ase>=3.23.0->matcalc) (0.12.1)\n",
      "Requirement already satisfied: fonttools>=4.22.0 in /Users/ajain/Documents/code_venvs/mlip_tutorial2/lib/python3.11/site-packages (from matplotlib>=3.3.4->ase>=3.23.0->matcalc) (4.59.0)\n",
      "Requirement already satisfied: kiwisolver>=1.3.1 in /Users/ajain/Documents/code_venvs/mlip_tutorial2/lib/python3.11/site-packages (from matplotlib>=3.3.4->ase>=3.23.0->matcalc) (1.4.8)\n",
      "Requirement already satisfied: packaging>=20.0 in /Users/ajain/Documents/code_venvs/mlip_tutorial2/lib/python3.11/site-packages (from matplotlib>=3.3.4->ase>=3.23.0->matcalc) (24.2)\n",
      "Requirement already satisfied: pillow>=8 in /Users/ajain/Documents/code_venvs/mlip_tutorial2/lib/python3.11/site-packages (from matplotlib>=3.3.4->ase>=3.23.0->matcalc) (11.3.0)\n",
      "Requirement already satisfied: python-dateutil>=2.7 in /Users/ajain/Documents/code_venvs/mlip_tutorial2/lib/python3.11/site-packages (from matplotlib>=3.3.4->ase>=3.23.0->matcalc) (2.9.0.post0)\n",
      "Requirement already satisfied: pytz>=2020.1 in /Users/ajain/Documents/code_venvs/mlip_tutorial2/lib/python3.11/site-packages (from pandas>=2->pymatgen>=2025.4.20->matcalc) (2025.2)\n",
      "Requirement already satisfied: tzdata>=2022.7 in /Users/ajain/Documents/code_venvs/mlip_tutorial2/lib/python3.11/site-packages (from pandas>=2->pymatgen>=2025.4.20->matcalc) (2025.2)\n",
      "Requirement already satisfied: narwhals>=1.15.1 in /Users/ajain/Documents/code_venvs/mlip_tutorial2/lib/python3.11/site-packages (from plotly>=5.0.0->pymatgen>=2025.4.20->matcalc) (2.0.1)\n",
      "Requirement already satisfied: charset_normalizer<4,>=2 in /Users/ajain/Documents/code_venvs/mlip_tutorial2/lib/python3.11/site-packages (from requests>=2.32->pymatgen>=2025.4.20->matcalc) (3.4.2)\n",
      "Requirement already satisfied: idna<4,>=2.5 in /Users/ajain/Documents/code_venvs/mlip_tutorial2/lib/python3.11/site-packages (from requests>=2.32->pymatgen>=2025.4.20->matcalc) (3.10)\n",
      "Requirement already satisfied: urllib3<3,>=1.21.1 in /Users/ajain/Documents/code_venvs/mlip_tutorial2/lib/python3.11/site-packages (from requests>=2.32->pymatgen>=2025.4.20->matcalc) (2.5.0)\n",
      "Requirement already satisfied: certifi>=2017.4.17 in /Users/ajain/Documents/code_venvs/mlip_tutorial2/lib/python3.11/site-packages (from requests>=2.32->pymatgen>=2025.4.20->matcalc) (2025.7.14)\n",
      "Requirement already satisfied: ruamel.yaml.clib>=0.2.7 in /Users/ajain/Documents/code_venvs/mlip_tutorial2/lib/python3.11/site-packages (from ruamel.yaml>=0.17.0->pymatgen>=2025.4.20->matcalc) (0.2.12)\n",
      "Requirement already satisfied: typing-extensions>=4.9.0 in /Users/ajain/Documents/code_venvs/mlip_tutorial2/lib/python3.11/site-packages (from spglib->phono3py>=3.15.0->matcalc) (4.14.1)\n",
      "Requirement already satisfied: mpmath<1.4,>=1.1.0 in /Users/ajain/Documents/code_venvs/mlip_tutorial2/lib/python3.11/site-packages (from sympy>=1.3->pymatgen>=2025.4.20->matcalc) (1.3.0)\n",
      "Requirement already satisfied: six>=1.5 in /Users/ajain/Documents/code_venvs/mlip_tutorial2/lib/python3.11/site-packages (from python-dateutil>=2.7->matplotlib>=3.3.4->ase>=3.23.0->matcalc) (1.17.0)\n"
     ]
    },
    {
     "name": "stdout",
     "output_type": "stream",
     "text": [
      "\n",
      "\u001b[1m[\u001b[0m\u001b[34;49mnotice\u001b[0m\u001b[1;39;49m]\u001b[0m\u001b[39;49m A new release of pip is available: \u001b[0m\u001b[31;49m23.1.2\u001b[0m\u001b[39;49m -> \u001b[0m\u001b[32;49m25.2\u001b[0m\n",
      "\u001b[1m[\u001b[0m\u001b[34;49mnotice\u001b[0m\u001b[1;39;49m]\u001b[0m\u001b[39;49m To update, run: \u001b[0m\u001b[32;49mpip install --upgrade pip\u001b[0m\n",
      "Requirement already satisfied: matgl in /Users/ajain/Documents/code_venvs/mlip_tutorial2/lib/python3.11/site-packages (1.2.7)\n",
      "Requirement already satisfied: ase in /Users/ajain/Documents/code_venvs/mlip_tutorial2/lib/python3.11/site-packages (from matgl) (3.25.0)\n",
      "Requirement already satisfied: dgl<=2.2.0 in /Users/ajain/Documents/code_venvs/mlip_tutorial2/lib/python3.11/site-packages (from matgl) (1.1.2.post1)\n",
      "Requirement already satisfied: torch<=2.2.0 in /Users/ajain/Documents/code_venvs/mlip_tutorial2/lib/python3.11/site-packages (from matgl) (2.2.0)\n",
      "Requirement already satisfied: torchdata<=0.7.1 in /Users/ajain/Documents/code_venvs/mlip_tutorial2/lib/python3.11/site-packages (from matgl) (0.7.1)\n",
      "Requirement already satisfied: pymatgen in /Users/ajain/Documents/code_venvs/mlip_tutorial2/lib/python3.11/site-packages (from matgl) (2025.6.14)\n",
      "Requirement already satisfied: lightning<=2.5.1 in /Users/ajain/Documents/code_venvs/mlip_tutorial2/lib/python3.11/site-packages (from matgl) (2.5.1)\n",
      "Requirement already satisfied: pydantic in /Users/ajain/Documents/code_venvs/mlip_tutorial2/lib/python3.11/site-packages (from matgl) (2.11.7)\n",
      "Requirement already satisfied: boto3 in /Users/ajain/Documents/code_venvs/mlip_tutorial2/lib/python3.11/site-packages (from matgl) (1.39.17)\n",
      "Requirement already satisfied: numpy<2.0 in /Users/ajain/Documents/code_venvs/mlip_tutorial2/lib/python3.11/site-packages (from matgl) (1.26.4)\n",
      "Requirement already satisfied: scipy>=1.1.0 in /Users/ajain/Documents/code_venvs/mlip_tutorial2/lib/python3.11/site-packages (from dgl<=2.2.0->matgl) (1.16.1)\n",
      "Requirement already satisfied: networkx>=2.1 in /Users/ajain/Documents/code_venvs/mlip_tutorial2/lib/python3.11/site-packages (from dgl<=2.2.0->matgl) (3.5)\n",
      "Requirement already satisfied: requests>=2.19.0 in /Users/ajain/Documents/code_venvs/mlip_tutorial2/lib/python3.11/site-packages (from dgl<=2.2.0->matgl) (2.32.4)\n",
      "Requirement already satisfied: tqdm in /Users/ajain/Documents/code_venvs/mlip_tutorial2/lib/python3.11/site-packages (from dgl<=2.2.0->matgl) (4.67.1)\n",
      "Requirement already satisfied: psutil>=5.8.0 in /Users/ajain/Documents/code_venvs/mlip_tutorial2/lib/python3.11/site-packages (from dgl<=2.2.0->matgl) (7.0.0)\n",
      "Requirement already satisfied: PyYAML<8.0,>=5.4 in /Users/ajain/Documents/code_venvs/mlip_tutorial2/lib/python3.11/site-packages (from lightning<=2.5.1->matgl) (6.0.2)\n",
      "Requirement already satisfied: fsspec[http]<2026.0,>=2022.5.0 in /Users/ajain/Documents/code_venvs/mlip_tutorial2/lib/python3.11/site-packages (from lightning<=2.5.1->matgl) (2025.7.0)\n",
      "Requirement already satisfied: lightning-utilities<2.0,>=0.10.0 in /Users/ajain/Documents/code_venvs/mlip_tutorial2/lib/python3.11/site-packages (from lightning<=2.5.1->matgl) (0.15.0)\n",
      "Requirement already satisfied: packaging<25.0,>=20.0 in /Users/ajain/Documents/code_venvs/mlip_tutorial2/lib/python3.11/site-packages (from lightning<=2.5.1->matgl) (24.2)\n",
      "Requirement already satisfied: torchmetrics<3.0,>=0.7.0 in /Users/ajain/Documents/code_venvs/mlip_tutorial2/lib/python3.11/site-packages (from lightning<=2.5.1->matgl) (1.8.0)\n",
      "Requirement already satisfied: typing-extensions<6.0,>=4.4.0 in /Users/ajain/Documents/code_venvs/mlip_tutorial2/lib/python3.11/site-packages (from lightning<=2.5.1->matgl) (4.14.1)\n",
      "Requirement already satisfied: pytorch-lightning in /Users/ajain/Documents/code_venvs/mlip_tutorial2/lib/python3.11/site-packages (from lightning<=2.5.1->matgl) (2.5.2)\n",
      "Requirement already satisfied: filelock in /Users/ajain/Documents/code_venvs/mlip_tutorial2/lib/python3.11/site-packages (from torch<=2.2.0->matgl) (3.18.0)\n",
      "Requirement already satisfied: sympy in /Users/ajain/Documents/code_venvs/mlip_tutorial2/lib/python3.11/site-packages (from torch<=2.2.0->matgl) (1.14.0)\n",
      "Requirement already satisfied: jinja2 in /Users/ajain/Documents/code_venvs/mlip_tutorial2/lib/python3.11/site-packages (from torch<=2.2.0->matgl) (3.1.6)\n",
      "Requirement already satisfied: urllib3>=1.25 in /Users/ajain/Documents/code_venvs/mlip_tutorial2/lib/python3.11/site-packages (from torchdata<=0.7.1->matgl) (2.5.0)\n",
      "Requirement already satisfied: matplotlib>=3.3.4 in /Users/ajain/Documents/code_venvs/mlip_tutorial2/lib/python3.11/site-packages (from ase->matgl) (3.10.3)\n",
      "Requirement already satisfied: botocore<1.40.0,>=1.39.17 in /Users/ajain/Documents/code_venvs/mlip_tutorial2/lib/python3.11/site-packages (from boto3->matgl) (1.39.17)\n",
      "Requirement already satisfied: jmespath<2.0.0,>=0.7.1 in /Users/ajain/Documents/code_venvs/mlip_tutorial2/lib/python3.11/site-packages (from boto3->matgl) (1.0.1)\n",
      "Requirement already satisfied: s3transfer<0.14.0,>=0.13.0 in /Users/ajain/Documents/code_venvs/mlip_tutorial2/lib/python3.11/site-packages (from boto3->matgl) (0.13.1)\n",
      "Requirement already satisfied: annotated-types>=0.6.0 in /Users/ajain/Documents/code_venvs/mlip_tutorial2/lib/python3.11/site-packages (from pydantic->matgl) (0.7.0)\n",
      "Requirement already satisfied: pydantic-core==2.33.2 in /Users/ajain/Documents/code_venvs/mlip_tutorial2/lib/python3.11/site-packages (from pydantic->matgl) (2.33.2)\n",
      "Requirement already satisfied: typing-inspection>=0.4.0 in /Users/ajain/Documents/code_venvs/mlip_tutorial2/lib/python3.11/site-packages (from pydantic->matgl) (0.4.1)\n",
      "Requirement already satisfied: bibtexparser>=1.4.0 in /Users/ajain/Documents/code_venvs/mlip_tutorial2/lib/python3.11/site-packages (from pymatgen->matgl) (1.4.3)\n",
      "Requirement already satisfied: joblib>=1 in /Users/ajain/Documents/code_venvs/mlip_tutorial2/lib/python3.11/site-packages (from pymatgen->matgl) (1.5.1)\n",
      "Requirement already satisfied: monty>=2025.1.9 in /Users/ajain/Documents/code_venvs/mlip_tutorial2/lib/python3.11/site-packages (from pymatgen->matgl) (2025.3.3)\n",
      "Requirement already satisfied: orjson<4,>=3.10 in /Users/ajain/Documents/code_venvs/mlip_tutorial2/lib/python3.11/site-packages (from pymatgen->matgl) (3.11.1)\n",
      "Requirement already satisfied: palettable>=3.3.3 in /Users/ajain/Documents/code_venvs/mlip_tutorial2/lib/python3.11/site-packages (from pymatgen->matgl) (3.3.3)\n",
      "Requirement already satisfied: pandas>=2 in /Users/ajain/Documents/code_venvs/mlip_tutorial2/lib/python3.11/site-packages (from pymatgen->matgl) (2.3.1)\n",
      "Requirement already satisfied: plotly>=5.0.0 in /Users/ajain/Documents/code_venvs/mlip_tutorial2/lib/python3.11/site-packages (from pymatgen->matgl) (6.2.0)\n",
      "Requirement already satisfied: ruamel.yaml>=0.17.0 in /Users/ajain/Documents/code_venvs/mlip_tutorial2/lib/python3.11/site-packages (from pymatgen->matgl) (0.18.14)\n",
      "Requirement already satisfied: spglib>=2.5 in /Users/ajain/Documents/code_venvs/mlip_tutorial2/lib/python3.11/site-packages (from pymatgen->matgl) (2.6.0)\n",
      "Requirement already satisfied: tabulate>=0.9 in /Users/ajain/Documents/code_venvs/mlip_tutorial2/lib/python3.11/site-packages (from pymatgen->matgl) (0.9.0)\n",
      "Requirement already satisfied: uncertainties>=3.1.4 in /Users/ajain/Documents/code_venvs/mlip_tutorial2/lib/python3.11/site-packages (from pymatgen->matgl) (3.2.3)\n",
      "Requirement already satisfied: pyparsing>=2.0.3 in /Users/ajain/Documents/code_venvs/mlip_tutorial2/lib/python3.11/site-packages (from bibtexparser>=1.4.0->pymatgen->matgl) (3.2.3)\n",
      "Requirement already satisfied: python-dateutil<3.0.0,>=2.1 in /Users/ajain/Documents/code_venvs/mlip_tutorial2/lib/python3.11/site-packages (from botocore<1.40.0,>=1.39.17->boto3->matgl) (2.9.0.post0)\n",
      "Requirement already satisfied: aiohttp!=4.0.0a0,!=4.0.0a1 in /Users/ajain/Documents/code_venvs/mlip_tutorial2/lib/python3.11/site-packages (from fsspec[http]<2026.0,>=2022.5.0->lightning<=2.5.1->matgl) (3.12.15)\n",
      "Requirement already satisfied: setuptools in /Users/ajain/Documents/code_venvs/mlip_tutorial2/lib/python3.11/site-packages (from lightning-utilities<2.0,>=0.10.0->lightning<=2.5.1->matgl) (65.5.0)\n",
      "Requirement already satisfied: contourpy>=1.0.1 in /Users/ajain/Documents/code_venvs/mlip_tutorial2/lib/python3.11/site-packages (from matplotlib>=3.3.4->ase->matgl) (1.3.3)\n",
      "Requirement already satisfied: cycler>=0.10 in /Users/ajain/Documents/code_venvs/mlip_tutorial2/lib/python3.11/site-packages (from matplotlib>=3.3.4->ase->matgl) (0.12.1)\n",
      "Requirement already satisfied: fonttools>=4.22.0 in /Users/ajain/Documents/code_venvs/mlip_tutorial2/lib/python3.11/site-packages (from matplotlib>=3.3.4->ase->matgl) (4.59.0)\n",
      "Requirement already satisfied: kiwisolver>=1.3.1 in /Users/ajain/Documents/code_venvs/mlip_tutorial2/lib/python3.11/site-packages (from matplotlib>=3.3.4->ase->matgl) (1.4.8)\n",
      "Requirement already satisfied: pillow>=8 in /Users/ajain/Documents/code_venvs/mlip_tutorial2/lib/python3.11/site-packages (from matplotlib>=3.3.4->ase->matgl) (11.3.0)\n"
     ]
    },
    {
     "name": "stdout",
     "output_type": "stream",
     "text": [
      "Requirement already satisfied: pytz>=2020.1 in /Users/ajain/Documents/code_venvs/mlip_tutorial2/lib/python3.11/site-packages (from pandas>=2->pymatgen->matgl) (2025.2)\n",
      "Requirement already satisfied: tzdata>=2022.7 in /Users/ajain/Documents/code_venvs/mlip_tutorial2/lib/python3.11/site-packages (from pandas>=2->pymatgen->matgl) (2025.2)\n",
      "Requirement already satisfied: narwhals>=1.15.1 in /Users/ajain/Documents/code_venvs/mlip_tutorial2/lib/python3.11/site-packages (from plotly>=5.0.0->pymatgen->matgl) (2.0.1)\n",
      "Requirement already satisfied: charset_normalizer<4,>=2 in /Users/ajain/Documents/code_venvs/mlip_tutorial2/lib/python3.11/site-packages (from requests>=2.19.0->dgl<=2.2.0->matgl) (3.4.2)\n",
      "Requirement already satisfied: idna<4,>=2.5 in /Users/ajain/Documents/code_venvs/mlip_tutorial2/lib/python3.11/site-packages (from requests>=2.19.0->dgl<=2.2.0->matgl) (3.10)\n",
      "Requirement already satisfied: certifi>=2017.4.17 in /Users/ajain/Documents/code_venvs/mlip_tutorial2/lib/python3.11/site-packages (from requests>=2.19.0->dgl<=2.2.0->matgl) (2025.7.14)\n",
      "Requirement already satisfied: ruamel.yaml.clib>=0.2.7 in /Users/ajain/Documents/code_venvs/mlip_tutorial2/lib/python3.11/site-packages (from ruamel.yaml>=0.17.0->pymatgen->matgl) (0.2.12)\n",
      "Requirement already satisfied: mpmath<1.4,>=1.1.0 in /Users/ajain/Documents/code_venvs/mlip_tutorial2/lib/python3.11/site-packages (from sympy->torch<=2.2.0->matgl) (1.3.0)\n",
      "Requirement already satisfied: MarkupSafe>=2.0 in /Users/ajain/Documents/code_venvs/mlip_tutorial2/lib/python3.11/site-packages (from jinja2->torch<=2.2.0->matgl) (3.0.2)\n",
      "Requirement already satisfied: aiohappyeyeballs>=2.5.0 in /Users/ajain/Documents/code_venvs/mlip_tutorial2/lib/python3.11/site-packages (from aiohttp!=4.0.0a0,!=4.0.0a1->fsspec[http]<2026.0,>=2022.5.0->lightning<=2.5.1->matgl) (2.6.1)\n",
      "Requirement already satisfied: aiosignal>=1.4.0 in /Users/ajain/Documents/code_venvs/mlip_tutorial2/lib/python3.11/site-packages (from aiohttp!=4.0.0a0,!=4.0.0a1->fsspec[http]<2026.0,>=2022.5.0->lightning<=2.5.1->matgl) (1.4.0)\n",
      "Requirement already satisfied: attrs>=17.3.0 in /Users/ajain/Documents/code_venvs/mlip_tutorial2/lib/python3.11/site-packages (from aiohttp!=4.0.0a0,!=4.0.0a1->fsspec[http]<2026.0,>=2022.5.0->lightning<=2.5.1->matgl) (25.3.0)\n",
      "Requirement already satisfied: frozenlist>=1.1.1 in /Users/ajain/Documents/code_venvs/mlip_tutorial2/lib/python3.11/site-packages (from aiohttp!=4.0.0a0,!=4.0.0a1->fsspec[http]<2026.0,>=2022.5.0->lightning<=2.5.1->matgl) (1.7.0)\n",
      "Requirement already satisfied: multidict<7.0,>=4.5 in /Users/ajain/Documents/code_venvs/mlip_tutorial2/lib/python3.11/site-packages (from aiohttp!=4.0.0a0,!=4.0.0a1->fsspec[http]<2026.0,>=2022.5.0->lightning<=2.5.1->matgl) (6.6.3)\n",
      "Requirement already satisfied: propcache>=0.2.0 in /Users/ajain/Documents/code_venvs/mlip_tutorial2/lib/python3.11/site-packages (from aiohttp!=4.0.0a0,!=4.0.0a1->fsspec[http]<2026.0,>=2022.5.0->lightning<=2.5.1->matgl) (0.3.2)\n",
      "Requirement already satisfied: yarl<2.0,>=1.17.0 in /Users/ajain/Documents/code_venvs/mlip_tutorial2/lib/python3.11/site-packages (from aiohttp!=4.0.0a0,!=4.0.0a1->fsspec[http]<2026.0,>=2022.5.0->lightning<=2.5.1->matgl) (1.20.1)\n",
      "Requirement already satisfied: six>=1.5 in /Users/ajain/Documents/code_venvs/mlip_tutorial2/lib/python3.11/site-packages (from python-dateutil<3.0.0,>=2.1->botocore<1.40.0,>=1.39.17->boto3->matgl) (1.17.0)\n",
      "\n",
      "\u001b[1m[\u001b[0m\u001b[34;49mnotice\u001b[0m\u001b[1;39;49m]\u001b[0m\u001b[39;49m A new release of pip is available: \u001b[0m\u001b[31;49m23.1.2\u001b[0m\u001b[39;49m -> \u001b[0m\u001b[32;49m25.2\u001b[0m\n",
      "\u001b[1m[\u001b[0m\u001b[34;49mnotice\u001b[0m\u001b[1;39;49m]\u001b[0m\u001b[39;49m To update, run: \u001b[0m\u001b[32;49mpip install --upgrade pip\u001b[0m\n",
      "Requirement already satisfied: seekpath in /Users/ajain/Documents/code_venvs/mlip_tutorial2/lib/python3.11/site-packages (2.1.0)\n",
      "Requirement already satisfied: numpy>=1.0 in /Users/ajain/Documents/code_venvs/mlip_tutorial2/lib/python3.11/site-packages (from seekpath) (1.26.4)\n",
      "Requirement already satisfied: spglib>=1.14.1 in /Users/ajain/Documents/code_venvs/mlip_tutorial2/lib/python3.11/site-packages (from seekpath) (2.6.0)\n",
      "Requirement already satisfied: typing-extensions>=4.9.0 in /Users/ajain/Documents/code_venvs/mlip_tutorial2/lib/python3.11/site-packages (from spglib>=1.14.1->seekpath) (4.14.1)\n",
      "\n",
      "\u001b[1m[\u001b[0m\u001b[34;49mnotice\u001b[0m\u001b[1;39;49m]\u001b[0m\u001b[39;49m A new release of pip is available: \u001b[0m\u001b[31;49m23.1.2\u001b[0m\u001b[39;49m -> \u001b[0m\u001b[32;49m25.2\u001b[0m\n",
      "\u001b[1m[\u001b[0m\u001b[34;49mnotice\u001b[0m\u001b[1;39;49m]\u001b[0m\u001b[39;49m To update, run: \u001b[0m\u001b[32;49mpip install --upgrade pip\u001b[0m\n",
      "Requirement already satisfied: crystal-toolkit in /Users/ajain/Documents/code_venvs/mlip_tutorial2/lib/python3.11/site-packages (2025.6.11rc0)\n",
      "Requirement already satisfied: crystaltoolkit-extension in /Users/ajain/Documents/code_venvs/mlip_tutorial2/lib/python3.11/site-packages (from crystal-toolkit) (0.6.0)\n",
      "Requirement already satisfied: dash-mp-components>=0.4.38 in /Users/ajain/Documents/code_venvs/mlip_tutorial2/lib/python3.11/site-packages (from crystal-toolkit) (0.4.47)\n",
      "Requirement already satisfied: dash>=2.11.0 in /Users/ajain/Documents/code_venvs/mlip_tutorial2/lib/python3.11/site-packages (from crystal-toolkit) (3.1.1)\n",
      "Requirement already satisfied: flask-caching in /Users/ajain/Documents/code_venvs/mlip_tutorial2/lib/python3.11/site-packages (from crystal-toolkit) (2.3.1)\n",
      "Requirement already satisfied: frozendict in /Users/ajain/Documents/code_venvs/mlip_tutorial2/lib/python3.11/site-packages (from crystal-toolkit) (2.4.6)\n",
      "Requirement already satisfied: mp-api in /Users/ajain/Documents/code_venvs/mlip_tutorial2/lib/python3.11/site-packages (from crystal-toolkit) (0.45.8)\n",
      "Requirement already satisfied: pydantic-settings in /Users/ajain/Documents/code_venvs/mlip_tutorial2/lib/python3.11/site-packages (from crystal-toolkit) (2.10.1)\n",
      "Requirement already satisfied: pymatgen>=2024.10.22 in /Users/ajain/Documents/code_venvs/mlip_tutorial2/lib/python3.11/site-packages (from crystal-toolkit) (2025.6.14)\n",
      "Requirement already satisfied: scikit-image in /Users/ajain/Documents/code_venvs/mlip_tutorial2/lib/python3.11/site-packages (from crystal-toolkit) (0.25.2)\n",
      "Requirement already satisfied: scikit-learn in /Users/ajain/Documents/code_venvs/mlip_tutorial2/lib/python3.11/site-packages (from crystal-toolkit) (1.7.1)\n",
      "Requirement already satisfied: shapely in /Users/ajain/Documents/code_venvs/mlip_tutorial2/lib/python3.11/site-packages (from crystal-toolkit) (2.1.1)\n",
      "Requirement already satisfied: webcolors in /Users/ajain/Documents/code_venvs/mlip_tutorial2/lib/python3.11/site-packages (from crystal-toolkit) (24.11.1)\n",
      "Requirement already satisfied: Flask<3.2,>=1.0.4 in /Users/ajain/Documents/code_venvs/mlip_tutorial2/lib/python3.11/site-packages (from dash>=2.11.0->crystal-toolkit) (3.1.1)\n",
      "Requirement already satisfied: Werkzeug<3.2 in /Users/ajain/Documents/code_venvs/mlip_tutorial2/lib/python3.11/site-packages (from dash>=2.11.0->crystal-toolkit) (3.1.3)\n",
      "Requirement already satisfied: plotly>=5.0.0 in /Users/ajain/Documents/code_venvs/mlip_tutorial2/lib/python3.11/site-packages (from dash>=2.11.0->crystal-toolkit) (6.2.0)\n",
      "Requirement already satisfied: importlib-metadata in /Users/ajain/Documents/code_venvs/mlip_tutorial2/lib/python3.11/site-packages (from dash>=2.11.0->crystal-toolkit) (8.7.0)\n",
      "Requirement already satisfied: typing-extensions>=4.1.1 in /Users/ajain/Documents/code_venvs/mlip_tutorial2/lib/python3.11/site-packages (from dash>=2.11.0->crystal-toolkit) (4.14.1)\n",
      "Requirement already satisfied: requests in /Users/ajain/Documents/code_venvs/mlip_tutorial2/lib/python3.11/site-packages (from dash>=2.11.0->crystal-toolkit) (2.32.4)\n",
      "Requirement already satisfied: retrying in /Users/ajain/Documents/code_venvs/mlip_tutorial2/lib/python3.11/site-packages (from dash>=2.11.0->crystal-toolkit) (1.4.1)\n",
      "Requirement already satisfied: nest-asyncio in /Users/ajain/Documents/code_venvs/mlip_tutorial2/lib/python3.11/site-packages (from dash>=2.11.0->crystal-toolkit) (1.6.0)\n",
      "Requirement already satisfied: setuptools in /Users/ajain/Documents/code_venvs/mlip_tutorial2/lib/python3.11/site-packages (from dash>=2.11.0->crystal-toolkit) (65.5.0)\n",
      "Requirement already satisfied: bibtexparser>=1.4.0 in /Users/ajain/Documents/code_venvs/mlip_tutorial2/lib/python3.11/site-packages (from pymatgen>=2024.10.22->crystal-toolkit) (1.4.3)\n",
      "Requirement already satisfied: joblib>=1 in /Users/ajain/Documents/code_venvs/mlip_tutorial2/lib/python3.11/site-packages (from pymatgen>=2024.10.22->crystal-toolkit) (1.5.1)\n",
      "Requirement already satisfied: matplotlib>=3.8 in /Users/ajain/Documents/code_venvs/mlip_tutorial2/lib/python3.11/site-packages (from pymatgen>=2024.10.22->crystal-toolkit) (3.10.3)\n",
      "Requirement already satisfied: monty>=2025.1.9 in /Users/ajain/Documents/code_venvs/mlip_tutorial2/lib/python3.11/site-packages (from pymatgen>=2024.10.22->crystal-toolkit) (2025.3.3)\n",
      "Requirement already satisfied: networkx>=2.7 in /Users/ajain/Documents/code_venvs/mlip_tutorial2/lib/python3.11/site-packages (from pymatgen>=2024.10.22->crystal-toolkit) (3.5)\n",
      "Requirement already satisfied: numpy<3,>=1.25.0 in /Users/ajain/Documents/code_venvs/mlip_tutorial2/lib/python3.11/site-packages (from pymatgen>=2024.10.22->crystal-toolkit) (1.26.4)\n",
      "Requirement already satisfied: orjson<4,>=3.10 in /Users/ajain/Documents/code_venvs/mlip_tutorial2/lib/python3.11/site-packages (from pymatgen>=2024.10.22->crystal-toolkit) (3.11.1)\n",
      "Requirement already satisfied: palettable>=3.3.3 in /Users/ajain/Documents/code_venvs/mlip_tutorial2/lib/python3.11/site-packages (from pymatgen>=2024.10.22->crystal-toolkit) (3.3.3)\n",
      "Requirement already satisfied: pandas>=2 in /Users/ajain/Documents/code_venvs/mlip_tutorial2/lib/python3.11/site-packages (from pymatgen>=2024.10.22->crystal-toolkit) (2.3.1)\n",
      "Requirement already satisfied: ruamel.yaml>=0.17.0 in /Users/ajain/Documents/code_venvs/mlip_tutorial2/lib/python3.11/site-packages (from pymatgen>=2024.10.22->crystal-toolkit) (0.18.14)\n",
      "Requirement already satisfied: scipy>=1.13.0 in /Users/ajain/Documents/code_venvs/mlip_tutorial2/lib/python3.11/site-packages (from pymatgen>=2024.10.22->crystal-toolkit) (1.16.1)\n",
      "Requirement already satisfied: spglib>=2.5 in /Users/ajain/Documents/code_venvs/mlip_tutorial2/lib/python3.11/site-packages (from pymatgen>=2024.10.22->crystal-toolkit) (2.6.0)\n",
      "Requirement already satisfied: sympy>=1.3 in /Users/ajain/Documents/code_venvs/mlip_tutorial2/lib/python3.11/site-packages (from pymatgen>=2024.10.22->crystal-toolkit) (1.14.0)\n",
      "Requirement already satisfied: tabulate>=0.9 in /Users/ajain/Documents/code_venvs/mlip_tutorial2/lib/python3.11/site-packages (from pymatgen>=2024.10.22->crystal-toolkit) (0.9.0)\n",
      "Requirement already satisfied: tqdm>=4.60 in /Users/ajain/Documents/code_venvs/mlip_tutorial2/lib/python3.11/site-packages (from pymatgen>=2024.10.22->crystal-toolkit) (4.67.1)\n",
      "Requirement already satisfied: uncertainties>=3.1.4 in /Users/ajain/Documents/code_venvs/mlip_tutorial2/lib/python3.11/site-packages (from pymatgen>=2024.10.22->crystal-toolkit) (3.2.3)\n"
     ]
    },
    {
     "name": "stdout",
     "output_type": "stream",
     "text": [
      "Requirement already satisfied: jupyterlab==3.*,>=3.0.0rc13 in /Users/ajain/Documents/code_venvs/mlip_tutorial2/lib/python3.11/site-packages (from crystaltoolkit-extension->crystal-toolkit) (3.6.7)\n",
      "Requirement already satisfied: ipython in /Users/ajain/Documents/code_venvs/mlip_tutorial2/lib/python3.11/site-packages (from jupyterlab==3.*,>=3.0.0rc13->crystaltoolkit-extension->crystal-toolkit) (8.24.0)\n",
      "Requirement already satisfied: packaging in /Users/ajain/Documents/code_venvs/mlip_tutorial2/lib/python3.11/site-packages (from jupyterlab==3.*,>=3.0.0rc13->crystaltoolkit-extension->crystal-toolkit) (24.2)\n",
      "Requirement already satisfied: tornado>=6.1.0 in /Users/ajain/Documents/code_venvs/mlip_tutorial2/lib/python3.11/site-packages (from jupyterlab==3.*,>=3.0.0rc13->crystaltoolkit-extension->crystal-toolkit) (6.5.1)\n",
      "Requirement already satisfied: jupyter-core in /Users/ajain/Documents/code_venvs/mlip_tutorial2/lib/python3.11/site-packages (from jupyterlab==3.*,>=3.0.0rc13->crystaltoolkit-extension->crystal-toolkit) (5.7.2)\n",
      "Requirement already satisfied: jupyterlab-server~=2.19 in /Users/ajain/Documents/code_venvs/mlip_tutorial2/lib/python3.11/site-packages (from jupyterlab==3.*,>=3.0.0rc13->crystaltoolkit-extension->crystal-toolkit) (2.27.3)\n",
      "Requirement already satisfied: jupyter-server<3,>=1.16.0 in /Users/ajain/Documents/code_venvs/mlip_tutorial2/lib/python3.11/site-packages (from jupyterlab==3.*,>=3.0.0rc13->crystaltoolkit-extension->crystal-toolkit) (2.14.0)\n",
      "Requirement already satisfied: jupyter-ydoc~=0.2.4 in /Users/ajain/Documents/code_venvs/mlip_tutorial2/lib/python3.11/site-packages (from jupyterlab==3.*,>=3.0.0rc13->crystaltoolkit-extension->crystal-toolkit) (0.2.5)\n",
      "Requirement already satisfied: jupyter-server-ydoc~=0.8.0 in /Users/ajain/Documents/code_venvs/mlip_tutorial2/lib/python3.11/site-packages (from jupyterlab==3.*,>=3.0.0rc13->crystaltoolkit-extension->crystal-toolkit) (0.8.0)\n",
      "Requirement already satisfied: nbclassic in /Users/ajain/Documents/code_venvs/mlip_tutorial2/lib/python3.11/site-packages (from jupyterlab==3.*,>=3.0.0rc13->crystaltoolkit-extension->crystal-toolkit) (1.3.1)\n",
      "Requirement already satisfied: notebook<7 in /Users/ajain/Documents/code_venvs/mlip_tutorial2/lib/python3.11/site-packages (from jupyterlab==3.*,>=3.0.0rc13->crystaltoolkit-extension->crystal-toolkit) (6.5.7)\n",
      "Requirement already satisfied: jinja2>=2.1 in /Users/ajain/Documents/code_venvs/mlip_tutorial2/lib/python3.11/site-packages (from jupyterlab==3.*,>=3.0.0rc13->crystaltoolkit-extension->crystal-toolkit) (3.1.6)\n",
      "Requirement already satisfied: cachelib>=0.9.0 in /Users/ajain/Documents/code_venvs/mlip_tutorial2/lib/python3.11/site-packages (from flask-caching->crystal-toolkit) (0.13.0)\n",
      "Requirement already satisfied: msgpack in /Users/ajain/Documents/code_venvs/mlip_tutorial2/lib/python3.11/site-packages (from mp-api->crystal-toolkit) (1.1.1)\n",
      "Requirement already satisfied: maggma>=0.57.1 in /Users/ajain/Documents/code_venvs/mlip_tutorial2/lib/python3.11/site-packages (from mp-api->crystal-toolkit) (0.71.5)\n",
      "Requirement already satisfied: emmet-core>=0.84.3rc6 in /Users/ajain/Documents/code_venvs/mlip_tutorial2/lib/python3.11/site-packages (from mp-api->crystal-toolkit) (0.84.9rc0)\n",
      "Requirement already satisfied: smart_open in /Users/ajain/Documents/code_venvs/mlip_tutorial2/lib/python3.11/site-packages (from mp-api->crystal-toolkit) (7.3.0.post1)\n",
      "Requirement already satisfied: pydantic>=2.7.0 in /Users/ajain/Documents/code_venvs/mlip_tutorial2/lib/python3.11/site-packages (from pydantic-settings->crystal-toolkit) (2.11.7)\n",
      "Requirement already satisfied: python-dotenv>=0.21.0 in /Users/ajain/Documents/code_venvs/mlip_tutorial2/lib/python3.11/site-packages (from pydantic-settings->crystal-toolkit) (1.1.1)\n",
      "Requirement already satisfied: typing-inspection>=0.4.0 in /Users/ajain/Documents/code_venvs/mlip_tutorial2/lib/python3.11/site-packages (from pydantic-settings->crystal-toolkit) (0.4.1)\n",
      "Requirement already satisfied: pillow>=10.1 in /Users/ajain/Documents/code_venvs/mlip_tutorial2/lib/python3.11/site-packages (from scikit-image->crystal-toolkit) (11.3.0)\n",
      "Requirement already satisfied: imageio!=2.35.0,>=2.33 in /Users/ajain/Documents/code_venvs/mlip_tutorial2/lib/python3.11/site-packages (from scikit-image->crystal-toolkit) (2.37.0)\n",
      "Requirement already satisfied: tifffile>=2022.8.12 in /Users/ajain/Documents/code_venvs/mlip_tutorial2/lib/python3.11/site-packages (from scikit-image->crystal-toolkit) (2025.6.11)\n",
      "Requirement already satisfied: lazy-loader>=0.4 in /Users/ajain/Documents/code_venvs/mlip_tutorial2/lib/python3.11/site-packages (from scikit-image->crystal-toolkit) (0.4)\n",
      "Requirement already satisfied: threadpoolctl>=3.1.0 in /Users/ajain/Documents/code_venvs/mlip_tutorial2/lib/python3.11/site-packages (from scikit-learn->crystal-toolkit) (3.6.0)\n",
      "Requirement already satisfied: pyparsing>=2.0.3 in /Users/ajain/Documents/code_venvs/mlip_tutorial2/lib/python3.11/site-packages (from bibtexparser>=1.4.0->pymatgen>=2024.10.22->crystal-toolkit) (3.2.3)\n",
      "Requirement already satisfied: pybtex~=0.24 in /Users/ajain/Documents/code_venvs/mlip_tutorial2/lib/python3.11/site-packages (from emmet-core>=0.84.3rc6->mp-api->crystal-toolkit) (0.25.1)\n",
      "Requirement already satisfied: blinker>=1.9.0 in /Users/ajain/Documents/code_venvs/mlip_tutorial2/lib/python3.11/site-packages (from Flask<3.2,>=1.0.4->dash>=2.11.0->crystal-toolkit) (1.9.0)\n",
      "Requirement already satisfied: click>=8.1.3 in /Users/ajain/Documents/code_venvs/mlip_tutorial2/lib/python3.11/site-packages (from Flask<3.2,>=1.0.4->dash>=2.11.0->crystal-toolkit) (8.2.1)\n",
      "Requirement already satisfied: itsdangerous>=2.2.0 in /Users/ajain/Documents/code_venvs/mlip_tutorial2/lib/python3.11/site-packages (from Flask<3.2,>=1.0.4->dash>=2.11.0->crystal-toolkit) (2.2.0)\n",
      "Requirement already satisfied: markupsafe>=2.1.1 in /Users/ajain/Documents/code_venvs/mlip_tutorial2/lib/python3.11/site-packages (from Flask<3.2,>=1.0.4->dash>=2.11.0->crystal-toolkit) (3.0.2)\n",
      "Requirement already satisfied: pymongo<4.11,>=4.2.0 in /Users/ajain/Documents/code_venvs/mlip_tutorial2/lib/python3.11/site-packages (from maggma>=0.57.1->mp-api->crystal-toolkit) (4.10.1)\n",
      "Requirement already satisfied: mongomock>=3.10.0 in /Users/ajain/Documents/code_venvs/mlip_tutorial2/lib/python3.11/site-packages (from maggma>=0.57.1->mp-api->crystal-toolkit) (4.3.0)\n",
      "Requirement already satisfied: pydash>=4.1.0 in /Users/ajain/Documents/code_venvs/mlip_tutorial2/lib/python3.11/site-packages (from maggma>=0.57.1->mp-api->crystal-toolkit) (8.0.5)\n",
      "Requirement already satisfied: jsonschema>=3.1.1 in /Users/ajain/Documents/code_venvs/mlip_tutorial2/lib/python3.11/site-packages (from maggma>=0.57.1->mp-api->crystal-toolkit) (4.25.0)\n",
      "Requirement already satisfied: jsonlines>=4.0.0 in /Users/ajain/Documents/code_venvs/mlip_tutorial2/lib/python3.11/site-packages (from maggma>=0.57.1->mp-api->crystal-toolkit) (4.0.0)\n",
      "Requirement already satisfied: aioitertools>=0.5.1 in /Users/ajain/Documents/code_venvs/mlip_tutorial2/lib/python3.11/site-packages (from maggma>=0.57.1->mp-api->crystal-toolkit) (0.12.0)\n",
      "Requirement already satisfied: pyzmq>=25.1.1 in /Users/ajain/Documents/code_venvs/mlip_tutorial2/lib/python3.11/site-packages (from maggma>=0.57.1->mp-api->crystal-toolkit) (27.0.0)\n",
      "Requirement already satisfied: dnspython>=1.16.0 in /Users/ajain/Documents/code_venvs/mlip_tutorial2/lib/python3.11/site-packages (from maggma>=0.57.1->mp-api->crystal-toolkit) (2.7.0)\n",
      "Requirement already satisfied: sshtunnel>=0.1.5 in /Users/ajain/Documents/code_venvs/mlip_tutorial2/lib/python3.11/site-packages (from maggma>=0.57.1->mp-api->crystal-toolkit) (0.4.0)\n",
      "Requirement already satisfied: boto3>=1.20.41 in /Users/ajain/Documents/code_venvs/mlip_tutorial2/lib/python3.11/site-packages (from maggma>=0.57.1->mp-api->crystal-toolkit) (1.39.17)\n",
      "Requirement already satisfied: python-dateutil>=2.8.2 in /Users/ajain/Documents/code_venvs/mlip_tutorial2/lib/python3.11/site-packages (from maggma>=0.57.1->mp-api->crystal-toolkit) (2.9.0.post0)\n",
      "Requirement already satisfied: contourpy>=1.0.1 in /Users/ajain/Documents/code_venvs/mlip_tutorial2/lib/python3.11/site-packages (from matplotlib>=3.8->pymatgen>=2024.10.22->crystal-toolkit) (1.3.3)\n",
      "Requirement already satisfied: cycler>=0.10 in /Users/ajain/Documents/code_venvs/mlip_tutorial2/lib/python3.11/site-packages (from matplotlib>=3.8->pymatgen>=2024.10.22->crystal-toolkit) (0.12.1)\n",
      "Requirement already satisfied: fonttools>=4.22.0 in /Users/ajain/Documents/code_venvs/mlip_tutorial2/lib/python3.11/site-packages (from matplotlib>=3.8->pymatgen>=2024.10.22->crystal-toolkit) (4.59.0)\n",
      "Requirement already satisfied: kiwisolver>=1.3.1 in /Users/ajain/Documents/code_venvs/mlip_tutorial2/lib/python3.11/site-packages (from matplotlib>=3.8->pymatgen>=2024.10.22->crystal-toolkit) (1.4.8)\n"
     ]
    },
    {
     "name": "stdout",
     "output_type": "stream",
     "text": [
      "Requirement already satisfied: pytz>=2020.1 in /Users/ajain/Documents/code_venvs/mlip_tutorial2/lib/python3.11/site-packages (from pandas>=2->pymatgen>=2024.10.22->crystal-toolkit) (2025.2)\n",
      "Requirement already satisfied: tzdata>=2022.7 in /Users/ajain/Documents/code_venvs/mlip_tutorial2/lib/python3.11/site-packages (from pandas>=2->pymatgen>=2024.10.22->crystal-toolkit) (2025.2)\n",
      "Requirement already satisfied: narwhals>=1.15.1 in /Users/ajain/Documents/code_venvs/mlip_tutorial2/lib/python3.11/site-packages (from plotly>=5.0.0->dash>=2.11.0->crystal-toolkit) (2.0.1)\n",
      "Requirement already satisfied: annotated-types>=0.6.0 in /Users/ajain/Documents/code_venvs/mlip_tutorial2/lib/python3.11/site-packages (from pydantic>=2.7.0->pydantic-settings->crystal-toolkit) (0.7.0)\n",
      "Requirement already satisfied: pydantic-core==2.33.2 in /Users/ajain/Documents/code_venvs/mlip_tutorial2/lib/python3.11/site-packages (from pydantic>=2.7.0->pydantic-settings->crystal-toolkit) (2.33.2)\n",
      "Requirement already satisfied: charset_normalizer<4,>=2 in /Users/ajain/Documents/code_venvs/mlip_tutorial2/lib/python3.11/site-packages (from requests->dash>=2.11.0->crystal-toolkit) (3.4.2)\n",
      "Requirement already satisfied: idna<4,>=2.5 in /Users/ajain/Documents/code_venvs/mlip_tutorial2/lib/python3.11/site-packages (from requests->dash>=2.11.0->crystal-toolkit) (3.10)\n",
      "Requirement already satisfied: urllib3<3,>=1.21.1 in /Users/ajain/Documents/code_venvs/mlip_tutorial2/lib/python3.11/site-packages (from requests->dash>=2.11.0->crystal-toolkit) (2.5.0)\n",
      "Requirement already satisfied: certifi>=2017.4.17 in /Users/ajain/Documents/code_venvs/mlip_tutorial2/lib/python3.11/site-packages (from requests->dash>=2.11.0->crystal-toolkit) (2025.7.14)\n",
      "Requirement already satisfied: ruamel.yaml.clib>=0.2.7 in /Users/ajain/Documents/code_venvs/mlip_tutorial2/lib/python3.11/site-packages (from ruamel.yaml>=0.17.0->pymatgen>=2024.10.22->crystal-toolkit) (0.2.12)\n",
      "Requirement already satisfied: mpmath<1.4,>=1.1.0 in /Users/ajain/Documents/code_venvs/mlip_tutorial2/lib/python3.11/site-packages (from sympy>=1.3->pymatgen>=2024.10.22->crystal-toolkit) (1.3.0)\n",
      "Requirement already satisfied: zipp>=3.20 in /Users/ajain/Documents/code_venvs/mlip_tutorial2/lib/python3.11/site-packages (from importlib-metadata->dash>=2.11.0->crystal-toolkit) (3.23.0)\n",
      "Requirement already satisfied: wrapt in /Users/ajain/Documents/code_venvs/mlip_tutorial2/lib/python3.11/site-packages (from smart_open->mp-api->crystal-toolkit) (1.17.2)\n",
      "Requirement already satisfied: botocore<1.40.0,>=1.39.17 in /Users/ajain/Documents/code_venvs/mlip_tutorial2/lib/python3.11/site-packages (from boto3>=1.20.41->maggma>=0.57.1->mp-api->crystal-toolkit) (1.39.17)\n",
      "Requirement already satisfied: jmespath<2.0.0,>=0.7.1 in /Users/ajain/Documents/code_venvs/mlip_tutorial2/lib/python3.11/site-packages (from boto3>=1.20.41->maggma>=0.57.1->mp-api->crystal-toolkit) (1.0.1)\n",
      "Requirement already satisfied: s3transfer<0.14.0,>=0.13.0 in /Users/ajain/Documents/code_venvs/mlip_tutorial2/lib/python3.11/site-packages (from boto3>=1.20.41->maggma>=0.57.1->mp-api->crystal-toolkit) (0.13.1)\n",
      "Requirement already satisfied: attrs>=19.2.0 in /Users/ajain/Documents/code_venvs/mlip_tutorial2/lib/python3.11/site-packages (from jsonlines>=4.0.0->maggma>=0.57.1->mp-api->crystal-toolkit) (25.3.0)\n",
      "Requirement already satisfied: jsonschema-specifications>=2023.03.6 in /Users/ajain/Documents/code_venvs/mlip_tutorial2/lib/python3.11/site-packages (from jsonschema>=3.1.1->maggma>=0.57.1->mp-api->crystal-toolkit) (2025.4.1)\n",
      "Requirement already satisfied: referencing>=0.28.4 in /Users/ajain/Documents/code_venvs/mlip_tutorial2/lib/python3.11/site-packages (from jsonschema>=3.1.1->maggma>=0.57.1->mp-api->crystal-toolkit) (0.36.2)\n",
      "Requirement already satisfied: rpds-py>=0.7.1 in /Users/ajain/Documents/code_venvs/mlip_tutorial2/lib/python3.11/site-packages (from jsonschema>=3.1.1->maggma>=0.57.1->mp-api->crystal-toolkit) (0.26.0)\n",
      "Requirement already satisfied: anyio>=3.1.0 in /Users/ajain/Documents/code_venvs/mlip_tutorial2/lib/python3.11/site-packages (from jupyter-server<3,>=1.16.0->jupyterlab==3.*,>=3.0.0rc13->crystaltoolkit-extension->crystal-toolkit) (4.9.0)\n",
      "Requirement already satisfied: argon2-cffi>=21.1 in /Users/ajain/Documents/code_venvs/mlip_tutorial2/lib/python3.11/site-packages (from jupyter-server<3,>=1.16.0->jupyterlab==3.*,>=3.0.0rc13->crystaltoolkit-extension->crystal-toolkit) (25.1.0)\n",
      "Requirement already satisfied: jupyter-client>=7.4.4 in /Users/ajain/Documents/code_venvs/mlip_tutorial2/lib/python3.11/site-packages (from jupyter-server<3,>=1.16.0->jupyterlab==3.*,>=3.0.0rc13->crystaltoolkit-extension->crystal-toolkit) (7.4.9)\n",
      "Requirement already satisfied: jupyter-events>=0.9.0 in /Users/ajain/Documents/code_venvs/mlip_tutorial2/lib/python3.11/site-packages (from jupyter-server<3,>=1.16.0->jupyterlab==3.*,>=3.0.0rc13->crystaltoolkit-extension->crystal-toolkit) (0.12.0)\n",
      "Requirement already satisfied: jupyter-server-terminals>=0.4.4 in /Users/ajain/Documents/code_venvs/mlip_tutorial2/lib/python3.11/site-packages (from jupyter-server<3,>=1.16.0->jupyterlab==3.*,>=3.0.0rc13->crystaltoolkit-extension->crystal-toolkit) (0.5.3)\n",
      "Requirement already satisfied: nbconvert>=6.4.4 in /Users/ajain/Documents/code_venvs/mlip_tutorial2/lib/python3.11/site-packages (from jupyter-server<3,>=1.16.0->jupyterlab==3.*,>=3.0.0rc13->crystaltoolkit-extension->crystal-toolkit) (7.16.4)\n",
      "Requirement already satisfied: nbformat>=5.3.0 in /Users/ajain/Documents/code_venvs/mlip_tutorial2/lib/python3.11/site-packages (from jupyter-server<3,>=1.16.0->jupyterlab==3.*,>=3.0.0rc13->crystaltoolkit-extension->crystal-toolkit) (5.10.4)\n",
      "Requirement already satisfied: overrides>=5.0 in /Users/ajain/Documents/code_venvs/mlip_tutorial2/lib/python3.11/site-packages (from jupyter-server<3,>=1.16.0->jupyterlab==3.*,>=3.0.0rc13->crystaltoolkit-extension->crystal-toolkit) (7.7.0)\n",
      "Requirement already satisfied: prometheus-client>=0.9 in /Users/ajain/Documents/code_venvs/mlip_tutorial2/lib/python3.11/site-packages (from jupyter-server<3,>=1.16.0->jupyterlab==3.*,>=3.0.0rc13->crystaltoolkit-extension->crystal-toolkit) (0.22.1)\n",
      "Requirement already satisfied: send2trash>=1.8.2 in /Users/ajain/Documents/code_venvs/mlip_tutorial2/lib/python3.11/site-packages (from jupyter-server<3,>=1.16.0->jupyterlab==3.*,>=3.0.0rc13->crystaltoolkit-extension->crystal-toolkit) (1.8.3)\n",
      "Requirement already satisfied: terminado>=0.8.3 in /Users/ajain/Documents/code_venvs/mlip_tutorial2/lib/python3.11/site-packages (from jupyter-server<3,>=1.16.0->jupyterlab==3.*,>=3.0.0rc13->crystaltoolkit-extension->crystal-toolkit) (0.18.1)\n",
      "Requirement already satisfied: traitlets>=5.6.0 in /Users/ajain/Documents/code_venvs/mlip_tutorial2/lib/python3.11/site-packages (from jupyter-server<3,>=1.16.0->jupyterlab==3.*,>=3.0.0rc13->crystaltoolkit-extension->crystal-toolkit) (5.14.3)\n",
      "Requirement already satisfied: websocket-client>=1.7 in /Users/ajain/Documents/code_venvs/mlip_tutorial2/lib/python3.11/site-packages (from jupyter-server<3,>=1.16.0->jupyterlab==3.*,>=3.0.0rc13->crystaltoolkit-extension->crystal-toolkit) (1.8.0)\n",
      "Requirement already satisfied: platformdirs>=2.5 in /Users/ajain/Documents/code_venvs/mlip_tutorial2/lib/python3.11/site-packages (from jupyter-core->jupyterlab==3.*,>=3.0.0rc13->crystaltoolkit-extension->crystal-toolkit) (4.3.8)\n",
      "Requirement already satisfied: jupyter-server-fileid<1,>=0.6.0 in /Users/ajain/Documents/code_venvs/mlip_tutorial2/lib/python3.11/site-packages (from jupyter-server-ydoc~=0.8.0->jupyterlab==3.*,>=3.0.0rc13->crystaltoolkit-extension->crystal-toolkit) (0.9.3)\n",
      "Requirement already satisfied: ypy-websocket<0.9.0,>=0.8.2 in /Users/ajain/Documents/code_venvs/mlip_tutorial2/lib/python3.11/site-packages (from jupyter-server-ydoc~=0.8.0->jupyterlab==3.*,>=3.0.0rc13->crystaltoolkit-extension->crystal-toolkit) (0.8.4)\n",
      "Requirement already satisfied: y-py<0.7.0,>=0.6.0 in /Users/ajain/Documents/code_venvs/mlip_tutorial2/lib/python3.11/site-packages (from jupyter-ydoc~=0.2.4->jupyterlab==3.*,>=3.0.0rc13->crystaltoolkit-extension->crystal-toolkit) (0.6.2)\n",
      "Requirement already satisfied: babel>=2.10 in /Users/ajain/Documents/code_venvs/mlip_tutorial2/lib/python3.11/site-packages (from jupyterlab-server~=2.19->jupyterlab==3.*,>=3.0.0rc13->crystaltoolkit-extension->crystal-toolkit) (2.17.0)\n",
      "Requirement already satisfied: json5>=0.9.0 in /Users/ajain/Documents/code_venvs/mlip_tutorial2/lib/python3.11/site-packages (from jupyterlab-server~=2.19->jupyterlab==3.*,>=3.0.0rc13->crystaltoolkit-extension->crystal-toolkit) (0.12.0)\n"
     ]
    },
    {
     "name": "stdout",
     "output_type": "stream",
     "text": [
      "Requirement already satisfied: sentinels in /Users/ajain/Documents/code_venvs/mlip_tutorial2/lib/python3.11/site-packages (from mongomock>=3.10.0->maggma>=0.57.1->mp-api->crystal-toolkit) (1.0.0)\n",
      "Requirement already satisfied: ipython-genutils in /Users/ajain/Documents/code_venvs/mlip_tutorial2/lib/python3.11/site-packages (from notebook<7->jupyterlab==3.*,>=3.0.0rc13->crystaltoolkit-extension->crystal-toolkit) (0.2.0)\n",
      "Requirement already satisfied: ipykernel in /Users/ajain/Documents/code_venvs/mlip_tutorial2/lib/python3.11/site-packages (from notebook<7->jupyterlab==3.*,>=3.0.0rc13->crystaltoolkit-extension->crystal-toolkit) (6.29.4)\n",
      "Requirement already satisfied: notebook-shim>=0.2.3 in /Users/ajain/Documents/code_venvs/mlip_tutorial2/lib/python3.11/site-packages (from nbclassic->jupyterlab==3.*,>=3.0.0rc13->crystaltoolkit-extension->crystal-toolkit) (0.2.4)\n",
      "Requirement already satisfied: PyYAML>=3.01 in /Users/ajain/Documents/code_venvs/mlip_tutorial2/lib/python3.11/site-packages (from pybtex~=0.24->emmet-core>=0.84.3rc6->mp-api->crystal-toolkit) (6.0.2)\n",
      "Requirement already satisfied: latexcodec>=1.0.4 in /Users/ajain/Documents/code_venvs/mlip_tutorial2/lib/python3.11/site-packages (from pybtex~=0.24->emmet-core>=0.84.3rc6->mp-api->crystal-toolkit) (3.0.1)\n",
      "Requirement already satisfied: six>=1.5 in /Users/ajain/Documents/code_venvs/mlip_tutorial2/lib/python3.11/site-packages (from python-dateutil>=2.8.2->maggma>=0.57.1->mp-api->crystal-toolkit) (1.17.0)\n",
      "Requirement already satisfied: paramiko>=2.7.2 in /Users/ajain/Documents/code_venvs/mlip_tutorial2/lib/python3.11/site-packages (from sshtunnel>=0.1.5->maggma>=0.57.1->mp-api->crystal-toolkit) (3.5.1)\n",
      "Requirement already satisfied: decorator in /Users/ajain/Documents/code_venvs/mlip_tutorial2/lib/python3.11/site-packages (from ipython->jupyterlab==3.*,>=3.0.0rc13->crystaltoolkit-extension->crystal-toolkit) (5.2.1)\n",
      "Requirement already satisfied: jedi>=0.16 in /Users/ajain/Documents/code_venvs/mlip_tutorial2/lib/python3.11/site-packages (from ipython->jupyterlab==3.*,>=3.0.0rc13->crystaltoolkit-extension->crystal-toolkit) (0.19.2)\n",
      "Requirement already satisfied: matplotlib-inline in /Users/ajain/Documents/code_venvs/mlip_tutorial2/lib/python3.11/site-packages (from ipython->jupyterlab==3.*,>=3.0.0rc13->crystaltoolkit-extension->crystal-toolkit) (0.1.7)\n",
      "Requirement already satisfied: prompt-toolkit<3.1.0,>=3.0.41 in /Users/ajain/Documents/code_venvs/mlip_tutorial2/lib/python3.11/site-packages (from ipython->jupyterlab==3.*,>=3.0.0rc13->crystaltoolkit-extension->crystal-toolkit) (3.0.51)\n",
      "Requirement already satisfied: pygments>=2.4.0 in /Users/ajain/Documents/code_venvs/mlip_tutorial2/lib/python3.11/site-packages (from ipython->jupyterlab==3.*,>=3.0.0rc13->crystaltoolkit-extension->crystal-toolkit) (2.19.2)\n",
      "Requirement already satisfied: stack-data in /Users/ajain/Documents/code_venvs/mlip_tutorial2/lib/python3.11/site-packages (from ipython->jupyterlab==3.*,>=3.0.0rc13->crystaltoolkit-extension->crystal-toolkit) (0.6.3)\n",
      "Requirement already satisfied: pexpect>4.3 in /Users/ajain/Documents/code_venvs/mlip_tutorial2/lib/python3.11/site-packages (from ipython->jupyterlab==3.*,>=3.0.0rc13->crystaltoolkit-extension->crystal-toolkit) (4.9.0)\n",
      "Requirement already satisfied: sniffio>=1.1 in /Users/ajain/Documents/code_venvs/mlip_tutorial2/lib/python3.11/site-packages (from anyio>=3.1.0->jupyter-server<3,>=1.16.0->jupyterlab==3.*,>=3.0.0rc13->crystaltoolkit-extension->crystal-toolkit) (1.3.1)\n",
      "Requirement already satisfied: argon2-cffi-bindings in /Users/ajain/Documents/code_venvs/mlip_tutorial2/lib/python3.11/site-packages (from argon2-cffi>=21.1->jupyter-server<3,>=1.16.0->jupyterlab==3.*,>=3.0.0rc13->crystaltoolkit-extension->crystal-toolkit) (25.1.0)\n",
      "Requirement already satisfied: parso<0.9.0,>=0.8.4 in /Users/ajain/Documents/code_venvs/mlip_tutorial2/lib/python3.11/site-packages (from jedi>=0.16->ipython->jupyterlab==3.*,>=3.0.0rc13->crystaltoolkit-extension->crystal-toolkit) (0.8.4)\n",
      "Requirement already satisfied: entrypoints in /Users/ajain/Documents/code_venvs/mlip_tutorial2/lib/python3.11/site-packages (from jupyter-client>=7.4.4->jupyter-server<3,>=1.16.0->jupyterlab==3.*,>=3.0.0rc13->crystaltoolkit-extension->crystal-toolkit) (0.4)\n",
      "Requirement already satisfied: python-json-logger>=2.0.4 in /Users/ajain/Documents/code_venvs/mlip_tutorial2/lib/python3.11/site-packages (from jupyter-events>=0.9.0->jupyter-server<3,>=1.16.0->jupyterlab==3.*,>=3.0.0rc13->crystaltoolkit-extension->crystal-toolkit) (3.3.0)\n",
      "Requirement already satisfied: rfc3339-validator in /Users/ajain/Documents/code_venvs/mlip_tutorial2/lib/python3.11/site-packages (from jupyter-events>=0.9.0->jupyter-server<3,>=1.16.0->jupyterlab==3.*,>=3.0.0rc13->crystaltoolkit-extension->crystal-toolkit) (0.1.4)\n",
      "Requirement already satisfied: rfc3986-validator>=0.1.1 in /Users/ajain/Documents/code_venvs/mlip_tutorial2/lib/python3.11/site-packages (from jupyter-events>=0.9.0->jupyter-server<3,>=1.16.0->jupyterlab==3.*,>=3.0.0rc13->crystaltoolkit-extension->crystal-toolkit) (0.1.1)\n",
      "Requirement already satisfied: beautifulsoup4 in /Users/ajain/Documents/code_venvs/mlip_tutorial2/lib/python3.11/site-packages (from nbconvert>=6.4.4->jupyter-server<3,>=1.16.0->jupyterlab==3.*,>=3.0.0rc13->crystaltoolkit-extension->crystal-toolkit) (4.13.4)\n",
      "Requirement already satisfied: bleach!=5.0.0 in /Users/ajain/Documents/code_venvs/mlip_tutorial2/lib/python3.11/site-packages (from nbconvert>=6.4.4->jupyter-server<3,>=1.16.0->jupyterlab==3.*,>=3.0.0rc13->crystaltoolkit-extension->crystal-toolkit) (6.2.0)\n",
      "Requirement already satisfied: defusedxml in /Users/ajain/Documents/code_venvs/mlip_tutorial2/lib/python3.11/site-packages (from nbconvert>=6.4.4->jupyter-server<3,>=1.16.0->jupyterlab==3.*,>=3.0.0rc13->crystaltoolkit-extension->crystal-toolkit) (0.7.1)\n",
      "Requirement already satisfied: jupyterlab-pygments in /Users/ajain/Documents/code_venvs/mlip_tutorial2/lib/python3.11/site-packages (from nbconvert>=6.4.4->jupyter-server<3,>=1.16.0->jupyterlab==3.*,>=3.0.0rc13->crystaltoolkit-extension->crystal-toolkit) (0.3.0)\n",
      "Requirement already satisfied: mistune<4,>=2.0.3 in /Users/ajain/Documents/code_venvs/mlip_tutorial2/lib/python3.11/site-packages (from nbconvert>=6.4.4->jupyter-server<3,>=1.16.0->jupyterlab==3.*,>=3.0.0rc13->crystaltoolkit-extension->crystal-toolkit) (3.1.3)\n",
      "Requirement already satisfied: nbclient>=0.5.0 in /Users/ajain/Documents/code_venvs/mlip_tutorial2/lib/python3.11/site-packages (from nbconvert>=6.4.4->jupyter-server<3,>=1.16.0->jupyterlab==3.*,>=3.0.0rc13->crystaltoolkit-extension->crystal-toolkit) (0.10.0)\n",
      "Requirement already satisfied: pandocfilters>=1.4.1 in /Users/ajain/Documents/code_venvs/mlip_tutorial2/lib/python3.11/site-packages (from nbconvert>=6.4.4->jupyter-server<3,>=1.16.0->jupyterlab==3.*,>=3.0.0rc13->crystaltoolkit-extension->crystal-toolkit) (1.5.1)\n",
      "Requirement already satisfied: tinycss2 in /Users/ajain/Documents/code_venvs/mlip_tutorial2/lib/python3.11/site-packages (from nbconvert>=6.4.4->jupyter-server<3,>=1.16.0->jupyterlab==3.*,>=3.0.0rc13->crystaltoolkit-extension->crystal-toolkit) (1.4.0)\n",
      "Requirement already satisfied: fastjsonschema>=2.15 in /Users/ajain/Documents/code_venvs/mlip_tutorial2/lib/python3.11/site-packages (from nbformat>=5.3.0->jupyter-server<3,>=1.16.0->jupyterlab==3.*,>=3.0.0rc13->crystaltoolkit-extension->crystal-toolkit) (2.21.1)\n",
      "Requirement already satisfied: bcrypt>=3.2 in /Users/ajain/Documents/code_venvs/mlip_tutorial2/lib/python3.11/site-packages (from paramiko>=2.7.2->sshtunnel>=0.1.5->maggma>=0.57.1->mp-api->crystal-toolkit) (4.3.0)\n",
      "Requirement already satisfied: cryptography>=3.3 in /Users/ajain/Documents/code_venvs/mlip_tutorial2/lib/python3.11/site-packages (from paramiko>=2.7.2->sshtunnel>=0.1.5->maggma>=0.57.1->mp-api->crystal-toolkit) (45.0.5)\n",
      "Requirement already satisfied: pynacl>=1.5 in /Users/ajain/Documents/code_venvs/mlip_tutorial2/lib/python3.11/site-packages (from paramiko>=2.7.2->sshtunnel>=0.1.5->maggma>=0.57.1->mp-api->crystal-toolkit) (1.5.0)\n",
      "Requirement already satisfied: ptyprocess>=0.5 in /Users/ajain/Documents/code_venvs/mlip_tutorial2/lib/python3.11/site-packages (from pexpect>4.3->ipython->jupyterlab==3.*,>=3.0.0rc13->crystaltoolkit-extension->crystal-toolkit) (0.7.0)\n"
     ]
    },
    {
     "name": "stdout",
     "output_type": "stream",
     "text": [
      "Requirement already satisfied: wcwidth in /Users/ajain/Documents/code_venvs/mlip_tutorial2/lib/python3.11/site-packages (from prompt-toolkit<3.1.0,>=3.0.41->ipython->jupyterlab==3.*,>=3.0.0rc13->crystaltoolkit-extension->crystal-toolkit) (0.2.13)\n",
      "Requirement already satisfied: aiofiles<23,>=22.1.0 in /Users/ajain/Documents/code_venvs/mlip_tutorial2/lib/python3.11/site-packages (from ypy-websocket<0.9.0,>=0.8.2->jupyter-server-ydoc~=0.8.0->jupyterlab==3.*,>=3.0.0rc13->crystaltoolkit-extension->crystal-toolkit) (22.1.0)\n",
      "Requirement already satisfied: aiosqlite<1,>=0.17.0 in /Users/ajain/Documents/code_venvs/mlip_tutorial2/lib/python3.11/site-packages (from ypy-websocket<0.9.0,>=0.8.2->jupyter-server-ydoc~=0.8.0->jupyterlab==3.*,>=3.0.0rc13->crystaltoolkit-extension->crystal-toolkit) (0.21.0)\n",
      "Requirement already satisfied: appnope in /Users/ajain/Documents/code_venvs/mlip_tutorial2/lib/python3.11/site-packages (from ipykernel->notebook<7->jupyterlab==3.*,>=3.0.0rc13->crystaltoolkit-extension->crystal-toolkit) (0.1.4)\n",
      "Requirement already satisfied: comm>=0.1.1 in /Users/ajain/Documents/code_venvs/mlip_tutorial2/lib/python3.11/site-packages (from ipykernel->notebook<7->jupyterlab==3.*,>=3.0.0rc13->crystaltoolkit-extension->crystal-toolkit) (0.2.3)\n",
      "Requirement already satisfied: debugpy>=1.6.5 in /Users/ajain/Documents/code_venvs/mlip_tutorial2/lib/python3.11/site-packages (from ipykernel->notebook<7->jupyterlab==3.*,>=3.0.0rc13->crystaltoolkit-extension->crystal-toolkit) (1.8.15)\n",
      "Requirement already satisfied: psutil in /Users/ajain/Documents/code_venvs/mlip_tutorial2/lib/python3.11/site-packages (from ipykernel->notebook<7->jupyterlab==3.*,>=3.0.0rc13->crystaltoolkit-extension->crystal-toolkit) (7.0.0)\n",
      "Requirement already satisfied: executing>=1.2.0 in /Users/ajain/Documents/code_venvs/mlip_tutorial2/lib/python3.11/site-packages (from stack-data->ipython->jupyterlab==3.*,>=3.0.0rc13->crystaltoolkit-extension->crystal-toolkit) (2.2.0)\n",
      "Requirement already satisfied: asttokens>=2.1.0 in /Users/ajain/Documents/code_venvs/mlip_tutorial2/lib/python3.11/site-packages (from stack-data->ipython->jupyterlab==3.*,>=3.0.0rc13->crystaltoolkit-extension->crystal-toolkit) (3.0.0)\n",
      "Requirement already satisfied: pure-eval in /Users/ajain/Documents/code_venvs/mlip_tutorial2/lib/python3.11/site-packages (from stack-data->ipython->jupyterlab==3.*,>=3.0.0rc13->crystaltoolkit-extension->crystal-toolkit) (0.2.3)\n",
      "Requirement already satisfied: webencodings in /Users/ajain/Documents/code_venvs/mlip_tutorial2/lib/python3.11/site-packages (from bleach!=5.0.0->nbconvert>=6.4.4->jupyter-server<3,>=1.16.0->jupyterlab==3.*,>=3.0.0rc13->crystaltoolkit-extension->crystal-toolkit) (0.5.1)\n",
      "Requirement already satisfied: cffi>=1.14 in /Users/ajain/Documents/code_venvs/mlip_tutorial2/lib/python3.11/site-packages (from cryptography>=3.3->paramiko>=2.7.2->sshtunnel>=0.1.5->maggma>=0.57.1->mp-api->crystal-toolkit) (1.17.1)\n",
      "Requirement already satisfied: fqdn in /Users/ajain/Documents/code_venvs/mlip_tutorial2/lib/python3.11/site-packages (from jsonschema>=3.1.1->maggma>=0.57.1->mp-api->crystal-toolkit) (1.5.1)\n",
      "Requirement already satisfied: isoduration in /Users/ajain/Documents/code_venvs/mlip_tutorial2/lib/python3.11/site-packages (from jsonschema>=3.1.1->maggma>=0.57.1->mp-api->crystal-toolkit) (20.11.0)\n",
      "Requirement already satisfied: jsonpointer>1.13 in /Users/ajain/Documents/code_venvs/mlip_tutorial2/lib/python3.11/site-packages (from jsonschema>=3.1.1->maggma>=0.57.1->mp-api->crystal-toolkit) (3.0.0)\n",
      "Requirement already satisfied: rfc3987-syntax>=1.1.0 in /Users/ajain/Documents/code_venvs/mlip_tutorial2/lib/python3.11/site-packages (from jsonschema>=3.1.1->maggma>=0.57.1->mp-api->crystal-toolkit) (1.1.0)\n",
      "Requirement already satisfied: uri-template in /Users/ajain/Documents/code_venvs/mlip_tutorial2/lib/python3.11/site-packages (from jsonschema>=3.1.1->maggma>=0.57.1->mp-api->crystal-toolkit) (1.3.0)\n",
      "Requirement already satisfied: soupsieve>1.2 in /Users/ajain/Documents/code_venvs/mlip_tutorial2/lib/python3.11/site-packages (from beautifulsoup4->nbconvert>=6.4.4->jupyter-server<3,>=1.16.0->jupyterlab==3.*,>=3.0.0rc13->crystaltoolkit-extension->crystal-toolkit) (2.7)\n",
      "Requirement already satisfied: pycparser in /Users/ajain/Documents/code_venvs/mlip_tutorial2/lib/python3.11/site-packages (from cffi>=1.14->cryptography>=3.3->paramiko>=2.7.2->sshtunnel>=0.1.5->maggma>=0.57.1->mp-api->crystal-toolkit) (2.22)\n",
      "Requirement already satisfied: lark>=1.2.2 in /Users/ajain/Documents/code_venvs/mlip_tutorial2/lib/python3.11/site-packages (from rfc3987-syntax>=1.1.0->jsonschema>=3.1.1->maggma>=0.57.1->mp-api->crystal-toolkit) (1.2.2)\n",
      "Requirement already satisfied: arrow>=0.15.0 in /Users/ajain/Documents/code_venvs/mlip_tutorial2/lib/python3.11/site-packages (from isoduration->jsonschema>=3.1.1->maggma>=0.57.1->mp-api->crystal-toolkit) (1.3.0)\n",
      "Requirement already satisfied: types-python-dateutil>=2.8.10 in /Users/ajain/Documents/code_venvs/mlip_tutorial2/lib/python3.11/site-packages (from arrow>=0.15.0->isoduration->jsonschema>=3.1.1->maggma>=0.57.1->mp-api->crystal-toolkit) (2.9.0.20250708)\n",
      "\n",
      "\u001b[1m[\u001b[0m\u001b[34;49mnotice\u001b[0m\u001b[1;39;49m]\u001b[0m\u001b[39;49m A new release of pip is available: \u001b[0m\u001b[31;49m23.1.2\u001b[0m\u001b[39;49m -> \u001b[0m\u001b[32;49m25.2\u001b[0m\n",
      "\u001b[1m[\u001b[0m\u001b[34;49mnotice\u001b[0m\u001b[1;39;49m]\u001b[0m\u001b[39;49m To update, run: \u001b[0m\u001b[32;49mpip install --upgrade pip\u001b[0m\n"
     ]
    }
   ],
   "source": [
    "# !pip install matcalc\n",
    "\n",
    "# !pip install matgl\n",
    "# !pip install seekpath\n",
    "\n",
    "# !pip install crystal-toolkit"
   ]
  },
  {
   "cell_type": "markdown",
   "id": "4ea517c2",
   "metadata": {
    "slideshow": {
     "slide_type": "slide"
    }
   },
   "source": [
    "# Task 1. Optimize structural parameters and calculate the total energy of GaAs\n",
    "\n",
    "One of the most common tasks in materials modeling is optimizing the structural parameters of a crystal structure and calculating its total energy following the relaxation.\n",
    "\n",
    "As the target structure, we will load the experimental structure of GaAs from the Crystallography Open Database, or COD, from a CIF file.\n",
    "\n",
    "If you use structures from the COD for your own work, please make sure to cite their resource: https://wiki.crystallography.net/cod/citing/\n"
   ]
  },
  {
   "cell_type": "markdown",
   "id": "91635d6c",
   "metadata": {
    "slideshow": {
     "slide_type": "slide"
    }
   },
   "source": [
    "Let's start by loading and visualizing the GaAs structure. We will use the *pymatgen* code to create a ``Structure`` object.\n",
    "\n",
    "For more details about *pymatgen* ``Structure`` objects, as well as additional ways to load crystal structures, see Part 1 of the pymatgen tutorial: https://youtu.be/b0tieiedGdg"
   ]
  },
  {
   "cell_type": "code",
   "execution_count": 1,
   "id": "31515d25",
   "metadata": {
    "slideshow": {
     "slide_type": "fragment"
    }
   },
   "outputs": [
    {
     "name": "stderr",
     "output_type": "stream",
     "text": [
      "/Users/drago/Documents/GitHub/zzz_tutorials_repo/matcalc_tutorial/.venv/lib/python3.12/site-packages/tqdm/auto.py:21: TqdmWarning: IProgress not found. Please update jupyter and ipywidgets. See https://ipywidgets.readthedocs.io/en/stable/user_install.html\n",
      "  from .autonotebook import tqdm as notebook_tqdm\n"
     ]
    },
    {
     "name": "stdout",
     "output_type": "stream",
     "text": [
      "Full Formula (Ga4 As4)\n",
      "Reduced Formula: GaAs\n",
      "abc   :   5.653700   5.653700   5.653700\n",
      "angles:  90.000000  90.000000  90.000000\n",
      "pbc   :       True       True       True\n",
      "Sites (8)\n",
      "  #  SP       a     b     c\n",
      "---  ----  ----  ----  ----\n",
      "  0  Ga    0     0     0\n",
      "  1  Ga    0     0.5   0.5\n",
      "  2  Ga    0.5   0     0.5\n",
      "  3  Ga    0.5   0.5   0\n",
      "  4  As    0.25  0.25  0.25\n",
      "  5  As    0.25  0.75  0.75\n",
      "  6  As    0.75  0.25  0.75\n",
      "  7  As    0.75  0.75  0.25\n"
     ]
    },
    {
     "data": {
      "text/html": [
       "\n",
       "        <iframe\n",
       "            width=\"100%\"\n",
       "            height=\"650\"\n",
       "            src=\"http://127.0.0.1:8884/\"\n",
       "            frameborder=\"0\"\n",
       "            allowfullscreen\n",
       "            \n",
       "        ></iframe>\n",
       "        "
      ],
      "text/plain": [
       "<IPython.lib.display.IFrame at 0x317a13230>"
      ]
     },
     "metadata": {},
     "output_type": "display_data"
    }
   ],
   "source": [
    "import crystal_toolkit  # for interactive visualization only; can omit if causing problems\n",
    "import os\n",
    "from pymatgen.core import Structure\n",
    "\n",
    "# Get a structure we want to optimize\n",
    "gaas_expt = Structure.from_file(os.path.join(\"structures\", \"GaAs.cif\"))  # expt. structure from COD\n",
    "print(gaas_expt)\n",
    "gaas_expt"
   ]
  },
  {
   "cell_type": "markdown",
   "id": "a1958a80",
   "metadata": {
    "slideshow": {
     "slide_type": "fragment"
    }
   },
   "source": [
    "Let's now perturb the structure from its initial position. We will do this by expanding the lattice parameters as well as adding random noise to the atom positions."
   ]
  },
  {
   "cell_type": "code",
   "execution_count": 2,
   "id": "2ecf6547",
   "metadata": {
    "slideshow": {
     "slide_type": "fragment"
    }
   },
   "outputs": [
    {
     "name": "stdout",
     "output_type": "stream",
     "text": [
      "Full Formula (Ga4 As4)\n",
      "Reduced Formula: GaAs\n",
      "abc   :   6.007953   6.007953   6.007953\n",
      "angles:  90.000000  90.000000  90.000000\n",
      "pbc   :       True       True       True\n",
      "Sites (8)\n",
      "  #  SP           a         b         c\n",
      "---  ----  --------  --------  --------\n",
      "  0  Ga    0.002164  0.00821   0.996422\n",
      "  1  Ga    0.996666  0.491842  0.46734\n",
      "  2  Ga    0.508548  0.026683  0.510728\n",
      "  3  Ga    0.514539  0.472999  0.014179\n",
      "  4  As    0.253631  0.237468  0.271903\n",
      "  5  As    0.255129  0.753952  0.758129\n",
      "  6  As    0.733502  0.256293  0.769023\n",
      "  7  As    0.770431  0.740851  0.232941\n"
     ]
    },
    {
     "data": {
      "text/html": [
       "\n",
       "        <iframe\n",
       "            width=\"100%\"\n",
       "            height=\"650\"\n",
       "            src=\"http://127.0.0.1:8884/\"\n",
       "            frameborder=\"0\"\n",
       "            allowfullscreen\n",
       "            \n",
       "        ></iframe>\n",
       "        "
      ],
      "text/plain": [
       "<IPython.lib.display.IFrame at 0x32114cb50>"
      ]
     },
     "metadata": {},
     "output_type": "display_data"
    },
    {
     "name": "stderr",
     "output_type": "stream",
     "text": [
      "/Users/drago/Documents/GitHub/zzz_tutorials_repo/matcalc_tutorial/.venv/lib/python3.11/site-packages/pymatgen/analysis/local_env.py:4021: UserWarning:\n",
      "\n",
      "No oxidation states specified on sites! For better results, set the site oxidation states in the structure.\n",
      "\n",
      "/Users/drago/Documents/GitHub/zzz_tutorials_repo/matcalc_tutorial/.venv/lib/python3.11/site-packages/pymatgen/analysis/local_env.py:4023: UserWarning:\n",
      "\n",
      "No oxidation states specified on sites! For better results, set the site oxidation states in the structure.\n",
      "\n",
      "/Users/drago/Documents/GitHub/zzz_tutorials_repo/matcalc_tutorial/.venv/lib/python3.11/site-packages/pymatgen/analysis/local_env.py:3935: UserWarning:\n",
      "\n",
      "CrystalNN: cannot locate an appropriate radius, covalent or atomic radii will be used, this can lead to non-optimal results.\n",
      "\n"
     ]
    }
   ],
   "source": [
    "gaas_perturbed = gaas_expt.copy().perturb(0.2)  # perturb atom positions\n",
    "gaas_perturbed.scale_lattice(gaas_expt.volume * 1.2)  # expand the lattice\n",
    "\n",
    "print(gaas_perturbed)\n",
    "gaas_perturbed"
   ]
  },
  {
   "cell_type": "markdown",
   "id": "b5b79292",
   "metadata": {
    "slideshow": {
     "slide_type": "fragment"
    }
   },
   "source": [
    "Ok, now it's time to optimize our perturbed structure using universal potentials. The first thing we need to do is to select a potential energy surface. The *matcalc* code refers to these as \"calculators\".\n",
    "\n",
    "We can print out a list of all calculators bundled with the *matgl* code that we previously installed (later we'll show how to use other potentials not bundled with *matgl*)."
   ]
  },
  {
   "cell_type": "code",
   "execution_count": 5,
   "id": "fabbba45",
   "metadata": {
    "slideshow": {
     "slide_type": "fragment"
    }
   },
   "outputs": [
    {
     "name": "stdout",
     "output_type": "stream",
     "text": [
      "[<UNIVERSAL_CALCULATORS.CHGNet: 'CHGNet'>,\n",
      " <UNIVERSAL_CALCULATORS.CHGNet-MPtrj-2023.12.1-2.7M-PES: 'CHGNet-MPtrj-2023.12.1-2.7M-PES'>,\n",
      " <UNIVERSAL_CALCULATORS.CHGNet-MPtrj-2024.2.13-11M-PES: 'CHGNet-MPtrj-2024.2.13-11M-PES'>,\n",
      " <UNIVERSAL_CALCULATORS.CHGNet-MatPES-PBE-2025.2.10-2.7M-PES: 'CHGNet-MatPES-PBE-2025.2.10-2.7M-PES'>,\n",
      " <UNIVERSAL_CALCULATORS.CHGNet-MatPES-r2SCAN-2025.2.10-2.7M-PES: 'CHGNet-MatPES-r2SCAN-2025.2.10-2.7M-PES'>,\n",
      " <UNIVERSAL_CALCULATORS.DeePMD: 'DeePMD'>,\n",
      " <UNIVERSAL_CALCULATORS.FAIRChem: 'FAIRChem'>,\n",
      " <UNIVERSAL_CALCULATORS.GRACE: 'GRACE'>,\n",
      " <UNIVERSAL_CALCULATORS.M3GNet: 'M3GNet'>,\n",
      " <UNIVERSAL_CALCULATORS.M3GNet-MP-2021.2.8-DIRECT-PES: 'M3GNet-MP-2021.2.8-DIRECT-PES'>,\n",
      " <UNIVERSAL_CALCULATORS.M3GNet-MP-2021.2.8-PES: 'M3GNet-MP-2021.2.8-PES'>,\n",
      " <UNIVERSAL_CALCULATORS.M3GNet-MatPES-PBE-v2025.1-PES: 'M3GNet-MatPES-PBE-v2025.1-PES'>,\n",
      " <UNIVERSAL_CALCULATORS.M3GNet-MatPES-r2SCAN-v2025.1-PES: 'M3GNet-MatPES-r2SCAN-v2025.1-PES'>,\n",
      " <UNIVERSAL_CALCULATORS.MACE: 'MACE'>,\n",
      " <UNIVERSAL_CALCULATORS.MatterSim: 'MatterSim'>,\n",
      " <UNIVERSAL_CALCULATORS.ORB: 'ORB'>,\n",
      " <UNIVERSAL_CALCULATORS.PBE: 'PBE'>,\n",
      " <UNIVERSAL_CALCULATORS.PETMAD: 'PETMAD'>,\n",
      " <UNIVERSAL_CALCULATORS.SevenNet: 'SevenNet'>,\n",
      " <UNIVERSAL_CALCULATORS.TensorNet: 'TensorNet'>,\n",
      " <UNIVERSAL_CALCULATORS.TensorNet-MatPES-PBE-v2025.1-PES: 'TensorNet-MatPES-PBE-v2025.1-PES'>,\n",
      " <UNIVERSAL_CALCULATORS.TensorNet-MatPES-r2SCAN-v2025.1-PES: 'TensorNet-MatPES-r2SCAN-v2025.1-PES'>,\n",
      " <UNIVERSAL_CALCULATORS.TensorPotential: 'TensorPotential'>,\n",
      " <UNIVERSAL_CALCULATORS.r2SCAN: 'r2SCAN'>]\n"
     ]
    }
   ],
   "source": [
    "import matcalc\n",
    "from matcalc.utils import UNIVERSAL_CALCULATORS\n",
    "\n",
    "import pprint\n",
    "pprint.pprint(list(UNIVERSAL_CALCULATORS))  # calculators that come with bundled with matgl"
   ]
  },
  {
   "cell_type": "markdown",
   "id": "98750e65",
   "metadata": {
    "slideshow": {
     "slide_type": "fragment"
    }
   },
   "source": [
    "For ease of use, we can use shortcuts to get \"recommended\" potentials for various levels of theory used in the training data. Note that these recommended potentials might change with time, so if you need stability you should specify the potential name explicitly.\n",
    "\n",
    "For now, we'll load the default model that is trained on DFT-PBE level data."
   ]
  },
  {
   "cell_type": "code",
   "execution_count": 6,
   "id": "5b515e00",
   "metadata": {
    "slideshow": {
     "slide_type": "fragment"
    }
   },
   "outputs": [
    {
     "name": "stdout",
     "output_type": "stream",
     "text": [
      "{'chgnet': 'CHGNet-MatPES-PBE-2025.2.10-2.7M-PES',\n",
      " 'm3gnet': 'M3GNet-MatPES-PBE-v2025.1-PES',\n",
      " 'pbe': 'TensorNet-MatPES-PBE-v2025.1-PES',\n",
      " 'r2scan': 'TensorNet-MatPES-r2SCAN-v2025.1-PES',\n",
      " 'tensornet': 'TensorNet-MatPES-PBE-v2025.1-PES'}\n"
     ]
    }
   ],
   "source": [
    "from matcalc.utils import MODEL_ALIASES\n",
    "pprint.pprint(MODEL_ALIASES)  # list all \"aliased\" models"
   ]
  },
  {
   "cell_type": "code",
   "execution_count": 7,
   "id": "ec202377",
   "metadata": {
    "slideshow": {
     "slide_type": "fragment"
    }
   },
   "outputs": [],
   "source": [
    "calculator_pbe = matcalc.load_fp(\"pbe\")  # recommended calculator for PBE functional - note default can change over time!\n",
    "# calculator_pbe = matcalc.load_fp(\"TensorNet-MatPES-PBE-v2025.1-PES\")  # enforce calculator explicitly"
   ]
  },
  {
   "cell_type": "markdown",
   "id": "eb176e0e",
   "metadata": {
    "slideshow": {
     "slide_type": "fragment"
    }
   },
   "source": [
    "Now that we have a calculator object, we can run a simulation with *matcalc*. We need to specify the type of simulation we want to do by instantiating the appropriate Property Calclulator from *matcalc*, and then call the ``calc()`` function on our desired structure.\n",
    "\n",
    "Here, we will try to optimize our perturbed structure to see if we can recover our original cell volume and crystallographic atom positions using the structure optimization."
   ]
  },
  {
   "cell_type": "code",
   "execution_count": 8,
   "id": "dc5aefa4",
   "metadata": {
    "slideshow": {
     "slide_type": "fragment"
    }
   },
   "outputs": [],
   "source": [
    "relax_calc = matcalc.RelaxCalc(\n",
    "    calculator_pbe,\n",
    "    optimizer=\"FIRE\",\n",
    "    relax_atoms=True,\n",
    "    relax_cell=True,\n",
    ")\n",
    "\n",
    "data = relax_calc.calc(gaas_perturbed)"
   ]
  },
  {
   "cell_type": "markdown",
   "id": "861d14cb",
   "metadata": {
    "slideshow": {
     "slide_type": "fragment"
    }
   },
   "source": [
    "Now that we have the data from the relaxation simulation, we can examine it. It contains not only the optimized structure, but also the energy of the configuration, forces on atoms, and cell stress after optimization."
   ]
  },
  {
   "cell_type": "code",
   "execution_count": 9,
   "id": "b4bb3c00",
   "metadata": {
    "slideshow": {
     "slide_type": "fragment"
    }
   },
   "outputs": [
    {
     "name": "stdout",
     "output_type": "stream",
     "text": [
      "{'a': 5.776453382548914,\n",
      " 'alpha': 89.95644298919161,\n",
      " 'b': 5.778987081455736,\n",
      " 'beta': 90.02006153521336,\n",
      " 'c': 5.776945328938964,\n",
      " 'energy': -33.08534622192383,\n",
      " 'final_structure': Structure Summary\n",
      "Lattice\n",
      "    abc : 5.776453382548914 5.778987081455736 5.776945328938964\n",
      " angles : 89.95644298919161 90.02006153521336 89.97889261998611\n",
      " volume : 192.84619413005186\n",
      "      A : 5.7764531961461705 0.0010644078279825806 -0.001010212581493199\n",
      "      B : 0.0010644496538183654 5.778986565670198 0.0021973580929474717\n",
      "      C : -0.0010128447153939886 0.0021953151607894935 5.7769448230259774\n",
      "    pbc : True True True\n",
      "PeriodicSite: Ga (5.746, -0.01045, 0.02736) [0.9948, -0.001994, 0.004912]\n",
      "PeriodicSite: Ga (-0.01893, 2.862, 2.936) [-0.003278, 0.495, 0.5081]\n",
      "PeriodicSite: Ga (2.859, 5.757, 2.921) [0.4949, 0.996, 0.5054]\n",
      "PeriodicSite: Ga (2.869, 2.886, 0.04872) [0.4966, 0.4993, 0.008331]\n",
      "PeriodicSite: As (1.422, 1.427, 1.477) [0.2461, 0.2467, 0.2556]\n",
      "PeriodicSite: As (1.42, 4.318, 4.374) [0.2458, 0.7469, 0.7569]\n",
      "PeriodicSite: As (4.298, 1.43, 4.369) [0.7441, 0.247, 0.7563]\n",
      "PeriodicSite: As (4.321, 4.318, 1.489) [0.748, 0.747, 0.2577],\n",
      " 'forces': array([[ 0.03064559, -0.01835321,  0.03252632],\n",
      "       [ 0.00385723,  0.014045  , -0.02713721],\n",
      "       [ 0.02666004,  0.01076694,  0.01582883],\n",
      "       [ 0.00196802, -0.04640459, -0.02400685],\n",
      "       [-0.02191918,  0.01338106,  0.01416888],\n",
      "       [-0.00803406,  0.00786993, -0.00178901],\n",
      "       [ 0.0056646 ,  0.01006044,  0.00615649],\n",
      "       [-0.03884227,  0.00863453, -0.01574742]], dtype=float32),\n",
      " 'gamma': 89.97889261998611,\n",
      " 'stress': array([ 3.67954723e-03,  3.82246380e-03,  3.70636885e-03,  4.48529172e-04,\n",
      "       -2.46787851e-04,  9.44368148e-05]),\n",
      " 'volume': 192.84619413005186}\n"
     ]
    }
   ],
   "source": [
    "pprint.pprint(data)"
   ]
  },
  {
   "cell_type": "code",
   "execution_count": 10,
   "id": "50d77a91",
   "metadata": {
    "slideshow": {
     "slide_type": "fragment"
    }
   },
   "outputs": [
    {
     "name": "stdout",
     "output_type": "stream",
     "text": [
      "Full Formula (Ga4 As4)\n",
      "Reduced Formula: GaAs\n",
      "abc   :   5.776453   5.778987   5.776945\n",
      "angles:  89.956443  90.020062  89.978893\n",
      "pbc   :       True       True       True\n",
      "Sites (8)\n",
      "  #  SP            a          b         c\n",
      "---  ----  ---------  ---------  --------\n",
      "  0  Ga     0.994756  -0.001994  0.004912\n",
      "  1  Ga    -0.003278   0.49503   0.508068\n",
      "  2  Ga     0.494909   0.99599   0.505424\n",
      "  3  Ga     0.496637   0.499293  0.008331\n",
      "  4  As     0.246144   0.246732  0.255639\n",
      "  5  As     0.245845   0.746872  0.756851\n",
      "  6  As     0.744084   0.247049  0.756344\n",
      "  7  As     0.747954   0.747012  0.257651\n"
     ]
    },
    {
     "data": {
      "text/html": [
       "\n",
       "        <iframe\n",
       "            width=\"100%\"\n",
       "            height=\"650\"\n",
       "            src=\"http://127.0.0.1:8884/\"\n",
       "            frameborder=\"0\"\n",
       "            allowfullscreen\n",
       "            \n",
       "        ></iframe>\n",
       "        "
      ],
      "text/plain": [
       "<IPython.lib.display.IFrame at 0x146080b90>"
      ]
     },
     "metadata": {},
     "output_type": "display_data"
    }
   ],
   "source": [
    "final_structure_pbe = data[\"final_structure\"]\n",
    "print(final_structure_pbe)\n",
    "final_structure_pbe"
   ]
  },
  {
   "cell_type": "markdown",
   "id": "9a226c6a",
   "metadata": {
    "slideshow": {
     "slide_type": "fragment"
    }
   },
   "source": [
    "Examining the structure, we will see that we got close to recovering our perfect crystallographic atom positions. \n",
    "\n",
    "Our cell volume is also closer to experiment than the perturbed structure; however, because the DFT-PBE training data tends to overestimate lattice parameters, the corresponding machine-learned potential also produces cell lengths slightly larger than experiment."
   ]
  },
  {
   "cell_type": "markdown",
   "id": "07060d99",
   "metadata": {
    "slideshow": {
     "slide_type": "slide"
    }
   },
   "source": [
    "## Task 1b. Repeat the calculation with a different interatomic potential / potential energy surface from matgl\n",
    "\n",
    "Now let's repeat the same structure optimization, but use a different machine-learned interatomic potential from the *matgl* library. In particular, we will use a potential trained on meta-GGA calculations (the r2SCAN method) that is typically more accurate than PBE. However, less training data is available for r2SCAN calculations."
   ]
  },
  {
   "cell_type": "code",
   "execution_count": 11,
   "id": "f5043901",
   "metadata": {
    "slideshow": {
     "slide_type": "fragment"
    }
   },
   "outputs": [],
   "source": [
    "calculator_r2scan = matcalc.load_fp(\"r2scan\")  # recommended calculator for r2scan functional"
   ]
  },
  {
   "cell_type": "code",
   "execution_count": 12,
   "id": "98e97cdd",
   "metadata": {
    "slideshow": {
     "slide_type": "fragment"
    }
   },
   "outputs": [
    {
     "name": "stdout",
     "output_type": "stream",
     "text": [
      "Full Formula (Ga4 As4)\n",
      "Reduced Formula: GaAs\n",
      "abc   :   5.640485   5.645942   5.643007\n",
      "angles:  90.012877  89.993147  89.992337\n",
      "pbc   :       True       True       True\n",
      "Sites (8)\n",
      "  #  SP            a          b         c\n",
      "---  ----  ---------  ---------  --------\n",
      "  0  Ga     0.995426  -0.002819  0.007176\n",
      "  1  Ga    -0.003728   0.496445  0.506881\n",
      "  2  Ga     0.49536    0.996823  0.506451\n",
      "  3  Ga     0.496301   0.497628  0.006153\n",
      "  4  As     0.246281   0.247227  0.256228\n",
      "  5  As     0.245547   0.747217  0.756783\n",
      "  6  As     0.745794   0.246705  0.756458\n",
      "  7  As     0.746068   0.746759  0.257089\n"
     ]
    },
    {
     "data": {
      "text/html": [
       "\n",
       "        <iframe\n",
       "            width=\"100%\"\n",
       "            height=\"650\"\n",
       "            src=\"http://127.0.0.1:8884/\"\n",
       "            frameborder=\"0\"\n",
       "            allowfullscreen\n",
       "            \n",
       "        ></iframe>\n",
       "        "
      ],
      "text/plain": [
       "<IPython.lib.display.IFrame at 0x14731d5d0>"
      ]
     },
     "metadata": {},
     "output_type": "display_data"
    }
   ],
   "source": [
    "relax_calc = matcalc.RelaxCalc(\n",
    "    calculator_r2scan,\n",
    "    optimizer=\"FIRE\",\n",
    "    relax_atoms=True,\n",
    "    relax_cell=True,\n",
    ")\n",
    "\n",
    "data = relax_calc.calc(gaas_perturbed)\n",
    "final_structure_r2scan = data[\"final_structure\"]\n",
    "print(final_structure_r2scan)\n",
    "final_structure_r2scan"
   ]
  },
  {
   "cell_type": "markdown",
   "id": "8969d9cb",
   "metadata": {
    "slideshow": {
     "slide_type": "fragment"
    }
   },
   "source": [
    "We see that this potential has better reproduced the lattice parameters of GaAs starting from the perturbed structure."
   ]
  },
  {
   "cell_type": "markdown",
   "id": "fce3822d",
   "metadata": {
    "slideshow": {
     "slide_type": "slide"
    }
   },
   "source": [
    "## Task 1c. Repeat the calculation with a different potential from the internet\n",
    "\n",
    "Now, let's use a potential that is not bundled with *matgl*. The *matcalc* software can use any potential that implements an ``ASECalculator``.\n",
    "\n",
    "For example, the MACE library distributes foundation models that implement the ASE calculator:\n",
    "https://mace-docs.readthedocs.io/en/latest/guide/foundation_models.html\n",
    "\n",
    "We can thus install the *mace-torch* library and load the corresponding calculator for use with *matcalc*."
   ]
  },
  {
   "cell_type": "code",
   "execution_count": 13,
   "id": "dc7bbf72",
   "metadata": {
    "slideshow": {
     "slide_type": "fragment"
    }
   },
   "outputs": [
    {
     "name": "stdout",
     "output_type": "stream",
     "text": [
      "Requirement already satisfied: mace-torch in /Users/ajain/Documents/code_venvs/mlip_tutorial2/lib/python3.11/site-packages (0.3.13)\n",
      "Requirement already satisfied: torch>=1.12 in /Users/ajain/Documents/code_venvs/mlip_tutorial2/lib/python3.11/site-packages (from mace-torch) (2.2.0)\n",
      "Requirement already satisfied: e3nn==0.4.4 in /Users/ajain/Documents/code_venvs/mlip_tutorial2/lib/python3.11/site-packages (from mace-torch) (0.4.4)\n",
      "Requirement already satisfied: numpy in /Users/ajain/Documents/code_venvs/mlip_tutorial2/lib/python3.11/site-packages (from mace-torch) (1.26.4)\n",
      "Requirement already satisfied: opt_einsum in /Users/ajain/Documents/code_venvs/mlip_tutorial2/lib/python3.11/site-packages (from mace-torch) (3.4.0)\n",
      "Requirement already satisfied: ase in /Users/ajain/Documents/code_venvs/mlip_tutorial2/lib/python3.11/site-packages (from mace-torch) (3.25.0)\n",
      "Requirement already satisfied: torch-ema in /Users/ajain/Documents/code_venvs/mlip_tutorial2/lib/python3.11/site-packages (from mace-torch) (0.3)\n",
      "Requirement already satisfied: prettytable in /Users/ajain/Documents/code_venvs/mlip_tutorial2/lib/python3.11/site-packages (from mace-torch) (3.16.0)\n",
      "Requirement already satisfied: matscipy in /Users/ajain/Documents/code_venvs/mlip_tutorial2/lib/python3.11/site-packages (from mace-torch) (1.1.1)\n",
      "Requirement already satisfied: h5py in /Users/ajain/Documents/code_venvs/mlip_tutorial2/lib/python3.11/site-packages (from mace-torch) (3.14.0)\n",
      "Requirement already satisfied: torchmetrics in /Users/ajain/Documents/code_venvs/mlip_tutorial2/lib/python3.11/site-packages (from mace-torch) (1.8.0)\n",
      "Requirement already satisfied: python-hostlist in /Users/ajain/Documents/code_venvs/mlip_tutorial2/lib/python3.11/site-packages (from mace-torch) (2.2.2)\n",
      "Requirement already satisfied: configargparse in /Users/ajain/Documents/code_venvs/mlip_tutorial2/lib/python3.11/site-packages (from mace-torch) (1.7.1)\n",
      "Requirement already satisfied: GitPython in /Users/ajain/Documents/code_venvs/mlip_tutorial2/lib/python3.11/site-packages (from mace-torch) (3.1.45)\n",
      "Requirement already satisfied: pyYAML in /Users/ajain/Documents/code_venvs/mlip_tutorial2/lib/python3.11/site-packages (from mace-torch) (6.0.2)\n",
      "Requirement already satisfied: tqdm in /Users/ajain/Documents/code_venvs/mlip_tutorial2/lib/python3.11/site-packages (from mace-torch) (4.67.1)\n",
      "Requirement already satisfied: lmdb in /Users/ajain/Documents/code_venvs/mlip_tutorial2/lib/python3.11/site-packages (from mace-torch) (1.7.3)\n",
      "Requirement already satisfied: orjson in /Users/ajain/Documents/code_venvs/mlip_tutorial2/lib/python3.11/site-packages (from mace-torch) (3.11.1)\n",
      "Requirement already satisfied: matplotlib in /Users/ajain/Documents/code_venvs/mlip_tutorial2/lib/python3.11/site-packages (from mace-torch) (3.10.3)\n",
      "Requirement already satisfied: pandas in /Users/ajain/Documents/code_venvs/mlip_tutorial2/lib/python3.11/site-packages (from mace-torch) (2.3.1)\n",
      "Requirement already satisfied: sympy in /Users/ajain/Documents/code_venvs/mlip_tutorial2/lib/python3.11/site-packages (from e3nn==0.4.4->mace-torch) (1.14.0)\n",
      "Requirement already satisfied: scipy in /Users/ajain/Documents/code_venvs/mlip_tutorial2/lib/python3.11/site-packages (from e3nn==0.4.4->mace-torch) (1.16.1)\n",
      "Requirement already satisfied: opt-einsum-fx>=0.1.4 in /Users/ajain/Documents/code_venvs/mlip_tutorial2/lib/python3.11/site-packages (from e3nn==0.4.4->mace-torch) (0.1.4)\n",
      "Requirement already satisfied: filelock in /Users/ajain/Documents/code_venvs/mlip_tutorial2/lib/python3.11/site-packages (from torch>=1.12->mace-torch) (3.18.0)\n",
      "Requirement already satisfied: typing-extensions>=4.8.0 in /Users/ajain/Documents/code_venvs/mlip_tutorial2/lib/python3.11/site-packages (from torch>=1.12->mace-torch) (4.14.1)\n",
      "Requirement already satisfied: networkx in /Users/ajain/Documents/code_venvs/mlip_tutorial2/lib/python3.11/site-packages (from torch>=1.12->mace-torch) (3.5)\n",
      "Requirement already satisfied: jinja2 in /Users/ajain/Documents/code_venvs/mlip_tutorial2/lib/python3.11/site-packages (from torch>=1.12->mace-torch) (3.1.6)\n",
      "Requirement already satisfied: fsspec in /Users/ajain/Documents/code_venvs/mlip_tutorial2/lib/python3.11/site-packages (from torch>=1.12->mace-torch) (2025.7.0)\n",
      "Requirement already satisfied: contourpy>=1.0.1 in /Users/ajain/Documents/code_venvs/mlip_tutorial2/lib/python3.11/site-packages (from matplotlib->mace-torch) (1.3.3)\n",
      "Requirement already satisfied: cycler>=0.10 in /Users/ajain/Documents/code_venvs/mlip_tutorial2/lib/python3.11/site-packages (from matplotlib->mace-torch) (0.12.1)\n",
      "Requirement already satisfied: fonttools>=4.22.0 in /Users/ajain/Documents/code_venvs/mlip_tutorial2/lib/python3.11/site-packages (from matplotlib->mace-torch) (4.59.0)\n",
      "Requirement already satisfied: kiwisolver>=1.3.1 in /Users/ajain/Documents/code_venvs/mlip_tutorial2/lib/python3.11/site-packages (from matplotlib->mace-torch) (1.4.8)\n",
      "Requirement already satisfied: packaging>=20.0 in /Users/ajain/Documents/code_venvs/mlip_tutorial2/lib/python3.11/site-packages (from matplotlib->mace-torch) (24.2)\n",
      "Requirement already satisfied: pillow>=8 in /Users/ajain/Documents/code_venvs/mlip_tutorial2/lib/python3.11/site-packages (from matplotlib->mace-torch) (11.3.0)\n",
      "Requirement already satisfied: pyparsing>=2.3.1 in /Users/ajain/Documents/code_venvs/mlip_tutorial2/lib/python3.11/site-packages (from matplotlib->mace-torch) (3.2.3)\n",
      "Requirement already satisfied: python-dateutil>=2.7 in /Users/ajain/Documents/code_venvs/mlip_tutorial2/lib/python3.11/site-packages (from matplotlib->mace-torch) (2.9.0.post0)\n",
      "Requirement already satisfied: gitdb<5,>=4.0.1 in /Users/ajain/Documents/code_venvs/mlip_tutorial2/lib/python3.11/site-packages (from GitPython->mace-torch) (4.0.12)\n",
      "Requirement already satisfied: pytz>=2020.1 in /Users/ajain/Documents/code_venvs/mlip_tutorial2/lib/python3.11/site-packages (from pandas->mace-torch) (2025.2)\n",
      "Requirement already satisfied: tzdata>=2022.7 in /Users/ajain/Documents/code_venvs/mlip_tutorial2/lib/python3.11/site-packages (from pandas->mace-torch) (2025.2)\n",
      "Requirement already satisfied: wcwidth in /Users/ajain/Documents/code_venvs/mlip_tutorial2/lib/python3.11/site-packages (from prettytable->mace-torch) (0.2.13)\n",
      "Requirement already satisfied: lightning-utilities>=0.8.0 in /Users/ajain/Documents/code_venvs/mlip_tutorial2/lib/python3.11/site-packages (from torchmetrics->mace-torch) (0.15.0)\n",
      "Requirement already satisfied: smmap<6,>=3.0.1 in /Users/ajain/Documents/code_venvs/mlip_tutorial2/lib/python3.11/site-packages (from gitdb<5,>=4.0.1->GitPython->mace-torch) (5.0.2)\n",
      "Requirement already satisfied: setuptools in /Users/ajain/Documents/code_venvs/mlip_tutorial2/lib/python3.11/site-packages (from lightning-utilities>=0.8.0->torchmetrics->mace-torch) (65.5.0)\n",
      "Requirement already satisfied: six>=1.5 in /Users/ajain/Documents/code_venvs/mlip_tutorial2/lib/python3.11/site-packages (from python-dateutil>=2.7->matplotlib->mace-torch) (1.17.0)\n",
      "Requirement already satisfied: MarkupSafe>=2.0 in /Users/ajain/Documents/code_venvs/mlip_tutorial2/lib/python3.11/site-packages (from jinja2->torch>=1.12->mace-torch) (3.0.2)\n",
      "Requirement already satisfied: mpmath<1.4,>=1.1.0 in /Users/ajain/Documents/code_venvs/mlip_tutorial2/lib/python3.11/site-packages (from sympy->e3nn==0.4.4->mace-torch) (1.3.0)\n",
      "\n",
      "\u001b[1m[\u001b[0m\u001b[34;49mnotice\u001b[0m\u001b[1;39;49m]\u001b[0m\u001b[39;49m A new release of pip is available: \u001b[0m\u001b[31;49m23.1.2\u001b[0m\u001b[39;49m -> \u001b[0m\u001b[32;49m25.2\u001b[0m\n",
      "\u001b[1m[\u001b[0m\u001b[34;49mnotice\u001b[0m\u001b[1;39;49m]\u001b[0m\u001b[39;49m To update, run: \u001b[0m\u001b[32;49mpip install --upgrade pip\u001b[0m\n"
     ]
    }
   ],
   "source": [
    "!pip install mace-torch"
   ]
  },
  {
   "cell_type": "code",
   "execution_count": 14,
   "id": "26da763a",
   "metadata": {
    "slideshow": {
     "slide_type": "fragment"
    }
   },
   "outputs": [
    {
     "name": "stdout",
     "output_type": "stream",
     "text": [
      "cuequivariance or cuequivariance_torch is not available. Cuequivariance acceleration will be disabled.\n",
      "Using medium MPA-0 model as default MACE-MP model, to use previous (before 3.10) default model please specify 'medium' as model argument\n",
      "Using Materials Project MACE for MACECalculator with /Users/ajain/.cache/mace/macempa0mediummodel\n",
      "Using float32 for MACECalculator, which is faster but less accurate. Recommended for MD. Use float64 for geometry optimization.\n",
      "Using head default out of ['default']\n",
      "Default dtype float32 does not match model dtype float64, converting models to float32.\n",
      "----------------------------------------------\n",
      "Class hierarchy for the MACE calculator object\n",
      "----------------------------------------------\n",
      "(<class 'mace.calculators.mace.MACECalculator'>, <class 'ase.calculators.calculator.Calculator'>, <class 'ase.calculators.calculator.BaseCalculator'>, <class 'ase.calculators.abc.GetPropertiesMixin'>, <class 'abc.ABC'>, <class 'object'>)\n"
     ]
    }
   ],
   "source": [
    "from mace.calculators import mace_mp\n",
    "\n",
    "calculator_macemp = mace_mp()  #  load the MACE calculator\n",
    "\n",
    "print(\"-\"*46)\n",
    "print(\"Class hierarchy for the MACE calculator object\")\n",
    "print(\"-\"*46)\n",
    "print(type(calculator_macemp).__mro__)  # demonstrate that this implements the ASE Calculator model"
   ]
  },
  {
   "cell_type": "markdown",
   "id": "321c4556",
   "metadata": {
    "slideshow": {
     "slide_type": "fragment"
    }
   },
   "source": [
    "It is now straightforward to run the structure optimization with MACE.\n",
    "\n",
    "Note that this potential is also trained on PBE data, so overestimation of lattice parameters is expected."
   ]
  },
  {
   "cell_type": "code",
   "execution_count": 15,
   "id": "e22b4afb",
   "metadata": {
    "slideshow": {
     "slide_type": "fragment"
    }
   },
   "outputs": [
    {
     "name": "stdout",
     "output_type": "stream",
     "text": [
      "Full Formula (Ga4 As4)\n",
      "Reduced Formula: GaAs\n",
      "abc   :   5.731413   5.736513   5.736940\n",
      "angles:  89.987452  90.006134  90.004999\n",
      "pbc   :       True       True       True\n",
      "Sites (8)\n",
      "  #  SP            a          b         c\n",
      "---  ----  ---------  ---------  --------\n",
      "  0  Ga     0.995084  -0.001461  0.006934\n",
      "  1  Ga    -0.003899   0.495228  0.506537\n",
      "  2  Ga     0.495808   0.997819  0.505634\n",
      "  3  Ga     0.496236   0.496606  0.0075\n",
      "  4  As     0.245153   0.2462    0.25676\n",
      "  5  As     0.24597    0.747276  0.756265\n",
      "  6  As     0.745298   0.246911  0.756304\n",
      "  7  As     0.747399   0.747406  0.257286\n"
     ]
    },
    {
     "data": {
      "text/html": [
       "\n",
       "        <iframe\n",
       "            width=\"100%\"\n",
       "            height=\"650\"\n",
       "            src=\"http://127.0.0.1:8884/\"\n",
       "            frameborder=\"0\"\n",
       "            allowfullscreen\n",
       "            \n",
       "        ></iframe>\n",
       "        "
      ],
      "text/plain": [
       "<IPython.lib.display.IFrame at 0x14cb76610>"
      ]
     },
     "metadata": {},
     "output_type": "display_data"
    }
   ],
   "source": [
    "relax_calc = matcalc.RelaxCalc(\n",
    "    calculator_macemp,\n",
    "    optimizer=\"FIRE\",\n",
    "    relax_atoms=True,\n",
    "    relax_cell=True,\n",
    ")\n",
    "\n",
    "data = relax_calc.calc(gaas_perturbed)\n",
    "\n",
    "final_structure_mace = data[\"final_structure\"]\n",
    "print(final_structure_mace)\n",
    "final_structure_mace"
   ]
  },
  {
   "cell_type": "markdown",
   "id": "4e376848",
   "metadata": {
    "slideshow": {
     "slide_type": "slide"
    }
   },
   "source": [
    "# Task 2. Calculate surface energy of Si\n",
    "\n",
    "Let's now switch to a different type of simulation. Next, we will calculate the surface energy of the (111) surface of silicon. This will involve cleaving the (111) surface and comparing the per-atom energy of the surface slab to the bulk cell."
   ]
  },
  {
   "cell_type": "markdown",
   "id": "6de10f9c",
   "metadata": {
    "slideshow": {
     "slide_type": "slide"
    }
   },
   "source": [
    "Let's start by loading the conventional structure of Si retrieved from the Crystallography Open Database."
   ]
  },
  {
   "cell_type": "code",
   "execution_count": 16,
   "id": "8dca38cd",
   "metadata": {
    "slideshow": {
     "slide_type": "fragment"
    }
   },
   "outputs": [
    {
     "name": "stdout",
     "output_type": "stream",
     "text": [
      "Full Formula (Si8)\n",
      "Reduced Formula: Si\n",
      "abc   :   5.430700   5.430700   5.430700\n",
      "angles:  90.000000  90.000000  90.000000\n",
      "pbc   :       True       True       True\n",
      "Sites (8)\n",
      "  #  SP       a     b     c\n",
      "---  ----  ----  ----  ----\n",
      "  0  Si    0     0     0\n",
      "  1  Si    0     0.5   0.5\n",
      "  2  Si    0.5   0     0.5\n",
      "  3  Si    0.5   0.5   0\n",
      "  4  Si    0.75  0.75  0.25\n",
      "  5  Si    0.75  0.25  0.75\n",
      "  6  Si    0.25  0.75  0.75\n",
      "  7  Si    0.25  0.25  0.25\n"
     ]
    },
    {
     "data": {
      "text/html": [
       "\n",
       "        <iframe\n",
       "            width=\"100%\"\n",
       "            height=\"650\"\n",
       "            src=\"http://127.0.0.1:8884/\"\n",
       "            frameborder=\"0\"\n",
       "            allowfullscreen\n",
       "            \n",
       "        ></iframe>\n",
       "        "
      ],
      "text/plain": [
       "<IPython.lib.display.IFrame at 0x14cbab010>"
      ]
     },
     "metadata": {},
     "output_type": "display_data"
    },
    {
     "name": "stderr",
     "output_type": "stream",
     "text": [
      "ERROR:__main__:Exception on /_dash-component-suites/dash/dash_table/async-table.js [GET]\n",
      "Traceback (most recent call last):\n",
      "  File \"/Users/ajain/Documents/code_venvs/mlip_tutorial2/lib/python3.11/site-packages/flask/app.py\", line 1511, in wsgi_app\n",
      "    response = self.full_dispatch_request()\n",
      "               ^^^^^^^^^^^^^^^^^^^^^^^^^^^^\n",
      "  File \"/Users/ajain/Documents/code_venvs/mlip_tutorial2/lib/python3.11/site-packages/flask/app.py\", line 919, in full_dispatch_request\n",
      "    rv = self.handle_user_exception(e)\n",
      "         ^^^^^^^^^^^^^^^^^^^^^^^^^^^^^\n",
      "  File \"/Users/ajain/Documents/code_venvs/mlip_tutorial2/lib/python3.11/site-packages/flask/app.py\", line 917, in full_dispatch_request\n",
      "    rv = self.dispatch_request()\n",
      "         ^^^^^^^^^^^^^^^^^^^^^^^\n",
      "  File \"/Users/ajain/Documents/code_venvs/mlip_tutorial2/lib/python3.11/site-packages/flask/app.py\", line 902, in dispatch_request\n",
      "    return self.ensure_sync(self.view_functions[rule.endpoint])(**view_args)  # type: ignore[no-any-return]\n",
      "           ^^^^^^^^^^^^^^^^^^^^^^^^^^^^^^^^^^^^^^^^^^^^^^^^^^^^^^^^^^^^^^^^^\n",
      "  File \"/Users/ajain/Documents/code_venvs/mlip_tutorial2/lib/python3.11/site-packages/dash/dash.py\", line 1101, in serve_component_suites\n",
      "    _validate.validate_js_path(self.registered_paths, package_name, path_in_pkg)\n",
      "  File \"/Users/ajain/Documents/code_venvs/mlip_tutorial2/lib/python3.11/site-packages/dash/_validate.py\", line 377, in validate_js_path\n",
      "    raise exceptions.DependencyException(\n",
      "dash.exceptions.DependencyException: Error loading dependency. \"dash\" is not a registered library.\n",
      "Registered libraries are:\n",
      "[]\n",
      "ERROR:__main__:Exception on /_dash-component-suites/dash/dcc/async-dropdown.js [GET]\n",
      "Traceback (most recent call last):\n",
      "  File \"/Users/ajain/Documents/code_venvs/mlip_tutorial2/lib/python3.11/site-packages/flask/app.py\", line 1511, in wsgi_app\n",
      "    response = self.full_dispatch_request()\n",
      "               ^^^^^^^^^^^^^^^^^^^^^^^^^^^^\n",
      "  File \"/Users/ajain/Documents/code_venvs/mlip_tutorial2/lib/python3.11/site-packages/flask/app.py\", line 919, in full_dispatch_request\n",
      "    rv = self.handle_user_exception(e)\n",
      "         ^^^^^^^^^^^^^^^^^^^^^^^^^^^^^\n",
      "  File \"/Users/ajain/Documents/code_venvs/mlip_tutorial2/lib/python3.11/site-packages/flask/app.py\", line 917, in full_dispatch_request\n",
      "    rv = self.dispatch_request()\n",
      "         ^^^^^^^^^^^^^^^^^^^^^^^\n",
      "  File \"/Users/ajain/Documents/code_venvs/mlip_tutorial2/lib/python3.11/site-packages/flask/app.py\", line 902, in dispatch_request\n",
      "    return self.ensure_sync(self.view_functions[rule.endpoint])(**view_args)  # type: ignore[no-any-return]\n",
      "           ^^^^^^^^^^^^^^^^^^^^^^^^^^^^^^^^^^^^^^^^^^^^^^^^^^^^^^^^^^^^^^^^^\n",
      "  File \"/Users/ajain/Documents/code_venvs/mlip_tutorial2/lib/python3.11/site-packages/dash/dash.py\", line 1101, in serve_component_suites\n",
      "    _validate.validate_js_path(self.registered_paths, package_name, path_in_pkg)\n",
      "  File \"/Users/ajain/Documents/code_venvs/mlip_tutorial2/lib/python3.11/site-packages/dash/_validate.py\", line 386, in validate_js_path\n",
      "    raise exceptions.DependencyException(\n",
      "dash.exceptions.DependencyException: \"dash\" is registered but the path requested is not valid.\n",
      "The path requested: \"dcc/async-dropdown.js\"\n",
      "List of registered paths: defaultdict(<class 'set'>, {'dash': {'deps/polyfill@7.12.1.min.js'}})\n"
     ]
    }
   ],
   "source": [
    "si_expt = Structure.from_file(os.path.join(\"structures\", \"Si.cif\"))  # expt structure from COD\n",
    "print(si_expt)\n",
    "si_expt"
   ]
  },
  {
   "cell_type": "markdown",
   "id": "df1f659e",
   "metadata": {
    "slideshow": {
     "slide_type": "fragment"
    }
   },
   "source": [
    "Next, we will create the slab cell that contains the Si(111) surface.\n",
    "\n",
    "Note that multiple slabs can be created depending on the details of the surface cleaving, which may result in different surface energies. The ``calc_slabs()`` function has various options that can be used to control the slab properties, but for now we will just use defaults."
   ]
  },
  {
   "cell_type": "code",
   "execution_count": 17,
   "id": "3e6185c0",
   "metadata": {
    "slideshow": {
     "slide_type": "fragment"
    }
   },
   "outputs": [
    {
     "name": "stdout",
     "output_type": "stream",
     "text": [
      "Slab Summary (Si32)\n",
      "Reduced Formula: Si\n",
      "Miller index: (1, 1, 1)\n",
      "Shift: 0.3750, Scale Factor: [[-1  1  0]\n",
      " [-1  0  1]\n",
      " [ 1  0  0]]\n",
      "abc   :   7.680170   7.680170  34.560763\n",
      "angles:  86.815261  86.815261  60.000000\n",
      "Sites (32)\n",
      "1 Si     0.301136     0.301136     0.943182\n",
      "2 Si     0.301136     0.801136     0.943182\n",
      "3 Si     0.801136     0.301136     0.943182\n",
      "4 Si     0.801136     0.801136     0.943182\n",
      "5 Si     0.130682     0.130682     0.965909\n",
      "6 Si     0.130682     0.630682     0.965909\n",
      "7 Si     0.630682     0.130682     0.965909\n",
      "8 Si     0.630682     0.630682     0.965909\n",
      "9 Si     0.482955     0.482955     0.852273\n",
      "10 Si     0.482955     0.982955     0.852273\n",
      "11 Si     0.982955     0.482955     0.852273\n",
      "12 Si     0.982955     0.982955     0.852273\n",
      "13 Si     0.312500     0.312500     0.875000\n",
      "14 Si     0.312500     0.812500     0.875000\n",
      "15 Si     0.812500     0.312500     0.875000\n",
      "16 Si     0.812500     0.812500     0.875000\n",
      "17 Si     0.164773     0.164773     0.761364\n",
      "18 Si     0.164773     0.664773     0.761364\n",
      "19 Si     0.664773     0.164773     0.761364\n",
      "20 Si     0.664773     0.664773     0.761364\n",
      "21 Si     0.494318     0.494318     0.784091\n",
      "22 Si     0.494318     0.994318     0.784091\n",
      "23 Si     0.994318     0.494318     0.784091\n",
      "24 Si     0.994318     0.994318     0.784091\n",
      "25 Si     0.346591     0.346591     0.670455\n",
      "26 Si     0.346591     0.846591     0.670455\n",
      "27 Si     0.846591     0.346591     0.670455\n",
      "28 Si     0.846591     0.846591     0.670455\n",
      "29 Si     0.176136     0.176136     0.693182\n",
      "30 Si     0.176136     0.676136     0.693182\n",
      "31 Si     0.676136     0.176136     0.693182\n",
      "32 Si     0.676136     0.676136     0.693182\n"
     ]
    },
    {
     "data": {
      "text/html": [
       "\n",
       "        <iframe\n",
       "            width=\"100%\"\n",
       "            height=\"650\"\n",
       "            src=\"http://127.0.0.1:8884/\"\n",
       "            frameborder=\"0\"\n",
       "            allowfullscreen\n",
       "            \n",
       "        ></iframe>\n",
       "        "
      ],
      "text/plain": [
       "<IPython.lib.display.IFrame at 0x147328b50>"
      ]
     },
     "metadata": {},
     "output_type": "display_data"
    }
   ],
   "source": [
    "surface_calc = matcalc.SurfaceCalc(calculator_pbe)\n",
    "slab_data = surface_calc.calc_slabs(si_expt, miller_index=(1, 1, 1), inplane_supercell=(2,2))\n",
    "\n",
    "slab_structure = slab_data[0][\"slab\"]\n",
    "print(slab_structure)\n",
    "slab_structure"
   ]
  },
  {
   "cell_type": "markdown",
   "id": "6c3a8b62",
   "metadata": {
    "slideshow": {
     "slide_type": "fragment"
    }
   },
   "source": [
    "With our slab structure determined, we can calculate a surface energy by comparing the slab energy to the bulk.\n",
    "\n",
    "Surface energies are difficult to measure, but for Si(111), we are aiming to get an unreconstructed surface energy of \\~0.1 eV/A^2 which is \\~1.6 J/m^2.\n",
    "\n",
    "(1) Tran, R.; Xu, Z.; Radhakrishnan, B.; Winston, D.; Sun, W.; Persson, K. A.; Ong, S. P. Surface Energies of Elemental Crystals. Sci Data 2016, 3 (1), 160080. https://doi.org/10.1038/sdata.2016.80.\n",
    "\n",
    "See also: http://crystalium.materialsvirtuallab.org"
   ]
  },
  {
   "cell_type": "code",
   "execution_count": 18,
   "id": "719bd74f",
   "metadata": {
    "slideshow": {
     "slide_type": "fragment"
    }
   },
   "outputs": [
    {
     "name": "stdout",
     "output_type": "stream",
     "text": [
      "0.060700437953508324\n"
     ]
    }
   ],
   "source": [
    "surface_data = surface_calc.calc({\"bulk\": si_expt, \"slab\": slab_structure})\n",
    "print(surface_data[\"surface_energy\"])"
   ]
  },
  {
   "cell_type": "markdown",
   "id": "21dd6590",
   "metadata": {
    "slideshow": {
     "slide_type": "fragment"
    }
   },
   "source": [
    "The basic calculation underestimates, so caution is needed when doing these kinds of simulations quickly.\n",
    "\n",
    "However, we will keep moving forward."
   ]
  },
  {
   "cell_type": "markdown",
   "id": "563521ef",
   "metadata": {
    "slideshow": {
     "slide_type": "slide"
    }
   },
   "source": [
    "# Task 3: Calculate the phonon dispersion of Si\n",
    "\n",
    "Next, we'll calculate the phonon dispersion of Si. The phonon dispersion provides information about crystalline vibrations which can be related to thermal conductivity, heat capacity, free energy, and other materials properties.\n",
    "\n",
    "More information about how to interpret phonon dispersions can be found here: https://youtu.be/acT6zQbiiio"
   ]
  },
  {
   "cell_type": "markdown",
   "id": "ace2298e",
   "metadata": {
    "slideshow": {
     "slide_type": "slide"
    }
   },
   "source": [
    "Calculating phonon properties is as easy as running the ``PhononCalc`` Property Calculator on the target structure.\n",
    "\n",
    "We will load the primitive cell (with the fewest number of atoms in the unit cell) to make the calculations efficient as well as to have a more interpretable band structure."
   ]
  },
  {
   "cell_type": "code",
   "execution_count": 19,
   "id": "7fd0f2bd",
   "metadata": {
    "slideshow": {
     "slide_type": "fragment"
    }
   },
   "outputs": [
    {
     "data": {
      "text/html": [
       "\n",
       "        <iframe\n",
       "            width=\"100%\"\n",
       "            height=\"650\"\n",
       "            src=\"http://127.0.0.1:8884/\"\n",
       "            frameborder=\"0\"\n",
       "            allowfullscreen\n",
       "            \n",
       "        ></iframe>\n",
       "        "
      ],
      "text/plain": [
       "<IPython.lib.display.IFrame at 0x145e0a7d0>"
      ]
     },
     "metadata": {},
     "output_type": "display_data"
    }
   ],
   "source": [
    "si_primitive = Structure.from_file(os.path.join(\"structures\", \"Si_primitive_mp-149.cif\"))\n",
    "si_primitive"
   ]
  },
  {
   "cell_type": "markdown",
   "id": "a2e20f2b",
   "metadata": {
    "slideshow": {
     "slide_type": "fragment"
    }
   },
   "source": [
    "After loading the structure, running the phonon calculation is as easy as invoking the ``PhononCalc`` property calculator using our potential energy function of choice."
   ]
  },
  {
   "cell_type": "code",
   "execution_count": 20,
   "id": "5f1a72f3",
   "metadata": {
    "slideshow": {
     "slide_type": "fragment"
    }
   },
   "outputs": [],
   "source": [
    "from matcalc import PhononCalc\n",
    "phonon_calc = PhononCalc(calculator_pbe, relax_structure=True, \n",
    "                         write_band_structure=os.path.join(\"outputs\", \"si_phonon_bs.yaml\"),\n",
    "                         write_total_dos=os.path.join(\"outputs\", \"si_phonon_dos.dat\"),\n",
    "                         write_phonon=os.path.join(\"outputs\", \"si_phonon.yaml\"))\n",
    "data = phonon_calc.calc(si_primitive)"
   ]
  },
  {
   "cell_type": "markdown",
   "id": "63295602",
   "metadata": {
    "slideshow": {
     "slide_type": "fragment"
    }
   },
   "source": [
    "Let's now plot the phonon dispersion."
   ]
  },
  {
   "cell_type": "code",
   "execution_count": 21,
   "id": "ff85f0b4",
   "metadata": {
    "slideshow": {
     "slide_type": "fragment"
    }
   },
   "outputs": [
    {
     "data": {
      "image/png": "[encoded data removed]",
      "text/plain": [
       "<Figure size 1600x500 with 2 Axes>"
      ]
     },
     "metadata": {},
     "output_type": "display_data"
    }
   ],
   "source": [
    "import matplotlib.pyplot as plt\n",
    "\n",
    "phonon_bs = data[\"phonon\"].band_structure  # get the phonon band structure\n",
    "\n",
    "# Plotting code below here -->\n",
    "n_axes = sum(1 for c in phonon_bs.path_connections if not c)\n",
    "# Create n_axes subplot(s) along 1 row\n",
    "fig, axs = plt.subplots(1, n_axes, figsize=(16, 5))\n",
    "# If only one axis is created, wrap it into a list\n",
    "if n_axes == 1:\n",
    "    axs = [axs]\n",
    "\n",
    "    # Remove y-axis labels & ticks from all but the first subplot\n",
    "for ax in axs[1:]:\n",
    "    ax.set_ylabel('')\n",
    "    ax.tick_params(axis='y', labelleft=False)\n",
    "\n",
    "phonon_bs.plot(ax=axs)\n",
    "fig.suptitle(\"Phonon Band Structure of Si\", fontsize=16)\n",
    "plt.subplots_adjust(wspace=0.02)  # Remove horizontal space so they almost touch\n",
    "plt.show()\n",
    "\n"
   ]
  },
  {
   "cell_type": "markdown",
   "id": "296d609c",
   "metadata": {
    "slideshow": {
     "slide_type": "fragment"
    }
   },
   "source": [
    "We can also plot the phonon density of states, or DOS."
   ]
  },
  {
   "cell_type": "code",
   "execution_count": 22,
   "id": "6d4460e9",
   "metadata": {
    "slideshow": {
     "slide_type": "fragment"
    }
   },
   "outputs": [
    {
     "data": {
      "image/png": "[encoded data removed]",
      "text/plain": [
       "<Figure size 800x500 with 1 Axes>"
      ]
     },
     "metadata": {},
     "output_type": "display_data"
    }
   ],
   "source": [
    "phonon_dos = data[\"phonon\"].total_dos\n",
    "\n",
    "fig, ax = plt.subplots(figsize=(8, 5))\n",
    "phonon_dos.plot(ax=ax)\n",
    "plt.title(\"Phonon Density of States of Si\", fontsize=16)\n",
    "plt.show()"
   ]
  },
  {
   "cell_type": "markdown",
   "id": "c1888d4e",
   "metadata": {
    "slideshow": {
     "slide_type": "fragment"
    }
   },
   "source": [
    "Finally, let's plot the vibrational heat capacity of the material.\n",
    "\n",
    "Note that the heat capacity is plotted in J/mol*K, where we are referring to **mols of the formula unit / molecule in the unit cell**. Since our unit cell contained 2 atoms of Si, this is the heat capacity per 2 mols of Si, not per mol of Si."
   ]
  },
  {
   "cell_type": "code",
   "execution_count": 23,
   "id": "bd26c663",
   "metadata": {
    "slideshow": {
     "slide_type": "fragment"
    }
   },
   "outputs": [
    {
     "data": {
      "image/png": "[encoded data removed]",
      "text/plain": [
       "<Figure size 640x480 with 1 Axes>"
      ]
     },
     "metadata": {},
     "output_type": "display_data"
    }
   ],
   "source": [
    "# plot the heat capacity\n",
    "import matplotlib.pyplot as plt\n",
    "plt.plot(data[\"thermal_properties\"][\"temperatures\"], data[\"thermal_properties\"][\"heat_capacity\"])\n",
    "plt.xlabel(\"Temperature (K)\")\n",
    "plt.ylabel(\"Heat Capacity (J/mol-K)\")\n",
    "plt.title(\"Heat Capacity vs Temperature\")\n",
    "plt.show()"
   ]
  },
  {
   "cell_type": "markdown",
   "id": "0cd33858",
   "metadata": {
    "slideshow": {
     "slide_type": "fragment"
    }
   },
   "source": [
    "All this thermal data can be compared, for example, to phonon data in the Materials Project: https://next-gen.materialsproject.org/materials/mp-149?material_ids=mp-149"
   ]
  },
  {
   "cell_type": "markdown",
   "id": "946b8156",
   "metadata": {
    "slideshow": {
     "slide_type": "slide"
    }
   },
   "source": [
    "# Task 4. Calculate 25 elastic tensors with parallelization\n",
    "\n",
    "The *matcalc* software includes basic facilities to parallelize individual calculations over various processing cores. This is as simple as replacing the ``calc()`` function in a Property Calculator with the ``calc_many()`` function, and providing a list of ``Structure`` objects instead of a single object.\n",
    "\n",
    "Let's use this functionality to calculate the elastic tensors of 25 materials in parallel."
   ]
  },
  {
   "cell_type": "markdown",
   "id": "3a956805",
   "metadata": {
    "slideshow": {
     "slide_type": "slide"
    }
   },
   "source": [
    "Let's first load 25 structures."
   ]
  },
  {
   "cell_type": "code",
   "execution_count": 24,
   "id": "a53ed699",
   "metadata": {
    "slideshow": {
     "slide_type": "fragment"
    }
   },
   "outputs": [
    {
     "name": "stdout",
     "output_type": "stream",
     "text": [
      "25\n"
     ]
    }
   ],
   "source": [
    "import glob\n",
    "\n",
    "# Find all .cif files in the \"cifs_mp\" folder\n",
    "cif_files = glob.glob(\"structures_batch/*.cif\")  # folder contains assorted crystal structures from Materials Project\n",
    "structures = []\n",
    "for cif_file in cif_files:\n",
    "    structures.append(Structure.from_file(cif_file))\n",
    "    \n",
    "print(len(structures))"
   ]
  },
  {
   "cell_type": "markdown",
   "id": "18610d38",
   "metadata": {
    "slideshow": {
     "slide_type": "fragment"
    }
   },
   "source": [
    "We can now use the ``calc_many()`` function of ``ElasticityCalc`` to calculate elastic moduli of all these materials. Note that casting the result to a list forces the calculatons to take place and ``njobs=-1`` tries to use all cores on your processor.\n",
    "\n",
    "We'll time how long it takes to calculate 25 elastic tensors using the ``%%time`` magic command."
   ]
  },
  {
   "cell_type": "code",
   "execution_count": 25,
   "id": "7deb2638",
   "metadata": {
    "slideshow": {
     "slide_type": "fragment"
    }
   },
   "outputs": [
    {
     "name": "stdout",
     "output_type": "stream",
     "text": [
      "CPU times: user 1.69 s, sys: 2.08 s, total: 3.77 s\n",
      "Wall time: 35.2 s\n"
     ]
    }
   ],
   "source": [
    "%%time\n",
    "\n",
    "from matcalc import ElasticityCalc\n",
    "elastic_calc = ElasticityCalc(calculator_pbe, relax_structure=True)\n",
    "elastic_data = list(elastic_calc.calc_many(structures, n_jobs=-1))"
   ]
  },
  {
   "cell_type": "markdown",
   "id": "797b393a",
   "metadata": {
    "slideshow": {
     "slide_type": "fragment"
    }
   },
   "source": [
    "Our 25 calculations are complete - let's now print out our results! Note that each item contains more data, we will just print out various elastic moduli instead of the full elastic tensor."
   ]
  },
  {
   "cell_type": "code",
   "execution_count": 26,
   "id": "058c8787",
   "metadata": {
    "slideshow": {
     "slide_type": "fragment"
    }
   },
   "outputs": [
    {
     "name": "stdout",
     "output_type": "stream",
     "text": [
      "structures_batch/Ba2N_mp-1892.cif\n",
      "--------\n",
      "Bulk modulus: 21.019393452075217 GPa\n",
      "Shear modulus: 10.642045780094772 GPa\n",
      "\n",
      "\n",
      "structures_batch/CdS_mp-672.cif\n",
      "--------\n",
      "Bulk modulus: 46.80262832599865 GPa\n",
      "Shear modulus: 27.537769217133842 GPa\n",
      "\n",
      "\n",
      "structures_batch/Al2O3_mp-1143.cif\n",
      "--------\n",
      "Bulk modulus: 198.09230774071423 GPa\n",
      "Shear modulus: 150.19815688007236 GPa\n",
      "\n",
      "\n",
      "structures_batch/SmAl4_mp-1891.cif\n",
      "--------\n",
      "Bulk modulus: 71.37122079892822 GPa\n",
      "Shear modulus: 38.18700059531556 GPa\n",
      "\n",
      "\n",
      "structures_batch/ZnSe_mp-380.cif\n",
      "--------\n",
      "Bulk modulus: 51.23322640987116 GPa\n",
      "Shear modulus: 33.24562164743751 GPa\n",
      "\n",
      "\n",
      "structures_batch/C_mp-48.cif\n",
      "--------\n",
      "Bulk modulus: 89.01828011246164 GPa\n",
      "Shear modulus: 87.61881132579116 GPa\n",
      "\n",
      "\n",
      "structures_batch/GaN_mp-830.cif\n",
      "--------\n",
      "Bulk modulus: 178.28346277592996 GPa\n",
      "Shear modulus: 115.8012382155711 GPa\n",
      "\n",
      "\n",
      "structures_batch/Si_mp-149.cif\n",
      "--------\n",
      "Bulk modulus: 102.08309799304168 GPa\n",
      "Shear modulus: 62.841137048476014 GPa\n",
      "\n",
      "\n",
      "structures_batch/SrTiO3_mp-4651.cif\n",
      "--------\n",
      "Bulk modulus: 143.4628071508531 GPa\n",
      "Shear modulus: 89.1791472442587 GPa\n",
      "\n",
      "\n",
      "structures_batch/BaTiO3_mp-5986.cif\n",
      "--------\n",
      "Bulk modulus: 141.7822304973488 GPa\n",
      "Shear modulus: 85.02938061189425 GPa\n",
      "\n",
      "\n",
      "structures_batch/C_mp-66.cif\n",
      "--------\n",
      "Bulk modulus: 263.83347942767006 GPa\n",
      "Shear modulus: 348.4766445837775 GPa\n",
      "\n",
      "\n",
      "structures_batch/SiC_mp-8062.cif\n",
      "--------\n",
      "Bulk modulus: 222.54483691032496 GPa\n",
      "Shear modulus: 192.8398513100649 GPa\n",
      "\n",
      "\n",
      "structures_batch/InP_mp-20351.cif\n",
      "--------\n",
      "Bulk modulus: 61.179933375572645 GPa\n",
      "Shear modulus: 39.03652232537461 GPa\n",
      "\n",
      "\n",
      "structures_batch/GaAs_mp-2534.cif\n",
      "--------\n",
      "Bulk modulus: 59.86380180892626 GPa\n",
      "Shear modulus: 43.52095651548618 GPa\n",
      "\n",
      "\n",
      "structures_batch/Ce_mp-64.cif\n",
      "--------\n",
      "Bulk modulus: 36.16231683837242 GPa\n",
      "Shear modulus: 16.79903662358401 GPa\n",
      "\n",
      "\n",
      "structures_batch/Pt_mp-126.cif\n",
      "--------\n",
      "Bulk modulus: 217.22087824221535 GPa\n",
      "Shear modulus: 61.813093641725715 GPa\n",
      "\n",
      "\n",
      "structures_batch/CdSe_mp-2691.cif\n",
      "--------\n",
      "Bulk modulus: 40.20138912079413 GPa\n",
      "Shear modulus: 17.087387892932522 GPa\n",
      "\n",
      "\n",
      "structures_batch/AlAs_mp-2172.cif\n",
      "--------\n",
      "Bulk modulus: 69.21134242972775 GPa\n",
      "Shear modulus: 50.138490945845646 GPa\n",
      "\n",
      "\n",
      "structures_batch/ZnO_mp-2133.cif\n",
      "--------\n",
      "Bulk modulus: 117.31192294075734 GPa\n",
      "Shear modulus: 65.11578532565974 GPa\n",
      "\n",
      "\n",
      "structures_batch/HgS_mp-634.cif\n",
      "--------\n",
      "Bulk modulus: 65.3054421189397 GPa\n",
      "Shear modulus: 17.854944405794864 GPa\n",
      "\n",
      "\n",
      "structures_batch/TiO2_mp-2657.cif\n",
      "--------\n",
      "Bulk modulus: 179.78915774810153 GPa\n",
      "Shear modulus: 85.23642926854843 GPa\n",
      "\n",
      "\n",
      "structures_batch/ReO3_mp-190.cif\n",
      "--------\n",
      "Bulk modulus: 226.70864574849404 GPa\n",
      "Shear modulus: 123.0673313755215 GPa\n",
      "\n",
      "\n",
      "structures_batch/SmNi5_mp-1075.cif\n",
      "--------\n",
      "Bulk modulus: 121.9334437119865 GPa\n",
      "Shear modulus: 59.73938467209122 GPa\n",
      "\n",
      "\n",
      "structures_batch/TiO2_mp-390.cif\n",
      "--------\n",
      "Bulk modulus: 170.15796683513332 GPa\n",
      "Shear modulus: 61.71047322116494 GPa\n",
      "\n",
      "\n",
      "structures_batch/LiFePO4_mp-19017.cif\n",
      "--------\n",
      "Bulk modulus: 137.40664127947892 GPa\n",
      "Shear modulus: 75.9523053244327 GPa\n",
      "\n",
      "\n"
     ]
    }
   ],
   "source": [
    "multiplier_GPa = 160.2176621  # unit conversions for eV/A^3 to GPa\n",
    "\n",
    "for idx, data_item in enumerate(elastic_data):\n",
    "    print(cif_files[idx])\n",
    "    print(\"--------\")\n",
    "    print(f\"Bulk modulus: {data_item['bulk_modulus_vrh'] * multiplier_GPa} GPa\")\n",
    "    print(f\"Shear modulus: {data_item['shear_modulus_vrh'] * multiplier_GPa} GPa\")\n",
    "    print(\"\\n\")"
   ]
  },
  {
   "cell_type": "markdown",
   "id": "87d0b63a",
   "metadata": {
    "slideshow": {
     "slide_type": "fragment"
    }
   },
   "source": [
    "These values can be compared against calculation in the Materials Project, for example: https://next-gen.materialsproject.org/materials/mp-149\n",
    "\n",
    "You can also get the full 3x3x3x3 (``C_ijkl``) elastic tensor (in eV/A^3) for any material."
   ]
  },
  {
   "cell_type": "code",
   "execution_count": 27,
   "id": "a9232ba4",
   "metadata": {},
   "outputs": [
    {
     "name": "stdout",
     "output_type": "stream",
     "text": [
      "structures_batch/Ba2N_mp-1892.cif\n",
      "Elastic tensor: [[[[ 0.20176708  0.0235839  -0.00488127]\n",
      "   [ 0.0235839   0.06850202  0.03194952]\n",
      "   [-0.00488127  0.03194952  0.09038621]]\n",
      "\n",
      "  [[ 0.02749681  0.09497243  0.02765486]\n",
      "   [ 0.09497243 -0.00901942 -0.00645332]\n",
      "   [ 0.02765486 -0.00645332 -0.00989119]]\n",
      "\n",
      "  [[-0.0076754   0.02455557  0.06382111]\n",
      "   [ 0.02455557  0.00690656 -0.01109607]\n",
      "   [ 0.06382111 -0.01109607  0.03343568]]]\n",
      "\n",
      "\n",
      " [[[ 0.02749681  0.09497243  0.02765486]\n",
      "   [ 0.09497243 -0.00901942 -0.00645332]\n",
      "   [ 0.02765486 -0.00645332 -0.00989119]]\n",
      "\n",
      "  [[ 0.06860355 -0.00770241  0.00870152]\n",
      "   [-0.00770241  0.1850039  -0.02955906]\n",
      "   [ 0.00870152 -0.02955906  0.09973242]]\n",
      "\n",
      "  [[ 0.03227963 -0.00327687 -0.01228661]\n",
      "   [-0.00327687 -0.03410392  0.07588488]\n",
      "   [-0.01228661  0.07588488  0.02067988]]]\n",
      "\n",
      "\n",
      " [[[-0.0076754   0.02455557  0.06382111]\n",
      "   [ 0.02455557  0.00690656 -0.01109607]\n",
      "   [ 0.06382111 -0.01109607  0.03343568]]\n",
      "\n",
      "  [[ 0.03227963 -0.00327687 -0.01228661]\n",
      "   [-0.00327687 -0.03410392  0.07588488]\n",
      "   [-0.01228661  0.07588488  0.02067988]]\n",
      "\n",
      "  [[ 0.09018069 -0.00889005  0.04082675]\n",
      "   [-0.00889005  0.09954549  0.0246391 ]\n",
      "   [ 0.04082675  0.0246391   0.33002169]]]]\n"
     ]
    }
   ],
   "source": [
    "print(cif_files[0])\n",
    "print(f\"Elastic tensor: {elastic_data[0]['elastic_tensor']}\")"
   ]
  },
  {
   "cell_type": "markdown",
   "id": "50d07108",
   "metadata": {
    "slideshow": {
     "slide_type": "slide"
    }
   },
   "source": [
    "# Other functionalities\n",
    "\n",
    "The *matcalc* code contains other functionalities, including:\n",
    "\n",
    "* additional property calculators, like nudged elastic band (NEB) activation energies, third order phonons, and molecular dynamics runs\n",
    "* basic workflow capabilities, such as defining a chain of calculators that can be re-used.\n",
    "\n",
    "To learn these functionalities, please check the official documentation at:\n",
    "* https://github.com/materialsvirtuallab/matcalc\n",
    "* https://matcalc.ai\n",
    "\n",
    "![NEB calc](graphics/neb.png \"NEB calculation\")\n"
   ]
  }
 ],
 "metadata": {
  "celltoolbar": "Slideshow",
  "kernelspec": {
   "display_name": ".venv",
   "language": "python",
   "name": "python3"
  },
  "language_info": {
   "codemirror_mode": {
    "name": "ipython",
    "version": 3
   },
   "file_extension": ".py",
   "mimetype": "text/x-python",
   "name": "python",
   "nbconvert_exporter": "python",
   "pygments_lexer": "ipython3",
   "version": "3.12.0"
  }
 },
 "nbformat": 4,
 "nbformat_minor": 5
}
